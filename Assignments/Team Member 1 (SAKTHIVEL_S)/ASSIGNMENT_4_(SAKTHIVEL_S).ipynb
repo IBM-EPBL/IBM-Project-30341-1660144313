{
  "nbformat": 4,
  "nbformat_minor": 0,
  "metadata": {
    "colab": {
      "provenance": []
    },
    "kernelspec": {
      "name": "python3",
      "display_name": "Python 3"
    },
    "language_info": {
      "name": "python"
    }
  },
  "cells": [
    {
      "cell_type": "code",
      "execution_count": null,
      "metadata": {
        "id": "Bts5WeDA5cBW"
      },
      "outputs": [],
      "source": [
        "import pandas as pd\n",
        "import numpy as np\n",
        "import matplotlib.pyplot as plt\n",
        "import seaborn as sns"
      ]
    },
    {
      "cell_type": "code",
      "source": [
        "data=pd.read_csv(\"Mall_Customers.csv\")\n",
        "data.head()"
      ],
      "metadata": {
        "colab": {
          "base_uri": "https://localhost:8080/",
          "height": 206
        },
        "id": "M0tMWZnb7N0W",
        "outputId": "3d26b0fc-07bb-417a-f55f-2b865e33e713"
      },
      "execution_count": null,
      "outputs": [
        {
          "output_type": "execute_result",
          "data": {
            "text/plain": [
              "   CustomerID  Gender  Age  Annual Income (k$)  Spending Score (1-100)\n",
              "0           1    Male   19                  15                      39\n",
              "1           2    Male   21                  15                      81\n",
              "2           3  Female   20                  16                       6\n",
              "3           4  Female   23                  16                      77\n",
              "4           5  Female   31                  17                      40"
            ],
            "text/html": [
              "\n",
              "  <div id=\"df-37635a9a-dd34-4211-93af-126d6b9817ed\">\n",
              "    <div class=\"colab-df-container\">\n",
              "      <div>\n",
              "<style scoped>\n",
              "    .dataframe tbody tr th:only-of-type {\n",
              "        vertical-align: middle;\n",
              "    }\n",
              "\n",
              "    .dataframe tbody tr th {\n",
              "        vertical-align: top;\n",
              "    }\n",
              "\n",
              "    .dataframe thead th {\n",
              "        text-align: right;\n",
              "    }\n",
              "</style>\n",
              "<table border=\"1\" class=\"dataframe\">\n",
              "  <thead>\n",
              "    <tr style=\"text-align: right;\">\n",
              "      <th></th>\n",
              "      <th>CustomerID</th>\n",
              "      <th>Gender</th>\n",
              "      <th>Age</th>\n",
              "      <th>Annual Income (k$)</th>\n",
              "      <th>Spending Score (1-100)</th>\n",
              "    </tr>\n",
              "  </thead>\n",
              "  <tbody>\n",
              "    <tr>\n",
              "      <th>0</th>\n",
              "      <td>1</td>\n",
              "      <td>Male</td>\n",
              "      <td>19</td>\n",
              "      <td>15</td>\n",
              "      <td>39</td>\n",
              "    </tr>\n",
              "    <tr>\n",
              "      <th>1</th>\n",
              "      <td>2</td>\n",
              "      <td>Male</td>\n",
              "      <td>21</td>\n",
              "      <td>15</td>\n",
              "      <td>81</td>\n",
              "    </tr>\n",
              "    <tr>\n",
              "      <th>2</th>\n",
              "      <td>3</td>\n",
              "      <td>Female</td>\n",
              "      <td>20</td>\n",
              "      <td>16</td>\n",
              "      <td>6</td>\n",
              "    </tr>\n",
              "    <tr>\n",
              "      <th>3</th>\n",
              "      <td>4</td>\n",
              "      <td>Female</td>\n",
              "      <td>23</td>\n",
              "      <td>16</td>\n",
              "      <td>77</td>\n",
              "    </tr>\n",
              "    <tr>\n",
              "      <th>4</th>\n",
              "      <td>5</td>\n",
              "      <td>Female</td>\n",
              "      <td>31</td>\n",
              "      <td>17</td>\n",
              "      <td>40</td>\n",
              "    </tr>\n",
              "  </tbody>\n",
              "</table>\n",
              "</div>\n",
              "      <button class=\"colab-df-convert\" onclick=\"convertToInteractive('df-37635a9a-dd34-4211-93af-126d6b9817ed')\"\n",
              "              title=\"Convert this dataframe to an interactive table.\"\n",
              "              style=\"display:none;\">\n",
              "        \n",
              "  <svg xmlns=\"http://www.w3.org/2000/svg\" height=\"24px\"viewBox=\"0 0 24 24\"\n",
              "       width=\"24px\">\n",
              "    <path d=\"M0 0h24v24H0V0z\" fill=\"none\"/>\n",
              "    <path d=\"M18.56 5.44l.94 2.06.94-2.06 2.06-.94-2.06-.94-.94-2.06-.94 2.06-2.06.94zm-11 1L8.5 8.5l.94-2.06 2.06-.94-2.06-.94L8.5 2.5l-.94 2.06-2.06.94zm10 10l.94 2.06.94-2.06 2.06-.94-2.06-.94-.94-2.06-.94 2.06-2.06.94z\"/><path d=\"M17.41 7.96l-1.37-1.37c-.4-.4-.92-.59-1.43-.59-.52 0-1.04.2-1.43.59L10.3 9.45l-7.72 7.72c-.78.78-.78 2.05 0 2.83L4 21.41c.39.39.9.59 1.41.59.51 0 1.02-.2 1.41-.59l7.78-7.78 2.81-2.81c.8-.78.8-2.07 0-2.86zM5.41 20L4 18.59l7.72-7.72 1.47 1.35L5.41 20z\"/>\n",
              "  </svg>\n",
              "      </button>\n",
              "      \n",
              "  <style>\n",
              "    .colab-df-container {\n",
              "      display:flex;\n",
              "      flex-wrap:wrap;\n",
              "      gap: 12px;\n",
              "    }\n",
              "\n",
              "    .colab-df-convert {\n",
              "      background-color: #E8F0FE;\n",
              "      border: none;\n",
              "      border-radius: 50%;\n",
              "      cursor: pointer;\n",
              "      display: none;\n",
              "      fill: #1967D2;\n",
              "      height: 32px;\n",
              "      padding: 0 0 0 0;\n",
              "      width: 32px;\n",
              "    }\n",
              "\n",
              "    .colab-df-convert:hover {\n",
              "      background-color: #E2EBFA;\n",
              "      box-shadow: 0px 1px 2px rgba(60, 64, 67, 0.3), 0px 1px 3px 1px rgba(60, 64, 67, 0.15);\n",
              "      fill: #174EA6;\n",
              "    }\n",
              "\n",
              "    [theme=dark] .colab-df-convert {\n",
              "      background-color: #3B4455;\n",
              "      fill: #D2E3FC;\n",
              "    }\n",
              "\n",
              "    [theme=dark] .colab-df-convert:hover {\n",
              "      background-color: #434B5C;\n",
              "      box-shadow: 0px 1px 3px 1px rgba(0, 0, 0, 0.15);\n",
              "      filter: drop-shadow(0px 1px 2px rgba(0, 0, 0, 0.3));\n",
              "      fill: #FFFFFF;\n",
              "    }\n",
              "  </style>\n",
              "\n",
              "      <script>\n",
              "        const buttonEl =\n",
              "          document.querySelector('#df-37635a9a-dd34-4211-93af-126d6b9817ed button.colab-df-convert');\n",
              "        buttonEl.style.display =\n",
              "          google.colab.kernel.accessAllowed ? 'block' : 'none';\n",
              "\n",
              "        async function convertToInteractive(key) {\n",
              "          const element = document.querySelector('#df-37635a9a-dd34-4211-93af-126d6b9817ed');\n",
              "          const dataTable =\n",
              "            await google.colab.kernel.invokeFunction('convertToInteractive',\n",
              "                                                     [key], {});\n",
              "          if (!dataTable) return;\n",
              "\n",
              "          const docLinkHtml = 'Like what you see? Visit the ' +\n",
              "            '<a target=\"_blank\" href=https://colab.research.google.com/notebooks/data_table.ipynb>data table notebook</a>'\n",
              "            + ' to learn more about interactive tables.';\n",
              "          element.innerHTML = '';\n",
              "          dataTable['output_type'] = 'display_data';\n",
              "          await google.colab.output.renderOutput(dataTable, element);\n",
              "          const docLink = document.createElement('div');\n",
              "          docLink.innerHTML = docLinkHtml;\n",
              "          element.appendChild(docLink);\n",
              "        }\n",
              "      </script>\n",
              "    </div>\n",
              "  </div>\n",
              "  "
            ]
          },
          "metadata": {},
          "execution_count": 3
        }
      ]
    },
    {
      "cell_type": "code",
      "source": [
        "df=pd.DataFrame(data)\n",
        "df.describe()"
      ],
      "metadata": {
        "id": "sjA1HngC-kqD",
        "outputId": "412561c4-681e-49e6-80ef-935630c445b1",
        "colab": {
          "base_uri": "https://localhost:8080/",
          "height": 300
        }
      },
      "execution_count": null,
      "outputs": [
        {
          "output_type": "execute_result",
          "data": {
            "text/plain": [
              "       CustomerID         Age  Annual Income (k$)  Spending Score (1-100)\n",
              "count  200.000000  200.000000          200.000000              200.000000\n",
              "mean   100.500000   38.850000           60.560000               50.200000\n",
              "std     57.879185   13.969007           26.264721               25.823522\n",
              "min      1.000000   18.000000           15.000000                1.000000\n",
              "25%     50.750000   28.750000           41.500000               34.750000\n",
              "50%    100.500000   36.000000           61.500000               50.000000\n",
              "75%    150.250000   49.000000           78.000000               73.000000\n",
              "max    200.000000   70.000000          137.000000               99.000000"
            ],
            "text/html": [
              "\n",
              "  <div id=\"df-4b4ca6ae-7e02-4717-b431-1735cd97ad37\">\n",
              "    <div class=\"colab-df-container\">\n",
              "      <div>\n",
              "<style scoped>\n",
              "    .dataframe tbody tr th:only-of-type {\n",
              "        vertical-align: middle;\n",
              "    }\n",
              "\n",
              "    .dataframe tbody tr th {\n",
              "        vertical-align: top;\n",
              "    }\n",
              "\n",
              "    .dataframe thead th {\n",
              "        text-align: right;\n",
              "    }\n",
              "</style>\n",
              "<table border=\"1\" class=\"dataframe\">\n",
              "  <thead>\n",
              "    <tr style=\"text-align: right;\">\n",
              "      <th></th>\n",
              "      <th>CustomerID</th>\n",
              "      <th>Age</th>\n",
              "      <th>Annual Income (k$)</th>\n",
              "      <th>Spending Score (1-100)</th>\n",
              "    </tr>\n",
              "  </thead>\n",
              "  <tbody>\n",
              "    <tr>\n",
              "      <th>count</th>\n",
              "      <td>200.000000</td>\n",
              "      <td>200.000000</td>\n",
              "      <td>200.000000</td>\n",
              "      <td>200.000000</td>\n",
              "    </tr>\n",
              "    <tr>\n",
              "      <th>mean</th>\n",
              "      <td>100.500000</td>\n",
              "      <td>38.850000</td>\n",
              "      <td>60.560000</td>\n",
              "      <td>50.200000</td>\n",
              "    </tr>\n",
              "    <tr>\n",
              "      <th>std</th>\n",
              "      <td>57.879185</td>\n",
              "      <td>13.969007</td>\n",
              "      <td>26.264721</td>\n",
              "      <td>25.823522</td>\n",
              "    </tr>\n",
              "    <tr>\n",
              "      <th>min</th>\n",
              "      <td>1.000000</td>\n",
              "      <td>18.000000</td>\n",
              "      <td>15.000000</td>\n",
              "      <td>1.000000</td>\n",
              "    </tr>\n",
              "    <tr>\n",
              "      <th>25%</th>\n",
              "      <td>50.750000</td>\n",
              "      <td>28.750000</td>\n",
              "      <td>41.500000</td>\n",
              "      <td>34.750000</td>\n",
              "    </tr>\n",
              "    <tr>\n",
              "      <th>50%</th>\n",
              "      <td>100.500000</td>\n",
              "      <td>36.000000</td>\n",
              "      <td>61.500000</td>\n",
              "      <td>50.000000</td>\n",
              "    </tr>\n",
              "    <tr>\n",
              "      <th>75%</th>\n",
              "      <td>150.250000</td>\n",
              "      <td>49.000000</td>\n",
              "      <td>78.000000</td>\n",
              "      <td>73.000000</td>\n",
              "    </tr>\n",
              "    <tr>\n",
              "      <th>max</th>\n",
              "      <td>200.000000</td>\n",
              "      <td>70.000000</td>\n",
              "      <td>137.000000</td>\n",
              "      <td>99.000000</td>\n",
              "    </tr>\n",
              "  </tbody>\n",
              "</table>\n",
              "</div>\n",
              "      <button class=\"colab-df-convert\" onclick=\"convertToInteractive('df-4b4ca6ae-7e02-4717-b431-1735cd97ad37')\"\n",
              "              title=\"Convert this dataframe to an interactive table.\"\n",
              "              style=\"display:none;\">\n",
              "        \n",
              "  <svg xmlns=\"http://www.w3.org/2000/svg\" height=\"24px\"viewBox=\"0 0 24 24\"\n",
              "       width=\"24px\">\n",
              "    <path d=\"M0 0h24v24H0V0z\" fill=\"none\"/>\n",
              "    <path d=\"M18.56 5.44l.94 2.06.94-2.06 2.06-.94-2.06-.94-.94-2.06-.94 2.06-2.06.94zm-11 1L8.5 8.5l.94-2.06 2.06-.94-2.06-.94L8.5 2.5l-.94 2.06-2.06.94zm10 10l.94 2.06.94-2.06 2.06-.94-2.06-.94-.94-2.06-.94 2.06-2.06.94z\"/><path d=\"M17.41 7.96l-1.37-1.37c-.4-.4-.92-.59-1.43-.59-.52 0-1.04.2-1.43.59L10.3 9.45l-7.72 7.72c-.78.78-.78 2.05 0 2.83L4 21.41c.39.39.9.59 1.41.59.51 0 1.02-.2 1.41-.59l7.78-7.78 2.81-2.81c.8-.78.8-2.07 0-2.86zM5.41 20L4 18.59l7.72-7.72 1.47 1.35L5.41 20z\"/>\n",
              "  </svg>\n",
              "      </button>\n",
              "      \n",
              "  <style>\n",
              "    .colab-df-container {\n",
              "      display:flex;\n",
              "      flex-wrap:wrap;\n",
              "      gap: 12px;\n",
              "    }\n",
              "\n",
              "    .colab-df-convert {\n",
              "      background-color: #E8F0FE;\n",
              "      border: none;\n",
              "      border-radius: 50%;\n",
              "      cursor: pointer;\n",
              "      display: none;\n",
              "      fill: #1967D2;\n",
              "      height: 32px;\n",
              "      padding: 0 0 0 0;\n",
              "      width: 32px;\n",
              "    }\n",
              "\n",
              "    .colab-df-convert:hover {\n",
              "      background-color: #E2EBFA;\n",
              "      box-shadow: 0px 1px 2px rgba(60, 64, 67, 0.3), 0px 1px 3px 1px rgba(60, 64, 67, 0.15);\n",
              "      fill: #174EA6;\n",
              "    }\n",
              "\n",
              "    [theme=dark] .colab-df-convert {\n",
              "      background-color: #3B4455;\n",
              "      fill: #D2E3FC;\n",
              "    }\n",
              "\n",
              "    [theme=dark] .colab-df-convert:hover {\n",
              "      background-color: #434B5C;\n",
              "      box-shadow: 0px 1px 3px 1px rgba(0, 0, 0, 0.15);\n",
              "      filter: drop-shadow(0px 1px 2px rgba(0, 0, 0, 0.3));\n",
              "      fill: #FFFFFF;\n",
              "    }\n",
              "  </style>\n",
              "\n",
              "      <script>\n",
              "        const buttonEl =\n",
              "          document.querySelector('#df-4b4ca6ae-7e02-4717-b431-1735cd97ad37 button.colab-df-convert');\n",
              "        buttonEl.style.display =\n",
              "          google.colab.kernel.accessAllowed ? 'block' : 'none';\n",
              "\n",
              "        async function convertToInteractive(key) {\n",
              "          const element = document.querySelector('#df-4b4ca6ae-7e02-4717-b431-1735cd97ad37');\n",
              "          const dataTable =\n",
              "            await google.colab.kernel.invokeFunction('convertToInteractive',\n",
              "                                                     [key], {});\n",
              "          if (!dataTable) return;\n",
              "\n",
              "          const docLinkHtml = 'Like what you see? Visit the ' +\n",
              "            '<a target=\"_blank\" href=https://colab.research.google.com/notebooks/data_table.ipynb>data table notebook</a>'\n",
              "            + ' to learn more about interactive tables.';\n",
              "          element.innerHTML = '';\n",
              "          dataTable['output_type'] = 'display_data';\n",
              "          await google.colab.output.renderOutput(dataTable, element);\n",
              "          const docLink = document.createElement('div');\n",
              "          docLink.innerHTML = docLinkHtml;\n",
              "          element.appendChild(docLink);\n",
              "        }\n",
              "      </script>\n",
              "    </div>\n",
              "  </div>\n",
              "  "
            ]
          },
          "metadata": {},
          "execution_count": 4
        }
      ]
    },
    {
      "cell_type": "code",
      "source": [
        "df=df.drop([\"CustomerID\"],axis=1)\n",
        "df.isnull()"
      ],
      "metadata": {
        "colab": {
          "base_uri": "https://localhost:8080/",
          "height": 424
        },
        "id": "R1Sd_Ch__Bzn",
        "outputId": "b39ecd43-8399-4147-b805-946ade7d509c"
      },
      "execution_count": 5,
      "outputs": [
        {
          "output_type": "execute_result",
          "data": {
            "text/plain": [
              "     Gender    Age  Annual Income (k$)  Spending Score (1-100)\n",
              "0     False  False               False                   False\n",
              "1     False  False               False                   False\n",
              "2     False  False               False                   False\n",
              "3     False  False               False                   False\n",
              "4     False  False               False                   False\n",
              "..      ...    ...                 ...                     ...\n",
              "195   False  False               False                   False\n",
              "196   False  False               False                   False\n",
              "197   False  False               False                   False\n",
              "198   False  False               False                   False\n",
              "199   False  False               False                   False\n",
              "\n",
              "[200 rows x 4 columns]"
            ],
            "text/html": [
              "\n",
              "  <div id=\"df-5f44f9e9-2569-4384-a79e-be2d6a191fe6\">\n",
              "    <div class=\"colab-df-container\">\n",
              "      <div>\n",
              "<style scoped>\n",
              "    .dataframe tbody tr th:only-of-type {\n",
              "        vertical-align: middle;\n",
              "    }\n",
              "\n",
              "    .dataframe tbody tr th {\n",
              "        vertical-align: top;\n",
              "    }\n",
              "\n",
              "    .dataframe thead th {\n",
              "        text-align: right;\n",
              "    }\n",
              "</style>\n",
              "<table border=\"1\" class=\"dataframe\">\n",
              "  <thead>\n",
              "    <tr style=\"text-align: right;\">\n",
              "      <th></th>\n",
              "      <th>Gender</th>\n",
              "      <th>Age</th>\n",
              "      <th>Annual Income (k$)</th>\n",
              "      <th>Spending Score (1-100)</th>\n",
              "    </tr>\n",
              "  </thead>\n",
              "  <tbody>\n",
              "    <tr>\n",
              "      <th>0</th>\n",
              "      <td>False</td>\n",
              "      <td>False</td>\n",
              "      <td>False</td>\n",
              "      <td>False</td>\n",
              "    </tr>\n",
              "    <tr>\n",
              "      <th>1</th>\n",
              "      <td>False</td>\n",
              "      <td>False</td>\n",
              "      <td>False</td>\n",
              "      <td>False</td>\n",
              "    </tr>\n",
              "    <tr>\n",
              "      <th>2</th>\n",
              "      <td>False</td>\n",
              "      <td>False</td>\n",
              "      <td>False</td>\n",
              "      <td>False</td>\n",
              "    </tr>\n",
              "    <tr>\n",
              "      <th>3</th>\n",
              "      <td>False</td>\n",
              "      <td>False</td>\n",
              "      <td>False</td>\n",
              "      <td>False</td>\n",
              "    </tr>\n",
              "    <tr>\n",
              "      <th>4</th>\n",
              "      <td>False</td>\n",
              "      <td>False</td>\n",
              "      <td>False</td>\n",
              "      <td>False</td>\n",
              "    </tr>\n",
              "    <tr>\n",
              "      <th>...</th>\n",
              "      <td>...</td>\n",
              "      <td>...</td>\n",
              "      <td>...</td>\n",
              "      <td>...</td>\n",
              "    </tr>\n",
              "    <tr>\n",
              "      <th>195</th>\n",
              "      <td>False</td>\n",
              "      <td>False</td>\n",
              "      <td>False</td>\n",
              "      <td>False</td>\n",
              "    </tr>\n",
              "    <tr>\n",
              "      <th>196</th>\n",
              "      <td>False</td>\n",
              "      <td>False</td>\n",
              "      <td>False</td>\n",
              "      <td>False</td>\n",
              "    </tr>\n",
              "    <tr>\n",
              "      <th>197</th>\n",
              "      <td>False</td>\n",
              "      <td>False</td>\n",
              "      <td>False</td>\n",
              "      <td>False</td>\n",
              "    </tr>\n",
              "    <tr>\n",
              "      <th>198</th>\n",
              "      <td>False</td>\n",
              "      <td>False</td>\n",
              "      <td>False</td>\n",
              "      <td>False</td>\n",
              "    </tr>\n",
              "    <tr>\n",
              "      <th>199</th>\n",
              "      <td>False</td>\n",
              "      <td>False</td>\n",
              "      <td>False</td>\n",
              "      <td>False</td>\n",
              "    </tr>\n",
              "  </tbody>\n",
              "</table>\n",
              "<p>200 rows × 4 columns</p>\n",
              "</div>\n",
              "      <button class=\"colab-df-convert\" onclick=\"convertToInteractive('df-5f44f9e9-2569-4384-a79e-be2d6a191fe6')\"\n",
              "              title=\"Convert this dataframe to an interactive table.\"\n",
              "              style=\"display:none;\">\n",
              "        \n",
              "  <svg xmlns=\"http://www.w3.org/2000/svg\" height=\"24px\"viewBox=\"0 0 24 24\"\n",
              "       width=\"24px\">\n",
              "    <path d=\"M0 0h24v24H0V0z\" fill=\"none\"/>\n",
              "    <path d=\"M18.56 5.44l.94 2.06.94-2.06 2.06-.94-2.06-.94-.94-2.06-.94 2.06-2.06.94zm-11 1L8.5 8.5l.94-2.06 2.06-.94-2.06-.94L8.5 2.5l-.94 2.06-2.06.94zm10 10l.94 2.06.94-2.06 2.06-.94-2.06-.94-.94-2.06-.94 2.06-2.06.94z\"/><path d=\"M17.41 7.96l-1.37-1.37c-.4-.4-.92-.59-1.43-.59-.52 0-1.04.2-1.43.59L10.3 9.45l-7.72 7.72c-.78.78-.78 2.05 0 2.83L4 21.41c.39.39.9.59 1.41.59.51 0 1.02-.2 1.41-.59l7.78-7.78 2.81-2.81c.8-.78.8-2.07 0-2.86zM5.41 20L4 18.59l7.72-7.72 1.47 1.35L5.41 20z\"/>\n",
              "  </svg>\n",
              "      </button>\n",
              "      \n",
              "  <style>\n",
              "    .colab-df-container {\n",
              "      display:flex;\n",
              "      flex-wrap:wrap;\n",
              "      gap: 12px;\n",
              "    }\n",
              "\n",
              "    .colab-df-convert {\n",
              "      background-color: #E8F0FE;\n",
              "      border: none;\n",
              "      border-radius: 50%;\n",
              "      cursor: pointer;\n",
              "      display: none;\n",
              "      fill: #1967D2;\n",
              "      height: 32px;\n",
              "      padding: 0 0 0 0;\n",
              "      width: 32px;\n",
              "    }\n",
              "\n",
              "    .colab-df-convert:hover {\n",
              "      background-color: #E2EBFA;\n",
              "      box-shadow: 0px 1px 2px rgba(60, 64, 67, 0.3), 0px 1px 3px 1px rgba(60, 64, 67, 0.15);\n",
              "      fill: #174EA6;\n",
              "    }\n",
              "\n",
              "    [theme=dark] .colab-df-convert {\n",
              "      background-color: #3B4455;\n",
              "      fill: #D2E3FC;\n",
              "    }\n",
              "\n",
              "    [theme=dark] .colab-df-convert:hover {\n",
              "      background-color: #434B5C;\n",
              "      box-shadow: 0px 1px 3px 1px rgba(0, 0, 0, 0.15);\n",
              "      filter: drop-shadow(0px 1px 2px rgba(0, 0, 0, 0.3));\n",
              "      fill: #FFFFFF;\n",
              "    }\n",
              "  </style>\n",
              "\n",
              "      <script>\n",
              "        const buttonEl =\n",
              "          document.querySelector('#df-5f44f9e9-2569-4384-a79e-be2d6a191fe6 button.colab-df-convert');\n",
              "        buttonEl.style.display =\n",
              "          google.colab.kernel.accessAllowed ? 'block' : 'none';\n",
              "\n",
              "        async function convertToInteractive(key) {\n",
              "          const element = document.querySelector('#df-5f44f9e9-2569-4384-a79e-be2d6a191fe6');\n",
              "          const dataTable =\n",
              "            await google.colab.kernel.invokeFunction('convertToInteractive',\n",
              "                                                     [key], {});\n",
              "          if (!dataTable) return;\n",
              "\n",
              "          const docLinkHtml = 'Like what you see? Visit the ' +\n",
              "            '<a target=\"_blank\" href=https://colab.research.google.com/notebooks/data_table.ipynb>data table notebook</a>'\n",
              "            + ' to learn more about interactive tables.';\n",
              "          element.innerHTML = '';\n",
              "          dataTable['output_type'] = 'display_data';\n",
              "          await google.colab.output.renderOutput(dataTable, element);\n",
              "          const docLink = document.createElement('div');\n",
              "          docLink.innerHTML = docLinkHtml;\n",
              "          element.appendChild(docLink);\n",
              "        }\n",
              "      </script>\n",
              "    </div>\n",
              "  </div>\n",
              "  "
            ]
          },
          "metadata": {},
          "execution_count": 5
        }
      ]
    },
    {
      "cell_type": "code",
      "source": [
        "df.isna().sum()"
      ],
      "metadata": {
        "colab": {
          "base_uri": "https://localhost:8080/"
        },
        "id": "UfoMkByDAWA8",
        "outputId": "fb7d9c55-ff05-4d9e-ccb5-e36b888e28dc"
      },
      "execution_count": 6,
      "outputs": [
        {
          "output_type": "execute_result",
          "data": {
            "text/plain": [
              "Gender                    0\n",
              "Age                       0\n",
              "Annual Income (k$)        0\n",
              "Spending Score (1-100)    0\n",
              "dtype: int64"
            ]
          },
          "metadata": {},
          "execution_count": 6
        }
      ]
    },
    {
      "cell_type": "code",
      "source": [
        "df.corr()"
      ],
      "metadata": {
        "colab": {
          "base_uri": "https://localhost:8080/",
          "height": 143
        },
        "id": "HL8hdd3iAmhF",
        "outputId": "66fe9776-1e43-4622-943e-34548b554632"
      },
      "execution_count": 7,
      "outputs": [
        {
          "output_type": "execute_result",
          "data": {
            "text/plain": [
              "                             Age  Annual Income (k$)  Spending Score (1-100)\n",
              "Age                     1.000000           -0.012398               -0.327227\n",
              "Annual Income (k$)     -0.012398            1.000000                0.009903\n",
              "Spending Score (1-100) -0.327227            0.009903                1.000000"
            ],
            "text/html": [
              "\n",
              "  <div id=\"df-0f10aed2-9b6d-4d96-b3b5-e9d7489d8915\">\n",
              "    <div class=\"colab-df-container\">\n",
              "      <div>\n",
              "<style scoped>\n",
              "    .dataframe tbody tr th:only-of-type {\n",
              "        vertical-align: middle;\n",
              "    }\n",
              "\n",
              "    .dataframe tbody tr th {\n",
              "        vertical-align: top;\n",
              "    }\n",
              "\n",
              "    .dataframe thead th {\n",
              "        text-align: right;\n",
              "    }\n",
              "</style>\n",
              "<table border=\"1\" class=\"dataframe\">\n",
              "  <thead>\n",
              "    <tr style=\"text-align: right;\">\n",
              "      <th></th>\n",
              "      <th>Age</th>\n",
              "      <th>Annual Income (k$)</th>\n",
              "      <th>Spending Score (1-100)</th>\n",
              "    </tr>\n",
              "  </thead>\n",
              "  <tbody>\n",
              "    <tr>\n",
              "      <th>Age</th>\n",
              "      <td>1.000000</td>\n",
              "      <td>-0.012398</td>\n",
              "      <td>-0.327227</td>\n",
              "    </tr>\n",
              "    <tr>\n",
              "      <th>Annual Income (k$)</th>\n",
              "      <td>-0.012398</td>\n",
              "      <td>1.000000</td>\n",
              "      <td>0.009903</td>\n",
              "    </tr>\n",
              "    <tr>\n",
              "      <th>Spending Score (1-100)</th>\n",
              "      <td>-0.327227</td>\n",
              "      <td>0.009903</td>\n",
              "      <td>1.000000</td>\n",
              "    </tr>\n",
              "  </tbody>\n",
              "</table>\n",
              "</div>\n",
              "      <button class=\"colab-df-convert\" onclick=\"convertToInteractive('df-0f10aed2-9b6d-4d96-b3b5-e9d7489d8915')\"\n",
              "              title=\"Convert this dataframe to an interactive table.\"\n",
              "              style=\"display:none;\">\n",
              "        \n",
              "  <svg xmlns=\"http://www.w3.org/2000/svg\" height=\"24px\"viewBox=\"0 0 24 24\"\n",
              "       width=\"24px\">\n",
              "    <path d=\"M0 0h24v24H0V0z\" fill=\"none\"/>\n",
              "    <path d=\"M18.56 5.44l.94 2.06.94-2.06 2.06-.94-2.06-.94-.94-2.06-.94 2.06-2.06.94zm-11 1L8.5 8.5l.94-2.06 2.06-.94-2.06-.94L8.5 2.5l-.94 2.06-2.06.94zm10 10l.94 2.06.94-2.06 2.06-.94-2.06-.94-.94-2.06-.94 2.06-2.06.94z\"/><path d=\"M17.41 7.96l-1.37-1.37c-.4-.4-.92-.59-1.43-.59-.52 0-1.04.2-1.43.59L10.3 9.45l-7.72 7.72c-.78.78-.78 2.05 0 2.83L4 21.41c.39.39.9.59 1.41.59.51 0 1.02-.2 1.41-.59l7.78-7.78 2.81-2.81c.8-.78.8-2.07 0-2.86zM5.41 20L4 18.59l7.72-7.72 1.47 1.35L5.41 20z\"/>\n",
              "  </svg>\n",
              "      </button>\n",
              "      \n",
              "  <style>\n",
              "    .colab-df-container {\n",
              "      display:flex;\n",
              "      flex-wrap:wrap;\n",
              "      gap: 12px;\n",
              "    }\n",
              "\n",
              "    .colab-df-convert {\n",
              "      background-color: #E8F0FE;\n",
              "      border: none;\n",
              "      border-radius: 50%;\n",
              "      cursor: pointer;\n",
              "      display: none;\n",
              "      fill: #1967D2;\n",
              "      height: 32px;\n",
              "      padding: 0 0 0 0;\n",
              "      width: 32px;\n",
              "    }\n",
              "\n",
              "    .colab-df-convert:hover {\n",
              "      background-color: #E2EBFA;\n",
              "      box-shadow: 0px 1px 2px rgba(60, 64, 67, 0.3), 0px 1px 3px 1px rgba(60, 64, 67, 0.15);\n",
              "      fill: #174EA6;\n",
              "    }\n",
              "\n",
              "    [theme=dark] .colab-df-convert {\n",
              "      background-color: #3B4455;\n",
              "      fill: #D2E3FC;\n",
              "    }\n",
              "\n",
              "    [theme=dark] .colab-df-convert:hover {\n",
              "      background-color: #434B5C;\n",
              "      box-shadow: 0px 1px 3px 1px rgba(0, 0, 0, 0.15);\n",
              "      filter: drop-shadow(0px 1px 2px rgba(0, 0, 0, 0.3));\n",
              "      fill: #FFFFFF;\n",
              "    }\n",
              "  </style>\n",
              "\n",
              "      <script>\n",
              "        const buttonEl =\n",
              "          document.querySelector('#df-0f10aed2-9b6d-4d96-b3b5-e9d7489d8915 button.colab-df-convert');\n",
              "        buttonEl.style.display =\n",
              "          google.colab.kernel.accessAllowed ? 'block' : 'none';\n",
              "\n",
              "        async function convertToInteractive(key) {\n",
              "          const element = document.querySelector('#df-0f10aed2-9b6d-4d96-b3b5-e9d7489d8915');\n",
              "          const dataTable =\n",
              "            await google.colab.kernel.invokeFunction('convertToInteractive',\n",
              "                                                     [key], {});\n",
              "          if (!dataTable) return;\n",
              "\n",
              "          const docLinkHtml = 'Like what you see? Visit the ' +\n",
              "            '<a target=\"_blank\" href=https://colab.research.google.com/notebooks/data_table.ipynb>data table notebook</a>'\n",
              "            + ' to learn more about interactive tables.';\n",
              "          element.innerHTML = '';\n",
              "          dataTable['output_type'] = 'display_data';\n",
              "          await google.colab.output.renderOutput(dataTable, element);\n",
              "          const docLink = document.createElement('div');\n",
              "          docLink.innerHTML = docLinkHtml;\n",
              "          element.appendChild(docLink);\n",
              "        }\n",
              "      </script>\n",
              "    </div>\n",
              "  </div>\n",
              "  "
            ]
          },
          "metadata": {},
          "execution_count": 7
        }
      ]
    },
    {
      "cell_type": "code",
      "source": [
        "sns.heatmap(df.corr(),annot=True)"
      ],
      "metadata": {
        "colab": {
          "base_uri": "https://localhost:8080/",
          "height": 394
        },
        "id": "JxjnE8VBM-e3",
        "outputId": "a1966880-3d05-4b42-990a-fa12ba707f74"
      },
      "execution_count": 39,
      "outputs": [
        {
          "output_type": "execute_result",
          "data": {
            "text/plain": [
              "<matplotlib.axes._subplots.AxesSubplot at 0x7f263a6ecd50>"
            ]
          },
          "metadata": {},
          "execution_count": 39
        },
        {
          "output_type": "display_data",
          "data": {
            "text/plain": [
              "<Figure size 432x288 with 2 Axes>"
            ],
            "image/png": "[encoded data removed]"
          },
          "metadata": {
            "needs_background": "light"
          }
        }
      ]
    },
    {
      "cell_type": "markdown",
      "source": [
        "Mivariate Analysis"
      ],
      "metadata": {
        "id": "lxi8Y5I-AsG3"
      }
    },
    {
      "cell_type": "code",
      "source": [
        "sns.pairplot(df)"
      ],
      "metadata": {
        "colab": {
          "base_uri": "https://localhost:8080/",
          "height": 567
        },
        "id": "8dwp6R2xAyDN",
        "outputId": "dd255b96-72ad-4574-c5a3-d7b707eab9a3"
      },
      "execution_count": 8,
      "outputs": [
        {
          "output_type": "execute_result",
          "data": {
            "text/plain": [
              "<seaborn.axisgrid.PairGrid at 0x7f2641bbe6d0>"
            ]
          },
          "metadata": {},
          "execution_count": 8
        },
        {
          "output_type": "display_data",
          "data": {
            "text/plain": [
              "<Figure size 540x540 with 12 Axes>"
            ],
            "image/png": "[encoded data removed]"
          },
          "metadata": {
            "needs_background": "light"
          }
        }
      ]
    },
    {
      "cell_type": "markdown",
      "source": [
        "Univariate Analysis of Continous Variables"
      ],
      "metadata": {
        "id": "YJVnZ6rVBIFU"
      }
    },
    {
      "cell_type": "code",
      "source": [
        "l=list(df.columns)\n",
        "l1=l[1:]\n",
        "for i in range(len(l1)):\n",
        "  plt.subplot(4,2,i+1)\n",
        "  sns.histplot(df[l1[i]])\n",
        "  plt.title(f'{l1[i]}')"
      ],
      "metadata": {
        "colab": {
          "base_uri": "https://localhost:8080/",
          "height": 182
        },
        "id": "0Se8SW7PA_L4",
        "outputId": "7578c370-b07e-4190-b1ac-138e04b8390c"
      },
      "execution_count": 9,
      "outputs": [
        {
          "output_type": "display_data",
          "data": {
            "text/plain": [
              "<Figure size 432x288 with 3 Axes>"
            ],
            "image/png": "[encoded data removed]"
          },
          "metadata": {
            "needs_background": "light"
          }
        }
      ]
    },
    {
      "cell_type": "markdown",
      "source": [
        "#Univariate Analysis of Categorical Values\n"
      ],
      "metadata": {
        "id": "xxtCQoqPBRsy"
      }
    },
    {
      "cell_type": "code",
      "source": [
        "sns.countplot(df['Gender'])\n",
        "plt.title('Gender')\n"
      ],
      "metadata": {
        "colab": {
          "base_uri": "https://localhost:8080/",
          "height": 367
        },
        "id": "fFOsUdExJmfe",
        "outputId": "4eda295d-c907-48e6-f2ea-ff6c26c7796a"
      },
      "execution_count": 24,
      "outputs": [
        {
          "output_type": "stream",
          "name": "stderr",
          "text": [
            "/usr/local/lib/python3.7/dist-packages/seaborn/_decorators.py:43: FutureWarning: Pass the following variable as a keyword arg: x. From version 0.12, the only valid positional argument will be `data`, and passing other arguments without an explicit keyword will result in an error or misinterpretation.\n",
            "  FutureWarning\n"
          ]
        },
        {
          "output_type": "execute_result",
          "data": {
            "text/plain": [
              "Text(0.5, 1.0, 'Gender')"
            ]
          },
          "metadata": {},
          "execution_count": 24
        },
        {
          "output_type": "display_data",
          "data": {
            "text/plain": [
              "<Figure size 432x288 with 1 Axes>"
            ],
            "image/png": "[encoded data removed]"
          },
          "metadata": {
            "needs_background": "light"
          }
        }
      ]
    },
    {
      "cell_type": "markdown",
      "source": [
        "#Bivariate Analysis of Continous Variables"
      ],
      "metadata": {
        "id": "EZVMqo84DD_J"
      }
    },
    {
      "cell_type": "code",
      "source": [
        "\n",
        "df[list(df.columns[2:])].corr()"
      ],
      "metadata": {
        "colab": {
          "base_uri": "https://localhost:8080/",
          "height": 112
        },
        "id": "DUnhrgTrBc2U",
        "outputId": "fc64399e-6cd5-4853-8a60-6ac0626589cf"
      },
      "execution_count": 12,
      "outputs": [
        {
          "output_type": "execute_result",
          "data": {
            "text/plain": [
              "                        Annual Income (k$)  Spending Score (1-100)\n",
              "Annual Income (k$)                1.000000                0.009903\n",
              "Spending Score (1-100)            0.009903                1.000000"
            ],
            "text/html": [
              "\n",
              "  <div id=\"df-b0d27075-8a5e-40e1-a6c1-d4dab92b915e\">\n",
              "    <div class=\"colab-df-container\">\n",
              "      <div>\n",
              "<style scoped>\n",
              "    .dataframe tbody tr th:only-of-type {\n",
              "        vertical-align: middle;\n",
              "    }\n",
              "\n",
              "    .dataframe tbody tr th {\n",
              "        vertical-align: top;\n",
              "    }\n",
              "\n",
              "    .dataframe thead th {\n",
              "        text-align: right;\n",
              "    }\n",
              "</style>\n",
              "<table border=\"1\" class=\"dataframe\">\n",
              "  <thead>\n",
              "    <tr style=\"text-align: right;\">\n",
              "      <th></th>\n",
              "      <th>Annual Income (k$)</th>\n",
              "      <th>Spending Score (1-100)</th>\n",
              "    </tr>\n",
              "  </thead>\n",
              "  <tbody>\n",
              "    <tr>\n",
              "      <th>Annual Income (k$)</th>\n",
              "      <td>1.000000</td>\n",
              "      <td>0.009903</td>\n",
              "    </tr>\n",
              "    <tr>\n",
              "      <th>Spending Score (1-100)</th>\n",
              "      <td>0.009903</td>\n",
              "      <td>1.000000</td>\n",
              "    </tr>\n",
              "  </tbody>\n",
              "</table>\n",
              "</div>\n",
              "      <button class=\"colab-df-convert\" onclick=\"convertToInteractive('df-b0d27075-8a5e-40e1-a6c1-d4dab92b915e')\"\n",
              "              title=\"Convert this dataframe to an interactive table.\"\n",
              "              style=\"display:none;\">\n",
              "        \n",
              "  <svg xmlns=\"http://www.w3.org/2000/svg\" height=\"24px\"viewBox=\"0 0 24 24\"\n",
              "       width=\"24px\">\n",
              "    <path d=\"M0 0h24v24H0V0z\" fill=\"none\"/>\n",
              "    <path d=\"M18.56 5.44l.94 2.06.94-2.06 2.06-.94-2.06-.94-.94-2.06-.94 2.06-2.06.94zm-11 1L8.5 8.5l.94-2.06 2.06-.94-2.06-.94L8.5 2.5l-.94 2.06-2.06.94zm10 10l.94 2.06.94-2.06 2.06-.94-2.06-.94-.94-2.06-.94 2.06-2.06.94z\"/><path d=\"M17.41 7.96l-1.37-1.37c-.4-.4-.92-.59-1.43-.59-.52 0-1.04.2-1.43.59L10.3 9.45l-7.72 7.72c-.78.78-.78 2.05 0 2.83L4 21.41c.39.39.9.59 1.41.59.51 0 1.02-.2 1.41-.59l7.78-7.78 2.81-2.81c.8-.78.8-2.07 0-2.86zM5.41 20L4 18.59l7.72-7.72 1.47 1.35L5.41 20z\"/>\n",
              "  </svg>\n",
              "      </button>\n",
              "      \n",
              "  <style>\n",
              "    .colab-df-container {\n",
              "      display:flex;\n",
              "      flex-wrap:wrap;\n",
              "      gap: 12px;\n",
              "    }\n",
              "\n",
              "    .colab-df-convert {\n",
              "      background-color: #E8F0FE;\n",
              "      border: none;\n",
              "      border-radius: 50%;\n",
              "      cursor: pointer;\n",
              "      display: none;\n",
              "      fill: #1967D2;\n",
              "      height: 32px;\n",
              "      padding: 0 0 0 0;\n",
              "      width: 32px;\n",
              "    }\n",
              "\n",
              "    .colab-df-convert:hover {\n",
              "      background-color: #E2EBFA;\n",
              "      box-shadow: 0px 1px 2px rgba(60, 64, 67, 0.3), 0px 1px 3px 1px rgba(60, 64, 67, 0.15);\n",
              "      fill: #174EA6;\n",
              "    }\n",
              "\n",
              "    [theme=dark] .colab-df-convert {\n",
              "      background-color: #3B4455;\n",
              "      fill: #D2E3FC;\n",
              "    }\n",
              "\n",
              "    [theme=dark] .colab-df-convert:hover {\n",
              "      background-color: #434B5C;\n",
              "      box-shadow: 0px 1px 3px 1px rgba(0, 0, 0, 0.15);\n",
              "      filter: drop-shadow(0px 1px 2px rgba(0, 0, 0, 0.3));\n",
              "      fill: #FFFFFF;\n",
              "    }\n",
              "  </style>\n",
              "\n",
              "      <script>\n",
              "        const buttonEl =\n",
              "          document.querySelector('#df-b0d27075-8a5e-40e1-a6c1-d4dab92b915e button.colab-df-convert');\n",
              "        buttonEl.style.display =\n",
              "          google.colab.kernel.accessAllowed ? 'block' : 'none';\n",
              "\n",
              "        async function convertToInteractive(key) {\n",
              "          const element = document.querySelector('#df-b0d27075-8a5e-40e1-a6c1-d4dab92b915e');\n",
              "          const dataTable =\n",
              "            await google.colab.kernel.invokeFunction('convertToInteractive',\n",
              "                                                     [key], {});\n",
              "          if (!dataTable) return;\n",
              "\n",
              "          const docLinkHtml = 'Like what you see? Visit the ' +\n",
              "            '<a target=\"_blank\" href=https://colab.research.google.com/notebooks/data_table.ipynb>data table notebook</a>'\n",
              "            + ' to learn more about interactive tables.';\n",
              "          element.innerHTML = '';\n",
              "          dataTable['output_type'] = 'display_data';\n",
              "          await google.colab.output.renderOutput(dataTable, element);\n",
              "          const docLink = document.createElement('div');\n",
              "          docLink.innerHTML = docLinkHtml;\n",
              "          element.appendChild(docLink);\n",
              "        }\n",
              "      </script>\n",
              "    </div>\n",
              "  </div>\n",
              "  "
            ]
          },
          "metadata": {},
          "execution_count": 12
        }
      ]
    },
    {
      "cell_type": "markdown",
      "source": [
        "#Label Encoding For Categorical Values"
      ],
      "metadata": {
        "id": "sNIfjNr2DS3k"
      }
    },
    {
      "cell_type": "code",
      "source": [
        "\n",
        "from sklearn import preprocessing\n",
        "label_encoder=preprocessing.LabelEncoder()\n",
        "df['Gender']=label_encoder.fit_transform(df['Gender'])\n",
        "df.head()"
      ],
      "metadata": {
        "colab": {
          "base_uri": "https://localhost:8080/",
          "height": 206
        },
        "id": "spqiJZyGDKdw",
        "outputId": "314e75a0-f93e-4693-fbce-01eba670d042"
      },
      "execution_count": 13,
      "outputs": [
        {
          "output_type": "execute_result",
          "data": {
            "text/plain": [
              "   Gender  Age  Annual Income (k$)  Spending Score (1-100)\n",
              "0       1   19                  15                      39\n",
              "1       1   21                  15                      81\n",
              "2       0   20                  16                       6\n",
              "3       0   23                  16                      77\n",
              "4       0   31                  17                      40"
            ],
            "text/html": [
              "\n",
              "  <div id=\"df-9852c0c5-bfdb-470f-ba2d-5e9b6d5109d4\">\n",
              "    <div class=\"colab-df-container\">\n",
              "      <div>\n",
              "<style scoped>\n",
              "    .dataframe tbody tr th:only-of-type {\n",
              "        vertical-align: middle;\n",
              "    }\n",
              "\n",
              "    .dataframe tbody tr th {\n",
              "        vertical-align: top;\n",
              "    }\n",
              "\n",
              "    .dataframe thead th {\n",
              "        text-align: right;\n",
              "    }\n",
              "</style>\n",
              "<table border=\"1\" class=\"dataframe\">\n",
              "  <thead>\n",
              "    <tr style=\"text-align: right;\">\n",
              "      <th></th>\n",
              "      <th>Gender</th>\n",
              "      <th>Age</th>\n",
              "      <th>Annual Income (k$)</th>\n",
              "      <th>Spending Score (1-100)</th>\n",
              "    </tr>\n",
              "  </thead>\n",
              "  <tbody>\n",
              "    <tr>\n",
              "      <th>0</th>\n",
              "      <td>1</td>\n",
              "      <td>19</td>\n",
              "      <td>15</td>\n",
              "      <td>39</td>\n",
              "    </tr>\n",
              "    <tr>\n",
              "      <th>1</th>\n",
              "      <td>1</td>\n",
              "      <td>21</td>\n",
              "      <td>15</td>\n",
              "      <td>81</td>\n",
              "    </tr>\n",
              "    <tr>\n",
              "      <th>2</th>\n",
              "      <td>0</td>\n",
              "      <td>20</td>\n",
              "      <td>16</td>\n",
              "      <td>6</td>\n",
              "    </tr>\n",
              "    <tr>\n",
              "      <th>3</th>\n",
              "      <td>0</td>\n",
              "      <td>23</td>\n",
              "      <td>16</td>\n",
              "      <td>77</td>\n",
              "    </tr>\n",
              "    <tr>\n",
              "      <th>4</th>\n",
              "      <td>0</td>\n",
              "      <td>31</td>\n",
              "      <td>17</td>\n",
              "      <td>40</td>\n",
              "    </tr>\n",
              "  </tbody>\n",
              "</table>\n",
              "</div>\n",
              "      <button class=\"colab-df-convert\" onclick=\"convertToInteractive('df-9852c0c5-bfdb-470f-ba2d-5e9b6d5109d4')\"\n",
              "              title=\"Convert this dataframe to an interactive table.\"\n",
              "              style=\"display:none;\">\n",
              "        \n",
              "  <svg xmlns=\"http://www.w3.org/2000/svg\" height=\"24px\"viewBox=\"0 0 24 24\"\n",
              "       width=\"24px\">\n",
              "    <path d=\"M0 0h24v24H0V0z\" fill=\"none\"/>\n",
              "    <path d=\"M18.56 5.44l.94 2.06.94-2.06 2.06-.94-2.06-.94-.94-2.06-.94 2.06-2.06.94zm-11 1L8.5 8.5l.94-2.06 2.06-.94-2.06-.94L8.5 2.5l-.94 2.06-2.06.94zm10 10l.94 2.06.94-2.06 2.06-.94-2.06-.94-.94-2.06-.94 2.06-2.06.94z\"/><path d=\"M17.41 7.96l-1.37-1.37c-.4-.4-.92-.59-1.43-.59-.52 0-1.04.2-1.43.59L10.3 9.45l-7.72 7.72c-.78.78-.78 2.05 0 2.83L4 21.41c.39.39.9.59 1.41.59.51 0 1.02-.2 1.41-.59l7.78-7.78 2.81-2.81c.8-.78.8-2.07 0-2.86zM5.41 20L4 18.59l7.72-7.72 1.47 1.35L5.41 20z\"/>\n",
              "  </svg>\n",
              "      </button>\n",
              "      \n",
              "  <style>\n",
              "    .colab-df-container {\n",
              "      display:flex;\n",
              "      flex-wrap:wrap;\n",
              "      gap: 12px;\n",
              "    }\n",
              "\n",
              "    .colab-df-convert {\n",
              "      background-color: #E8F0FE;\n",
              "      border: none;\n",
              "      border-radius: 50%;\n",
              "      cursor: pointer;\n",
              "      display: none;\n",
              "      fill: #1967D2;\n",
              "      height: 32px;\n",
              "      padding: 0 0 0 0;\n",
              "      width: 32px;\n",
              "    }\n",
              "\n",
              "    .colab-df-convert:hover {\n",
              "      background-color: #E2EBFA;\n",
              "      box-shadow: 0px 1px 2px rgba(60, 64, 67, 0.3), 0px 1px 3px 1px rgba(60, 64, 67, 0.15);\n",
              "      fill: #174EA6;\n",
              "    }\n",
              "\n",
              "    [theme=dark] .colab-df-convert {\n",
              "      background-color: #3B4455;\n",
              "      fill: #D2E3FC;\n",
              "    }\n",
              "\n",
              "    [theme=dark] .colab-df-convert:hover {\n",
              "      background-color: #434B5C;\n",
              "      box-shadow: 0px 1px 3px 1px rgba(0, 0, 0, 0.15);\n",
              "      filter: drop-shadow(0px 1px 2px rgba(0, 0, 0, 0.3));\n",
              "      fill: #FFFFFF;\n",
              "    }\n",
              "  </style>\n",
              "\n",
              "      <script>\n",
              "        const buttonEl =\n",
              "          document.querySelector('#df-9852c0c5-bfdb-470f-ba2d-5e9b6d5109d4 button.colab-df-convert');\n",
              "        buttonEl.style.display =\n",
              "          google.colab.kernel.accessAllowed ? 'block' : 'none';\n",
              "\n",
              "        async function convertToInteractive(key) {\n",
              "          const element = document.querySelector('#df-9852c0c5-bfdb-470f-ba2d-5e9b6d5109d4');\n",
              "          const dataTable =\n",
              "            await google.colab.kernel.invokeFunction('convertToInteractive',\n",
              "                                                     [key], {});\n",
              "          if (!dataTable) return;\n",
              "\n",
              "          const docLinkHtml = 'Like what you see? Visit the ' +\n",
              "            '<a target=\"_blank\" href=https://colab.research.google.com/notebooks/data_table.ipynb>data table notebook</a>'\n",
              "            + ' to learn more about interactive tables.';\n",
              "          element.innerHTML = '';\n",
              "          dataTable['output_type'] = 'display_data';\n",
              "          await google.colab.output.renderOutput(dataTable, element);\n",
              "          const docLink = document.createElement('div');\n",
              "          docLink.innerHTML = docLinkHtml;\n",
              "          element.appendChild(docLink);\n",
              "        }\n",
              "      </script>\n",
              "    </div>\n",
              "  </div>\n",
              "  "
            ]
          },
          "metadata": {},
          "execution_count": 13
        }
      ]
    },
    {
      "cell_type": "markdown",
      "source": [
        "#Outiers Identification And Replacing Using Quantile-Based Flooring and Capping for Continuous Variables"
      ],
      "metadata": {
        "id": "cfcoXoLtDfza"
      }
    },
    {
      "cell_type": "code",
      "source": [
        "q1=df['Age'].quantile(0.10)\n",
        "q2=df['Age'].quantile(0.90)\n",
        "df['Age']=np.where(df['Age']<q1,q1,df['Age'])\n",
        "df['Age']=np.where(df['Age']>q2,q2,df['Age'])\n",
        "print(df['Age'].skew())"
      ],
      "metadata": {
        "colab": {
          "base_uri": "https://localhost:8080/"
        },
        "id": "VaN6fzk8Djji",
        "outputId": "9c4e55c7-b948-454a-b5da-9d6016c9a96c"
      },
      "execution_count": 14,
      "outputs": [
        {
          "output_type": "stream",
          "name": "stdout",
          "text": [
            "0.281242452772514\n"
          ]
        }
      ]
    },
    {
      "cell_type": "code",
      "source": [
        "q1=df['Annual Income (k$)'].quantile(0.10)\n",
        "q2=df['Annual Income (k$)'].quantile(0.90)\n",
        "df['Annual Income (k$)']=np.where(df['Annual Income (k$)']<q1,q1,df['Annual Income (k$)'])\n",
        "df['Annual Income (k$)']=np.where(df['Annual Income (k$)']>q2,q2,df['Annual Income (k$)'])\n",
        "print(df['Annual Income (k$)'].skew())"
      ],
      "metadata": {
        "colab": {
          "base_uri": "https://localhost:8080/"
        },
        "id": "gLE13SC8DtLe",
        "outputId": "27abce24-9b1b-43e5-c91d-3f5f239d2231"
      },
      "execution_count": 16,
      "outputs": [
        {
          "output_type": "stream",
          "name": "stdout",
          "text": [
            "-0.11114517936178386\n"
          ]
        }
      ]
    },
    {
      "cell_type": "code",
      "source": [
        "\n",
        "\n",
        "\n",
        "\n",
        "\n",
        "\n",
        "q1=df['Spending Score (1-100)'].quantile(0.10)\n",
        "q2=df['Spending Score (1-100)'].quantile(0.90)\n",
        "df['Spending Score (1-100)']=np.where(df['Spending Score (1-100)']<q1,q1,df['Spending Score (1-100)'])\n",
        "df['Spending Score (1-100)']=np.where(df['Spending Score (1-100)']>q2,q2,df['Spending Score (1-100)'])\n",
        "print(df['Spending Score (1-100)'].skew())\n",
        "\n"
      ],
      "metadata": {
        "colab": {
          "base_uri": "https://localhost:8080/"
        },
        "id": "nD03WztsDYhJ",
        "outputId": "a2241c4b-7570-44fa-aa8d-663887559a8f"
      },
      "execution_count": 37,
      "outputs": [
        {
          "output_type": "stream",
          "name": "stdout",
          "text": [
            "-0.039088616977598634\n"
          ]
        }
      ]
    },
    {
      "cell_type": "code",
      "source": [
        "df"
      ],
      "metadata": {
        "colab": {
          "base_uri": "https://localhost:8080/",
          "height": 424
        },
        "id": "qSfINImnMAqM",
        "outputId": "b0645ff8-e234-4897-f7a5-9fa7966f0004"
      },
      "execution_count": 38,
      "outputs": [
        {
          "output_type": "execute_result",
          "data": {
            "text/plain": [
              "     Gender   Age  Annual Income (k$)  Spending Score (1-100)  pred_cluster\n",
              "0         1  21.0                23.9                    39.0             0\n",
              "1         1  21.0                23.9                    81.0             0\n",
              "2         0  21.0                23.9                    13.0             2\n",
              "3         0  23.0                23.9                    77.0             0\n",
              "4         0  31.0                23.9                    40.0             2\n",
              "..      ...   ...                 ...                     ...           ...\n",
              "195       0  35.0                93.4                    79.0             0\n",
              "196       0  45.0                93.4                    28.0             2\n",
              "197       1  32.0                93.4                    74.0             0\n",
              "198       1  32.0                93.4                    18.0             1\n",
              "199       1  30.0                93.4                    83.0             0\n",
              "\n",
              "[200 rows x 5 columns]"
            ],
            "text/html": [
              "\n",
              "  <div id=\"df-e2c22f94-fb71-4923-b933-7e1f6752a18e\">\n",
              "    <div class=\"colab-df-container\">\n",
              "      <div>\n",
              "<style scoped>\n",
              "    .dataframe tbody tr th:only-of-type {\n",
              "        vertical-align: middle;\n",
              "    }\n",
              "\n",
              "    .dataframe tbody tr th {\n",
              "        vertical-align: top;\n",
              "    }\n",
              "\n",
              "    .dataframe thead th {\n",
              "        text-align: right;\n",
              "    }\n",
              "</style>\n",
              "<table border=\"1\" class=\"dataframe\">\n",
              "  <thead>\n",
              "    <tr style=\"text-align: right;\">\n",
              "      <th></th>\n",
              "      <th>Gender</th>\n",
              "      <th>Age</th>\n",
              "      <th>Annual Income (k$)</th>\n",
              "      <th>Spending Score (1-100)</th>\n",
              "      <th>pred_cluster</th>\n",
              "    </tr>\n",
              "  </thead>\n",
              "  <tbody>\n",
              "    <tr>\n",
              "      <th>0</th>\n",
              "      <td>1</td>\n",
              "      <td>21.0</td>\n",
              "      <td>23.9</td>\n",
              "      <td>39.0</td>\n",
              "      <td>0</td>\n",
              "    </tr>\n",
              "    <tr>\n",
              "      <th>1</th>\n",
              "      <td>1</td>\n",
              "      <td>21.0</td>\n",
              "      <td>23.9</td>\n",
              "      <td>81.0</td>\n",
              "      <td>0</td>\n",
              "    </tr>\n",
              "    <tr>\n",
              "      <th>2</th>\n",
              "      <td>0</td>\n",
              "      <td>21.0</td>\n",
              "      <td>23.9</td>\n",
              "      <td>13.0</td>\n",
              "      <td>2</td>\n",
              "    </tr>\n",
              "    <tr>\n",
              "      <th>3</th>\n",
              "      <td>0</td>\n",
              "      <td>23.0</td>\n",
              "      <td>23.9</td>\n",
              "      <td>77.0</td>\n",
              "      <td>0</td>\n",
              "    </tr>\n",
              "    <tr>\n",
              "      <th>4</th>\n",
              "      <td>0</td>\n",
              "      <td>31.0</td>\n",
              "      <td>23.9</td>\n",
              "      <td>40.0</td>\n",
              "      <td>2</td>\n",
              "    </tr>\n",
              "    <tr>\n",
              "      <th>...</th>\n",
              "      <td>...</td>\n",
              "      <td>...</td>\n",
              "      <td>...</td>\n",
              "      <td>...</td>\n",
              "      <td>...</td>\n",
              "    </tr>\n",
              "    <tr>\n",
              "      <th>195</th>\n",
              "      <td>0</td>\n",
              "      <td>35.0</td>\n",
              "      <td>93.4</td>\n",
              "      <td>79.0</td>\n",
              "      <td>0</td>\n",
              "    </tr>\n",
              "    <tr>\n",
              "      <th>196</th>\n",
              "      <td>0</td>\n",
              "      <td>45.0</td>\n",
              "      <td>93.4</td>\n",
              "      <td>28.0</td>\n",
              "      <td>2</td>\n",
              "    </tr>\n",
              "    <tr>\n",
              "      <th>197</th>\n",
              "      <td>1</td>\n",
              "      <td>32.0</td>\n",
              "      <td>93.4</td>\n",
              "      <td>74.0</td>\n",
              "      <td>0</td>\n",
              "    </tr>\n",
              "    <tr>\n",
              "      <th>198</th>\n",
              "      <td>1</td>\n",
              "      <td>32.0</td>\n",
              "      <td>93.4</td>\n",
              "      <td>18.0</td>\n",
              "      <td>1</td>\n",
              "    </tr>\n",
              "    <tr>\n",
              "      <th>199</th>\n",
              "      <td>1</td>\n",
              "      <td>30.0</td>\n",
              "      <td>93.4</td>\n",
              "      <td>83.0</td>\n",
              "      <td>0</td>\n",
              "    </tr>\n",
              "  </tbody>\n",
              "</table>\n",
              "<p>200 rows × 5 columns</p>\n",
              "</div>\n",
              "      <button class=\"colab-df-convert\" onclick=\"convertToInteractive('df-e2c22f94-fb71-4923-b933-7e1f6752a18e')\"\n",
              "              title=\"Convert this dataframe to an interactive table.\"\n",
              "              style=\"display:none;\">\n",
              "        \n",
              "  <svg xmlns=\"http://www.w3.org/2000/svg\" height=\"24px\"viewBox=\"0 0 24 24\"\n",
              "       width=\"24px\">\n",
              "    <path d=\"M0 0h24v24H0V0z\" fill=\"none\"/>\n",
              "    <path d=\"M18.56 5.44l.94 2.06.94-2.06 2.06-.94-2.06-.94-.94-2.06-.94 2.06-2.06.94zm-11 1L8.5 8.5l.94-2.06 2.06-.94-2.06-.94L8.5 2.5l-.94 2.06-2.06.94zm10 10l.94 2.06.94-2.06 2.06-.94-2.06-.94-.94-2.06-.94 2.06-2.06.94z\"/><path d=\"M17.41 7.96l-1.37-1.37c-.4-.4-.92-.59-1.43-.59-.52 0-1.04.2-1.43.59L10.3 9.45l-7.72 7.72c-.78.78-.78 2.05 0 2.83L4 21.41c.39.39.9.59 1.41.59.51 0 1.02-.2 1.41-.59l7.78-7.78 2.81-2.81c.8-.78.8-2.07 0-2.86zM5.41 20L4 18.59l7.72-7.72 1.47 1.35L5.41 20z\"/>\n",
              "  </svg>\n",
              "      </button>\n",
              "      \n",
              "  <style>\n",
              "    .colab-df-container {\n",
              "      display:flex;\n",
              "      flex-wrap:wrap;\n",
              "      gap: 12px;\n",
              "    }\n",
              "\n",
              "    .colab-df-convert {\n",
              "      background-color: #E8F0FE;\n",
              "      border: none;\n",
              "      border-radius: 50%;\n",
              "      cursor: pointer;\n",
              "      display: none;\n",
              "      fill: #1967D2;\n",
              "      height: 32px;\n",
              "      padding: 0 0 0 0;\n",
              "      width: 32px;\n",
              "    }\n",
              "\n",
              "    .colab-df-convert:hover {\n",
              "      background-color: #E2EBFA;\n",
              "      box-shadow: 0px 1px 2px rgba(60, 64, 67, 0.3), 0px 1px 3px 1px rgba(60, 64, 67, 0.15);\n",
              "      fill: #174EA6;\n",
              "    }\n",
              "\n",
              "    [theme=dark] .colab-df-convert {\n",
              "      background-color: #3B4455;\n",
              "      fill: #D2E3FC;\n",
              "    }\n",
              "\n",
              "    [theme=dark] .colab-df-convert:hover {\n",
              "      background-color: #434B5C;\n",
              "      box-shadow: 0px 1px 3px 1px rgba(0, 0, 0, 0.15);\n",
              "      filter: drop-shadow(0px 1px 2px rgba(0, 0, 0, 0.3));\n",
              "      fill: #FFFFFF;\n",
              "    }\n",
              "  </style>\n",
              "\n",
              "      <script>\n",
              "        const buttonEl =\n",
              "          document.querySelector('#df-e2c22f94-fb71-4923-b933-7e1f6752a18e button.colab-df-convert');\n",
              "        buttonEl.style.display =\n",
              "          google.colab.kernel.accessAllowed ? 'block' : 'none';\n",
              "\n",
              "        async function convertToInteractive(key) {\n",
              "          const element = document.querySelector('#df-e2c22f94-fb71-4923-b933-7e1f6752a18e');\n",
              "          const dataTable =\n",
              "            await google.colab.kernel.invokeFunction('convertToInteractive',\n",
              "                                                     [key], {});\n",
              "          if (!dataTable) return;\n",
              "\n",
              "          const docLinkHtml = 'Like what you see? Visit the ' +\n",
              "            '<a target=\"_blank\" href=https://colab.research.google.com/notebooks/data_table.ipynb>data table notebook</a>'\n",
              "            + ' to learn more about interactive tables.';\n",
              "          element.innerHTML = '';\n",
              "          dataTable['output_type'] = 'display_data';\n",
              "          await google.colab.output.renderOutput(dataTable, element);\n",
              "          const docLink = document.createElement('div');\n",
              "          docLink.innerHTML = docLinkHtml;\n",
              "          element.appendChild(docLink);\n",
              "        }\n",
              "      </script>\n",
              "    </div>\n",
              "  </div>\n",
              "  "
            ]
          },
          "metadata": {},
          "execution_count": 38
        }
      ]
    },
    {
      "cell_type": "markdown",
      "source": [
        "#Scaling Variables"
      ],
      "metadata": {
        "id": "kViTHgUbEFYQ"
      }
    },
    {
      "cell_type": "code",
      "source": [
        "\n",
        "import pandas as pd\n",
        "from sklearn.preprocessing import StandardScaler\n",
        "scaler=StandardScaler()\n",
        "scaled=scaler.fit_transform(df)\n",
        "print(scaled)"
      ],
      "metadata": {
        "colab": {
          "base_uri": "https://localhost:8080/"
        },
        "id": "IPpd7IAaEDNK",
        "outputId": "fc45b372-13c5-44bc-e18d-c0fe84fdd2df"
      },
      "execution_count": 17,
      "outputs": [
        {
          "output_type": "stream",
          "name": "stdout",
          "text": [
            "[[ 1.12815215 -1.39030724 -1.599128   -0.47229142]\n",
            " [ 1.12815215 -1.39030724 -1.599128    1.28936397]\n",
            " [-0.88640526 -1.39030724 -1.599128   -1.56284   ]\n",
            " [-0.88640526 -1.2301336  -1.599128    1.12158726]\n",
            " [-0.88640526 -0.58943902 -1.599128   -0.43034725]\n",
            " [-0.88640526 -1.31022042 -1.599128    1.07964309]\n",
            " [-0.88640526 -0.26909172 -1.599128   -1.56284   ]\n",
            " [-0.88640526 -1.2301336  -1.599128    1.54522344]\n",
            " [ 1.12815215  1.6610007  -1.599128   -1.56284   ]\n",
            " [-0.88640526 -0.66952584 -1.599128    0.91186639]\n",
            " [ 1.12815215  1.6610007  -1.599128   -1.52089582]\n",
            " [-0.88640526 -0.26909172 -1.599128    1.54522344]\n",
            " [-0.88640526  1.5729052  -1.599128   -1.47895164]\n",
            " [-0.88640526 -1.15004677 -1.599128    1.12158726]\n",
            " [ 1.12815215 -0.10891808 -1.599128   -1.56284   ]\n",
            " [ 1.12815215 -1.31022042 -1.599128    1.20547562]\n",
            " [-0.88640526 -0.26909172 -1.599128   -0.64006812]\n",
            " [ 1.12815215 -1.39030724 -1.599128    0.66020133]\n",
            " [ 1.12815215  1.09238426 -1.599128   -0.89173318]\n",
            " [-0.88640526 -0.26909172 -1.599128    1.54522344]\n",
            " [ 1.12815215 -0.26909172 -1.59462848 -0.64006812]\n",
            " [ 1.12815215 -1.06995995 -1.59462848  0.95381056]\n",
            " [-0.88640526  0.61186333 -1.54963332 -1.56284   ]\n",
            " [ 1.12815215 -0.58943902 -1.54963332  0.95381056]\n",
            " [-0.88640526  1.25255791 -1.41464784 -1.52089582]\n",
            " [ 1.12815215 -0.74961266 -1.41464784  1.33130814]\n",
            " [-0.88640526  0.5317765  -1.41464784 -0.76590065]\n",
            " [ 1.12815215 -0.26909172 -1.41464784  0.45048045]\n",
            " [-0.88640526  0.13134239 -1.36965268 -0.80784483]\n",
            " [-0.88640526 -1.2301336  -1.36965268  1.54102902]\n",
            " [ 1.12815215  1.6610007  -1.32465752 -1.56284   ]\n",
            " [-0.88640526 -1.39030724 -1.32465752  0.95381056]\n",
            " [ 1.12815215  1.17247108 -1.18967204 -1.56284   ]\n",
            " [ 1.12815215 -1.39030724 -1.18967204  1.54522344]\n",
            " [-0.88640526  0.85212379 -1.18967204 -1.52089582]\n",
            " [-0.88640526 -1.39030724 -1.18967204  1.28936397]\n",
            " [-0.88640526  0.29151603 -1.14467688 -1.39506329]\n",
            " [-0.88640526 -0.66952584 -1.14467688  0.95381056]\n",
            " [-0.88640526 -0.1890049  -1.0096914  -1.01756571]\n",
            " [-0.88640526 -1.39030724 -1.0096914   1.03769891]\n",
            " [-0.88640526  1.6610007  -0.96469624 -0.64006812]\n",
            " [ 1.12815215 -1.15004677 -0.96469624  1.54522344]\n",
            " [ 1.12815215  0.77203697 -0.91970108 -0.59812395]\n",
            " [-0.88640526 -0.58943902 -0.91970108  0.45048045]\n",
            " [-0.88640526  0.85212379 -0.91970108 -0.93367736]\n",
            " [-0.88640526 -1.15004677 -0.91970108  0.61825715]\n",
            " [-0.88640526  0.93221062 -0.87470592  0.19881539]\n",
            " [-0.88640526 -0.90978631 -0.87470592 -0.13673801]\n",
            " [-0.88640526 -0.74961266 -0.87470592 -0.34645889]\n",
            " [-0.88640526 -0.58943902 -0.87470592 -0.34645889]\n",
            " [-0.88640526  0.85212379 -0.78471559  0.07298287]\n",
            " [ 1.12815215 -0.42926537 -0.78471559  0.40853627]\n",
            " [-0.88640526 -0.58943902 -0.73972043  0.15687122]\n",
            " [ 1.12815215  1.65299202 -0.73972043  0.40853627]\n",
            " [-0.88640526  0.93221062 -0.73972043 -0.22062637]\n",
            " [ 1.12815215  0.69195015 -0.73972043 -0.38840307]\n",
            " [-0.88640526  1.01229744 -0.69472527 -0.01090549]\n",
            " [ 1.12815215  1.6610007  -0.69472527 -0.17868219]\n",
            " [-0.88640526 -0.90978631 -0.60473495  0.03103869]\n",
            " [ 1.12815215  1.17247108 -0.60473495 -0.17868219]\n",
            " [ 1.12815215  1.6610007  -0.60473495  0.24075957]\n",
            " [ 1.12815215 -1.39030724 -0.60473495  0.19881539]\n",
            " [-0.88640526  1.6610007  -0.55973979  0.07298287]\n",
            " [-0.88640526  1.25255791 -0.55973979  0.3665921 ]\n",
            " [ 1.12815215  1.6610007  -0.51474463  0.03103869]\n",
            " [ 1.12815215 -1.39030724 -0.51474463  0.3665921 ]\n",
            " [-0.88640526  0.37160286 -0.51474463 -0.01090549]\n",
            " [-0.88640526  1.6610007  -0.51474463 -0.09479384]\n",
            " [ 1.12815215 -1.39030724 -0.51474463  0.3665921 ]\n",
            " [-0.88640526 -0.50935219 -0.51474463 -0.13673801]\n",
            " [ 1.12815215  1.6610007  -0.46974947  0.19881539]\n",
            " [-0.88640526  0.69195015 -0.46974947 -0.34645889]\n",
            " [-0.88640526  1.6610007  -0.42475431 -0.05284966]\n",
            " [-0.88640526  1.6610007  -0.42475431  0.24075957]\n",
            " [ 1.12815215  1.65299202 -0.24477367 -0.13673801]\n",
            " [ 1.12815215 -0.98987313 -0.24477367  0.15687122]\n",
            " [-0.88640526  0.5317765  -0.24477367  0.11492704]\n",
            " [ 1.12815215  0.13134239 -0.24477367 -0.09479384]\n",
            " [-0.88640526 -1.2301336  -0.24477367  0.07298287]\n",
            " [-0.88640526  0.85212379 -0.24477367 -0.34645889]\n",
            " [ 1.12815215  1.49281838 -0.24477367  0.03103869]\n",
            " [ 1.12815215 -0.02883126 -0.24477367  0.19881539]\n",
            " [ 1.12815215  1.6610007  -0.24477367 -0.38840307]\n",
            " [-0.88640526  0.61186333 -0.24477367 -0.26257054]\n",
            " [-0.88640526 -1.39030724 -0.24477367  0.28270375]\n",
            " [ 1.12815215  0.77203697 -0.24477367 -0.17868219]\n",
            " [-0.88640526  1.33264473 -0.10978819  0.32464792]\n",
            " [-0.88640526 -1.31022042 -0.10978819  0.19881539]\n",
            " [-0.88640526 -0.34917855 -0.06479303  0.40853627]\n",
            " [-0.88640526  0.93221062 -0.06479303 -0.17868219]\n",
            " [-0.88640526  1.6610007  -0.01979787  0.19881539]\n",
            " [ 1.12815215 -1.39030724 -0.01979787 -0.38840307]\n",
            " [ 1.12815215  0.77203697  0.02519729 -0.05284966]\n",
            " [-0.88640526  0.13134239  0.02519729 -0.43034725]\n",
            " [-0.88640526 -0.50935219  0.02519729 -0.34645889]\n",
            " [ 1.12815215 -1.15004677  0.02519729  0.07298287]\n",
            " [-0.88640526  0.69195015  0.02519729 -0.13673801]\n",
            " [-0.88640526 -0.90978631  0.02519729 -0.01090549]\n",
            " [ 1.12815215  0.77203697  0.07019245 -0.34645889]\n",
            " [ 1.12815215 -1.39030724  0.07019245 -0.05284966]\n",
            " [-0.88640526 -1.2301336   0.11518761 -0.38840307]\n",
            " [-0.88640526  0.85212379  0.11518761 -0.09479384]\n",
            " [ 1.12815215  1.6610007   0.11518761  0.3665921 ]\n",
            " [ 1.12815215 -0.98987313  0.11518761  0.19881539]\n",
            " [ 1.12815215  0.85212379  0.11518761  0.24075957]\n",
            " [-0.88640526 -1.39030724  0.11518761 -0.34645889]\n",
            " [-0.88640526  1.6610007   0.16018277 -0.01090549]\n",
            " [ 1.12815215  1.25255791  0.16018277 -0.17868219]\n",
            " [ 1.12815215  1.6610007   0.16018277 -0.30451472]\n",
            " [ 1.12815215  1.6610007   0.16018277 -0.09479384]\n",
            " [ 1.12815215  1.6610007   0.16018277  0.07298287]\n",
            " [-0.88640526 -1.39030724  0.16018277  0.15687122]\n",
            " [-0.88640526 -0.02883126  0.20517793 -0.34645889]\n",
            " [ 1.12815215 -1.39030724  0.20517793 -0.17868219]\n",
            " [-0.88640526 -1.39030724  0.25017309 -0.09479384]\n",
            " [-0.88640526 -1.39030724  0.25017309 -0.01090549]\n",
            " [-0.88640526  1.6610007   0.25017309 -0.30451472]\n",
            " [-0.88640526  0.85212379  0.25017309  0.3665921 ]\n",
            " [-0.88640526  1.01229744  0.34016341 -0.30451472]\n",
            " [-0.88640526  0.93221062  0.34016341  0.28270375]\n",
            " [ 1.12815215 -0.90978631  0.34016341  0.24075957]\n",
            " [-0.88640526 -0.02883126  0.34016341 -0.43034725]\n",
            " [-0.88640526  0.13134239  0.43015373  0.32464792]\n",
            " [ 1.12815215  0.05125557  0.43015373  1.54522344]\n",
            " [-0.88640526 -1.2301336   0.47514889 -0.89173318]\n",
            " [-0.88640526 -0.58943902  0.47514889  1.12158726]\n",
            " [ 1.12815215  0.37160286  0.52014405 -0.64006812]\n",
            " [ 1.12815215  0.13134239  0.52014405  1.54522344]\n",
            " [ 1.12815215  1.65299202  0.52014405 -1.56284   ]\n",
            " [ 1.12815215 -0.02883126  0.52014405  1.03769891]\n",
            " [ 1.12815215  0.69195015  0.52014405 -1.56284   ]\n",
            " [ 1.12815215  0.05125557  0.52014405  1.03769891]\n",
            " [-0.88640526 -1.06995995  0.56513921 -0.6820123 ]\n",
            " [-0.88640526 -0.58943902  0.56513921  0.86992221]\n",
            " [ 1.12815215 -1.39030724  0.61013437 -1.56284   ]\n",
            " [-0.88640526 -0.74961266  0.61013437  1.54522344]\n",
            " [-0.88640526  0.45168968  0.61013437 -1.56284   ]\n",
            " [ 1.12815215 -0.50935219  0.61013437  0.95381056]\n",
            " [ 1.12815215 -1.39030724  0.65512953 -1.56284   ]\n",
            " [-0.88640526 -0.26909172  0.65512953  0.91186639]\n",
            " [-0.88640526  1.49281838  0.70012469 -1.56284   ]\n",
            " [ 1.12815215 -0.50935219  0.70012469  1.54522344]\n",
            " [-0.88640526 -0.82969948  0.74511985 -0.43034725]\n",
            " [-0.88640526 -0.50935219  0.74511985  1.54102902]\n",
            " [ 1.12815215 -1.06995995  0.79011501 -1.56284   ]\n",
            " [ 1.12815215 -0.82969948  0.79011501  1.54522344]\n",
            " [ 1.12815215  0.77203697  0.79011501 -0.59812395]\n",
            " [-0.88640526 -0.50935219  0.79011501  0.99575474]\n",
            " [-0.88640526 -0.34917855  0.83511017 -1.18534241]\n",
            " [ 1.12815215 -0.34917855  0.83511017  1.54522344]\n",
            " [ 1.12815215  0.37160286  0.83511017 -1.39506329]\n",
            " [ 1.12815215  0.05125557  0.83511017  1.54522344]\n",
            " [-0.88640526  0.45168968  0.83511017 -1.26923076]\n",
            " [-0.88640526 -0.02883126  0.83511017  1.07964309]\n",
            " [-0.88640526  0.69195015  0.83511017 -1.43700747]\n",
            " [-0.88640526 -0.90978631  0.83511017  1.54522344]\n",
            " [ 1.12815215 -0.10891808  0.83511017 -1.56284   ]\n",
            " [-0.88640526 -0.66952584  0.83511017  1.16353144]\n",
            " [ 1.12815215 -0.34917855  0.83511017 -1.56284   ]\n",
            " [-0.88640526 -0.66952584  0.83511017  0.95381056]\n",
            " [-0.88640526  1.41273155  0.88010533 -0.64006812]\n",
            " [-0.88640526 -0.74961266  0.88010533  1.37325232]\n",
            " [ 1.12815215 -1.39030724  0.97009565 -1.56284   ]\n",
            " [-0.88640526 -0.58943902  0.97009565  1.54522344]\n",
            " [ 1.12815215  0.93221062  1.1500763  -1.01756571]\n",
            " [-0.88640526 -0.1890049   1.1500763   1.03769891]\n",
            " [ 1.12815215  0.29151603  1.19507146 -1.26923076]\n",
            " [-0.88640526 -0.42926537  1.19507146  1.54522344]\n",
            " [-0.88640526 -0.1890049   1.24006662 -0.97562153]\n",
            " [ 1.12815215 -0.50935219  1.24006662  0.5343688 ]\n",
            " [ 1.12815215  0.13134239  1.24006662 -1.56284   ]\n",
            " [ 1.12815215 -0.82969948  1.24006662  1.03769891]\n",
            " [ 1.12815215 -0.1890049   1.24006662 -1.56284   ]\n",
            " [ 1.12815215 -0.1890049   1.24006662  1.54522344]\n",
            " [-0.88640526  1.09238426  1.28506178 -1.56284   ]\n",
            " [-0.88640526 -0.66952584  1.28506178  1.49908485]\n",
            " [ 1.12815215  1.5729052   1.28506178 -1.47895164]\n",
            " [ 1.12815215 -0.90978631  1.28506178  0.78603386]\n",
            " [ 1.12815215  1.65299202  1.51003758 -1.52089582]\n",
            " [ 1.12815215 -0.26909172  1.51003758  1.54522344]\n",
            " [-0.88640526 -0.10891808  1.52803564 -0.76590065]\n",
            " [-0.88640526 -0.50935219  1.52803564  1.49908485]\n",
            " [ 1.12815215  0.61186333  1.52803564 -1.47895164]\n",
            " [-0.88640526 -0.74961266  1.52803564  1.54522344]\n",
            " [-0.88640526  0.21142921  1.52803564 -0.47229142]\n",
            " [ 1.12815215 -0.66952584  1.52803564  1.54522344]\n",
            " [-0.88640526  1.25255791  1.52803564 -1.10145406]\n",
            " [ 1.12815215 -0.82969948  1.52803564  0.74408968]\n",
            " [-0.88640526  0.21142921  1.52803564 -1.39506329]\n",
            " [-0.88640526 -0.1890049   1.52803564  1.45714067]\n",
            " [-0.88640526 -0.34917855  1.52803564 -1.14339824]\n",
            " [-0.88640526 -0.50935219  1.52803564  0.78603386]\n",
            " [ 1.12815215 -0.42926537  1.52803564 -1.56284   ]\n",
            " [-0.88640526 -0.02883126  1.52803564  1.54522344]\n",
            " [-0.88640526  0.69195015  1.52803564 -1.43700747]\n",
            " [-0.88640526 -0.26909172  1.52803564  1.20547562]\n",
            " [-0.88640526  0.5317765   1.52803564 -0.93367736]\n",
            " [ 1.12815215 -0.50935219  1.52803564  0.99575474]\n",
            " [ 1.12815215 -0.50935219  1.52803564 -1.35311912]\n",
            " [ 1.12815215 -0.66952584  1.52803564  1.37325232]]\n"
          ]
        }
      ]
    },
    {
      "cell_type": "markdown",
      "source": [
        "#Elbow Method To Find Number Of Clusters"
      ],
      "metadata": {
        "id": "93rkLOUWEPP5"
      }
    },
    {
      "cell_type": "code",
      "source": [
        "\n",
        "w=[]\n",
        "K=range(1,10)\n",
        "for k in K:\n",
        "  kmeanModel=KMeans(n_clusters=k)\n",
        "  kmeanModel.fit(scaled)\n",
        "  w.append(kmeanModel.inertia_)\n",
        "\n",
        "  plt.figure(figsize=(16,8))\n",
        "  plt.plot(w)\n",
        "  plt.xlabel('Number of clusters')\n",
        "  plt.ylabel('Distortion')\n",
        "  plt.title('The Elbow Method showing the optimal number of clusters(k)')\n",
        "\n",
        "  plt.show()"
      ],
      "metadata": {
        "colab": {
          "base_uri": "https://localhost:8080/",
          "height": 1000
        },
        "id": "Y2dcipiAEIGY",
        "outputId": "45c8276a-0f51-43f6-d110-8c1abbb0f05d"
      },
      "execution_count": 25,
      "outputs": [
        {
          "output_type": "display_data",
          "data": {
            "text/plain": [
              "<Figure size 1152x576 with 1 Axes>"
            ],
            "image/png": "[encoded data removed]"
          },
          "metadata": {
            "needs_background": "light"
          }
        },
        {
          "output_type": "display_data",
          "data": {
            "text/plain": [
              "<Figure size 1152x576 with 1 Axes>"
            ],
            "image/png": "[encoded data removed]"
          },
          "metadata": {
            "needs_background": "light"
          }
        },
        {
          "output_type": "display_data",
          "data": {
            "text/plain": [
              "<Figure size 1152x576 with 1 Axes>"
            ],
            "image/png": "[encoded data removed]"
          },
          "metadata": {
            "needs_background": "light"
          }
        },
        {
          "output_type": "display_data",
          "data": {
            "text/plain": [
              "<Figure size 1152x576 with 1 Axes>"
            ],
            "image/png": "[encoded data removed]"
          },
          "metadata": {
            "needs_background": "light"
          }
        },
        {
          "output_type": "display_data",
          "data": {
            "text/plain": [
              "<Figure size 1152x576 with 1 Axes>"
            ],
            "image/png": "[encoded data removed]"
          },
          "metadata": {
            "needs_background": "light"
          }
        },
        {
          "output_type": "display_data",
          "data": {
            "text/plain": [
              "<Figure size 1152x576 with 1 Axes>"
            ],
            "image/png": "[encoded data removed]"
          },
          "metadata": {
            "needs_background": "light"
          }
        },
        {
          "output_type": "display_data",
          "data": {
            "text/plain": [
              "<Figure size 1152x576 with 1 Axes>"
            ],
            "image/png": "[encoded data removed]"
          },
          "metadata": {
            "needs_background": "light"
          }
        },
        {
          "output_type": "display_data",
          "data": {
            "text/plain": [
              "<Figure size 1152x576 with 1 Axes>"
            ],
            "image/png": "[encoded data removed]"
          },
          "metadata": {
            "needs_background": "light"
          }
        },
        {
          "output_type": "display_data",
          "data": {
            "text/plain": [
              "<Figure size 1152x576 with 1 Axes>"
            ],
            "image/png": "[encoded data removed]"
          },
          "metadata": {
            "needs_background": "light"
          }
        }
      ]
    },
    {
      "cell_type": "markdown",
      "source": [
        "#Training the model-support vectom regression"
      ],
      "metadata": {
        "id": "kUeBZK7NEkP0"
      }
    },
    {
      "cell_type": "code",
      "source": [
        "\n",
        "from sklearn.cluster import KMeans\n",
        "kmean=KMeans(n_clusters=3)\n",
        "kmean.fit(scaled)\n",
        "y_pred=kmean.predict(scaled)\n",
        "df['pred_cluster']=y_pred\n",
        "df.head\n"
      ],
      "metadata": {
        "colab": {
          "base_uri": "https://localhost:8080/"
        },
        "id": "BKLTYUR8EahF",
        "outputId": "c811b9c0-555f-4561-bb5f-0f0b7a5d9a66"
      },
      "execution_count": 20,
      "outputs": [
        {
          "output_type": "execute_result",
          "data": {
            "text/plain": [
              "<bound method NDFrame.head of      Gender   Age  Annual Income (k$)  Spending Score (1-100)  pred_cluster\n",
              "0         1  21.0                23.9                    39.0             0\n",
              "1         1  21.0                23.9                    81.0             0\n",
              "2         0  21.0                23.9                    13.0             2\n",
              "3         0  23.0                23.9                    77.0             0\n",
              "4         0  31.0                23.9                    40.0             2\n",
              "..      ...   ...                 ...                     ...           ...\n",
              "195       0  35.0                93.4                    79.0             0\n",
              "196       0  45.0                93.4                    28.0             2\n",
              "197       1  32.0                93.4                    74.0             0\n",
              "198       1  32.0                93.4                    18.0             1\n",
              "199       1  30.0                93.4                    83.0             0\n",
              "\n",
              "[200 rows x 5 columns]>"
            ]
          },
          "metadata": {},
          "execution_count": 20
        }
      ]
    },
    {
      "cell_type": "markdown",
      "source": [
        "#Independent Variables"
      ],
      "metadata": {
        "id": "DCn-KHrYEvTQ"
      }
    },
    {
      "cell_type": "code",
      "source": [
        "\n",
        "l2=list(df.columns)\n",
        "df2=df[l2[:len(l2)-1]]\n",
        "df2.head()"
      ],
      "metadata": {
        "colab": {
          "base_uri": "https://localhost:8080/",
          "height": 206
        },
        "id": "o11ROKuREo1M",
        "outputId": "366e3d90-9a35-4244-a8fa-7fc1ccf0943b"
      },
      "execution_count": 21,
      "outputs": [
        {
          "output_type": "execute_result",
          "data": {
            "text/plain": [
              "   Gender   Age  Annual Income (k$)  Spending Score (1-100)\n",
              "0       1  21.0                23.9                    39.0\n",
              "1       1  21.0                23.9                    81.0\n",
              "2       0  21.0                23.9                    13.0\n",
              "3       0  23.0                23.9                    77.0\n",
              "4       0  31.0                23.9                    40.0"
            ],
            "text/html": [
              "\n",
              "  <div id=\"df-cb392b68-86f4-44e8-b902-e05eaab8d568\">\n",
              "    <div class=\"colab-df-container\">\n",
              "      <div>\n",
              "<style scoped>\n",
              "    .dataframe tbody tr th:only-of-type {\n",
              "        vertical-align: middle;\n",
              "    }\n",
              "\n",
              "    .dataframe tbody tr th {\n",
              "        vertical-align: top;\n",
              "    }\n",
              "\n",
              "    .dataframe thead th {\n",
              "        text-align: right;\n",
              "    }\n",
              "</style>\n",
              "<table border=\"1\" class=\"dataframe\">\n",
              "  <thead>\n",
              "    <tr style=\"text-align: right;\">\n",
              "      <th></th>\n",
              "      <th>Gender</th>\n",
              "      <th>Age</th>\n",
              "      <th>Annual Income (k$)</th>\n",
              "      <th>Spending Score (1-100)</th>\n",
              "    </tr>\n",
              "  </thead>\n",
              "  <tbody>\n",
              "    <tr>\n",
              "      <th>0</th>\n",
              "      <td>1</td>\n",
              "      <td>21.0</td>\n",
              "      <td>23.9</td>\n",
              "      <td>39.0</td>\n",
              "    </tr>\n",
              "    <tr>\n",
              "      <th>1</th>\n",
              "      <td>1</td>\n",
              "      <td>21.0</td>\n",
              "      <td>23.9</td>\n",
              "      <td>81.0</td>\n",
              "    </tr>\n",
              "    <tr>\n",
              "      <th>2</th>\n",
              "      <td>0</td>\n",
              "      <td>21.0</td>\n",
              "      <td>23.9</td>\n",
              "      <td>13.0</td>\n",
              "    </tr>\n",
              "    <tr>\n",
              "      <th>3</th>\n",
              "      <td>0</td>\n",
              "      <td>23.0</td>\n",
              "      <td>23.9</td>\n",
              "      <td>77.0</td>\n",
              "    </tr>\n",
              "    <tr>\n",
              "      <th>4</th>\n",
              "      <td>0</td>\n",
              "      <td>31.0</td>\n",
              "      <td>23.9</td>\n",
              "      <td>40.0</td>\n",
              "    </tr>\n",
              "  </tbody>\n",
              "</table>\n",
              "</div>\n",
              "      <button class=\"colab-df-convert\" onclick=\"convertToInteractive('df-cb392b68-86f4-44e8-b902-e05eaab8d568')\"\n",
              "              title=\"Convert this dataframe to an interactive table.\"\n",
              "              style=\"display:none;\">\n",
              "        \n",
              "  <svg xmlns=\"http://www.w3.org/2000/svg\" height=\"24px\"viewBox=\"0 0 24 24\"\n",
              "       width=\"24px\">\n",
              "    <path d=\"M0 0h24v24H0V0z\" fill=\"none\"/>\n",
              "    <path d=\"M18.56 5.44l.94 2.06.94-2.06 2.06-.94-2.06-.94-.94-2.06-.94 2.06-2.06.94zm-11 1L8.5 8.5l.94-2.06 2.06-.94-2.06-.94L8.5 2.5l-.94 2.06-2.06.94zm10 10l.94 2.06.94-2.06 2.06-.94-2.06-.94-.94-2.06-.94 2.06-2.06.94z\"/><path d=\"M17.41 7.96l-1.37-1.37c-.4-.4-.92-.59-1.43-.59-.52 0-1.04.2-1.43.59L10.3 9.45l-7.72 7.72c-.78.78-.78 2.05 0 2.83L4 21.41c.39.39.9.59 1.41.59.51 0 1.02-.2 1.41-.59l7.78-7.78 2.81-2.81c.8-.78.8-2.07 0-2.86zM5.41 20L4 18.59l7.72-7.72 1.47 1.35L5.41 20z\"/>\n",
              "  </svg>\n",
              "      </button>\n",
              "      \n",
              "  <style>\n",
              "    .colab-df-container {\n",
              "      display:flex;\n",
              "      flex-wrap:wrap;\n",
              "      gap: 12px;\n",
              "    }\n",
              "\n",
              "    .colab-df-convert {\n",
              "      background-color: #E8F0FE;\n",
              "      border: none;\n",
              "      border-radius: 50%;\n",
              "      cursor: pointer;\n",
              "      display: none;\n",
              "      fill: #1967D2;\n",
              "      height: 32px;\n",
              "      padding: 0 0 0 0;\n",
              "      width: 32px;\n",
              "    }\n",
              "\n",
              "    .colab-df-convert:hover {\n",
              "      background-color: #E2EBFA;\n",
              "      box-shadow: 0px 1px 2px rgba(60, 64, 67, 0.3), 0px 1px 3px 1px rgba(60, 64, 67, 0.15);\n",
              "      fill: #174EA6;\n",
              "    }\n",
              "\n",
              "    [theme=dark] .colab-df-convert {\n",
              "      background-color: #3B4455;\n",
              "      fill: #D2E3FC;\n",
              "    }\n",
              "\n",
              "    [theme=dark] .colab-df-convert:hover {\n",
              "      background-color: #434B5C;\n",
              "      box-shadow: 0px 1px 3px 1px rgba(0, 0, 0, 0.15);\n",
              "      filter: drop-shadow(0px 1px 2px rgba(0, 0, 0, 0.3));\n",
              "      fill: #FFFFFF;\n",
              "    }\n",
              "  </style>\n",
              "\n",
              "      <script>\n",
              "        const buttonEl =\n",
              "          document.querySelector('#df-cb392b68-86f4-44e8-b902-e05eaab8d568 button.colab-df-convert');\n",
              "        buttonEl.style.display =\n",
              "          google.colab.kernel.accessAllowed ? 'block' : 'none';\n",
              "\n",
              "        async function convertToInteractive(key) {\n",
              "          const element = document.querySelector('#df-cb392b68-86f4-44e8-b902-e05eaab8d568');\n",
              "          const dataTable =\n",
              "            await google.colab.kernel.invokeFunction('convertToInteractive',\n",
              "                                                     [key], {});\n",
              "          if (!dataTable) return;\n",
              "\n",
              "          const docLinkHtml = 'Like what you see? Visit the ' +\n",
              "            '<a target=\"_blank\" href=https://colab.research.google.com/notebooks/data_table.ipynb>data table notebook</a>'\n",
              "            + ' to learn more about interactive tables.';\n",
              "          element.innerHTML = '';\n",
              "          dataTable['output_type'] = 'display_data';\n",
              "          await google.colab.output.renderOutput(dataTable, element);\n",
              "          const docLink = document.createElement('div');\n",
              "          docLink.innerHTML = docLinkHtml;\n",
              "          element.appendChild(docLink);\n",
              "        }\n",
              "      </script>\n",
              "    </div>\n",
              "  </div>\n",
              "  "
            ]
          },
          "metadata": {},
          "execution_count": 21
        }
      ]
    },
    {
      "cell_type": "markdown",
      "source": [
        "#Dependent Variables"
      ],
      "metadata": {
        "id": "r8TDZkRRE5DD"
      }
    },
    {
      "cell_type": "code",
      "source": [
        "\n",
        "df1=df['pred_cluster']\n",
        "df1"
      ],
      "metadata": {
        "colab": {
          "base_uri": "https://localhost:8080/"
        },
        "id": "1OF0LwbVE3dq",
        "outputId": "142a9b4b-a1af-4d90-e6a9-f13819a7d87e"
      },
      "execution_count": 22,
      "outputs": [
        {
          "output_type": "execute_result",
          "data": {
            "text/plain": [
              "0      0\n",
              "1      0\n",
              "2      2\n",
              "3      0\n",
              "4      2\n",
              "      ..\n",
              "195    0\n",
              "196    2\n",
              "197    0\n",
              "198    1\n",
              "199    0\n",
              "Name: pred_cluster, Length: 200, dtype: int32"
            ]
          },
          "metadata": {},
          "execution_count": 22
        }
      ]
    },
    {
      "cell_type": "markdown",
      "source": [
        "#Scaling Variables"
      ],
      "metadata": {
        "id": "9QOREv0HFBdV"
      }
    },
    {
      "cell_type": "code",
      "source": [
        "\n",
        "import pandas as pd\n",
        "from sklearn.preprocessing import StandardScaler\n",
        "scaler=StandardScaler()\n",
        "scaled=scaler.fit_transform(df)\n",
        "print(scaled)"
      ],
      "metadata": {
        "colab": {
          "base_uri": "https://localhost:8080/"
        },
        "id": "EliUBzy5E8sz",
        "outputId": "9225b1be-1c9c-4534-983d-ca5a44c1176f"
      },
      "execution_count": 23,
      "outputs": [
        {
          "output_type": "stream",
          "name": "stdout",
          "text": [
            "[[ 1.12815215 -1.39030724 -1.599128   -0.47229142 -1.04781942]\n",
            " [ 1.12815215 -1.39030724 -1.599128    1.28936397 -1.04781942]\n",
            " [-0.88640526 -1.39030724 -1.599128   -1.56284     1.26780361]\n",
            " [-0.88640526 -1.2301336  -1.599128    1.12158726 -1.04781942]\n",
            " [-0.88640526 -0.58943902 -1.599128   -0.43034725  1.26780361]\n",
            " [-0.88640526 -1.31022042 -1.599128    1.07964309 -1.04781942]\n",
            " [-0.88640526 -0.26909172 -1.599128   -1.56284     1.26780361]\n",
            " [-0.88640526 -1.2301336  -1.599128    1.54522344 -1.04781942]\n",
            " [ 1.12815215  1.6610007  -1.599128   -1.56284     0.10999209]\n",
            " [-0.88640526 -0.66952584 -1.599128    0.91186639 -1.04781942]\n",
            " [ 1.12815215  1.6610007  -1.599128   -1.52089582  0.10999209]\n",
            " [-0.88640526 -0.26909172 -1.599128    1.54522344 -1.04781942]\n",
            " [-0.88640526  1.5729052  -1.599128   -1.47895164  1.26780361]\n",
            " [-0.88640526 -1.15004677 -1.599128    1.12158726 -1.04781942]\n",
            " [ 1.12815215 -0.10891808 -1.599128   -1.56284     0.10999209]\n",
            " [ 1.12815215 -1.31022042 -1.599128    1.20547562 -1.04781942]\n",
            " [-0.88640526 -0.26909172 -1.599128   -0.64006812  1.26780361]\n",
            " [ 1.12815215 -1.39030724 -1.599128    0.66020133 -1.04781942]\n",
            " [ 1.12815215  1.09238426 -1.599128   -0.89173318  0.10999209]\n",
            " [-0.88640526 -0.26909172 -1.599128    1.54522344 -1.04781942]\n",
            " [ 1.12815215 -0.26909172 -1.59462848 -0.64006812  0.10999209]\n",
            " [ 1.12815215 -1.06995995 -1.59462848  0.95381056 -1.04781942]\n",
            " [-0.88640526  0.61186333 -1.54963332 -1.56284     1.26780361]\n",
            " [ 1.12815215 -0.58943902 -1.54963332  0.95381056 -1.04781942]\n",
            " [-0.88640526  1.25255791 -1.41464784 -1.52089582  1.26780361]\n",
            " [ 1.12815215 -0.74961266 -1.41464784  1.33130814 -1.04781942]\n",
            " [-0.88640526  0.5317765  -1.41464784 -0.76590065  1.26780361]\n",
            " [ 1.12815215 -0.26909172 -1.41464784  0.45048045 -1.04781942]\n",
            " [-0.88640526  0.13134239 -1.36965268 -0.80784483  1.26780361]\n",
            " [-0.88640526 -1.2301336  -1.36965268  1.54102902 -1.04781942]\n",
            " [ 1.12815215  1.6610007  -1.32465752 -1.56284     0.10999209]\n",
            " [-0.88640526 -1.39030724 -1.32465752  0.95381056 -1.04781942]\n",
            " [ 1.12815215  1.17247108 -1.18967204 -1.56284     0.10999209]\n",
            " [ 1.12815215 -1.39030724 -1.18967204  1.54522344 -1.04781942]\n",
            " [-0.88640526  0.85212379 -1.18967204 -1.52089582  1.26780361]\n",
            " [-0.88640526 -1.39030724 -1.18967204  1.28936397 -1.04781942]\n",
            " [-0.88640526  0.29151603 -1.14467688 -1.39506329  1.26780361]\n",
            " [-0.88640526 -0.66952584 -1.14467688  0.95381056 -1.04781942]\n",
            " [-0.88640526 -0.1890049  -1.0096914  -1.01756571  1.26780361]\n",
            " [-0.88640526 -1.39030724 -1.0096914   1.03769891 -1.04781942]\n",
            " [-0.88640526  1.6610007  -0.96469624 -0.64006812  1.26780361]\n",
            " [ 1.12815215 -1.15004677 -0.96469624  1.54522344 -1.04781942]\n",
            " [ 1.12815215  0.77203697 -0.91970108 -0.59812395  0.10999209]\n",
            " [-0.88640526 -0.58943902 -0.91970108  0.45048045 -1.04781942]\n",
            " [-0.88640526  0.85212379 -0.91970108 -0.93367736  1.26780361]\n",
            " [-0.88640526 -1.15004677 -0.91970108  0.61825715 -1.04781942]\n",
            " [-0.88640526  0.93221062 -0.87470592  0.19881539  1.26780361]\n",
            " [-0.88640526 -0.90978631 -0.87470592 -0.13673801  1.26780361]\n",
            " [-0.88640526 -0.74961266 -0.87470592 -0.34645889  1.26780361]\n",
            " [-0.88640526 -0.58943902 -0.87470592 -0.34645889  1.26780361]\n",
            " [-0.88640526  0.85212379 -0.78471559  0.07298287  1.26780361]\n",
            " [ 1.12815215 -0.42926537 -0.78471559  0.40853627 -1.04781942]\n",
            " [-0.88640526 -0.58943902 -0.73972043  0.15687122  1.26780361]\n",
            " [ 1.12815215  1.65299202 -0.73972043  0.40853627  0.10999209]\n",
            " [-0.88640526  0.93221062 -0.73972043 -0.22062637  1.26780361]\n",
            " [ 1.12815215  0.69195015 -0.73972043 -0.38840307  0.10999209]\n",
            " [-0.88640526  1.01229744 -0.69472527 -0.01090549  1.26780361]\n",
            " [ 1.12815215  1.6610007  -0.69472527 -0.17868219  0.10999209]\n",
            " [-0.88640526 -0.90978631 -0.60473495  0.03103869 -1.04781942]\n",
            " [ 1.12815215  1.17247108 -0.60473495 -0.17868219  0.10999209]\n",
            " [ 1.12815215  1.6610007  -0.60473495  0.24075957  0.10999209]\n",
            " [ 1.12815215 -1.39030724 -0.60473495  0.19881539 -1.04781942]\n",
            " [-0.88640526  1.6610007  -0.55973979  0.07298287  1.26780361]\n",
            " [-0.88640526  1.25255791 -0.55973979  0.3665921   1.26780361]\n",
            " [ 1.12815215  1.6610007  -0.51474463  0.03103869  0.10999209]\n",
            " [ 1.12815215 -1.39030724 -0.51474463  0.3665921  -1.04781942]\n",
            " [-0.88640526  0.37160286 -0.51474463 -0.01090549  1.26780361]\n",
            " [-0.88640526  1.6610007  -0.51474463 -0.09479384  1.26780361]\n",
            " [ 1.12815215 -1.39030724 -0.51474463  0.3665921  -1.04781942]\n",
            " [-0.88640526 -0.50935219 -0.51474463 -0.13673801  1.26780361]\n",
            " [ 1.12815215  1.6610007  -0.46974947  0.19881539  0.10999209]\n",
            " [-0.88640526  0.69195015 -0.46974947 -0.34645889  1.26780361]\n",
            " [-0.88640526  1.6610007  -0.42475431 -0.05284966  1.26780361]\n",
            " [-0.88640526  1.6610007  -0.42475431  0.24075957  1.26780361]\n",
            " [ 1.12815215  1.65299202 -0.24477367 -0.13673801  0.10999209]\n",
            " [ 1.12815215 -0.98987313 -0.24477367  0.15687122 -1.04781942]\n",
            " [-0.88640526  0.5317765  -0.24477367  0.11492704  1.26780361]\n",
            " [ 1.12815215  0.13134239 -0.24477367 -0.09479384  0.10999209]\n",
            " [-0.88640526 -1.2301336  -0.24477367  0.07298287 -1.04781942]\n",
            " [-0.88640526  0.85212379 -0.24477367 -0.34645889  1.26780361]\n",
            " [ 1.12815215  1.49281838 -0.24477367  0.03103869  0.10999209]\n",
            " [ 1.12815215 -0.02883126 -0.24477367  0.19881539  0.10999209]\n",
            " [ 1.12815215  1.6610007  -0.24477367 -0.38840307  0.10999209]\n",
            " [-0.88640526  0.61186333 -0.24477367 -0.26257054  1.26780361]\n",
            " [-0.88640526 -1.39030724 -0.24477367  0.28270375 -1.04781942]\n",
            " [ 1.12815215  0.77203697 -0.24477367 -0.17868219  0.10999209]\n",
            " [-0.88640526  1.33264473 -0.10978819  0.32464792  1.26780361]\n",
            " [-0.88640526 -1.31022042 -0.10978819  0.19881539 -1.04781942]\n",
            " [-0.88640526 -0.34917855 -0.06479303  0.40853627 -1.04781942]\n",
            " [-0.88640526  0.93221062 -0.06479303 -0.17868219  1.26780361]\n",
            " [-0.88640526  1.6610007  -0.01979787  0.19881539  1.26780361]\n",
            " [ 1.12815215 -1.39030724 -0.01979787 -0.38840307 -1.04781942]\n",
            " [ 1.12815215  0.77203697  0.02519729 -0.05284966  0.10999209]\n",
            " [-0.88640526  0.13134239  0.02519729 -0.43034725  1.26780361]\n",
            " [-0.88640526 -0.50935219  0.02519729 -0.34645889  1.26780361]\n",
            " [ 1.12815215 -1.15004677  0.02519729  0.07298287 -1.04781942]\n",
            " [-0.88640526  0.69195015  0.02519729 -0.13673801  1.26780361]\n",
            " [-0.88640526 -0.90978631  0.02519729 -0.01090549 -1.04781942]\n",
            " [ 1.12815215  0.77203697  0.07019245 -0.34645889  0.10999209]\n",
            " [ 1.12815215 -1.39030724  0.07019245 -0.05284966 -1.04781942]\n",
            " [-0.88640526 -1.2301336   0.11518761 -0.38840307 -1.04781942]\n",
            " [-0.88640526  0.85212379  0.11518761 -0.09479384  1.26780361]\n",
            " [ 1.12815215  1.6610007   0.11518761  0.3665921   0.10999209]\n",
            " [ 1.12815215 -0.98987313  0.11518761  0.19881539 -1.04781942]\n",
            " [ 1.12815215  0.85212379  0.11518761  0.24075957  0.10999209]\n",
            " [-0.88640526 -1.39030724  0.11518761 -0.34645889 -1.04781942]\n",
            " [-0.88640526  1.6610007   0.16018277 -0.01090549  1.26780361]\n",
            " [ 1.12815215  1.25255791  0.16018277 -0.17868219  0.10999209]\n",
            " [ 1.12815215  1.6610007   0.16018277 -0.30451472  0.10999209]\n",
            " [ 1.12815215  1.6610007   0.16018277 -0.09479384  0.10999209]\n",
            " [ 1.12815215  1.6610007   0.16018277  0.07298287  0.10999209]\n",
            " [-0.88640526 -1.39030724  0.16018277  0.15687122 -1.04781942]\n",
            " [-0.88640526 -0.02883126  0.20517793 -0.34645889  1.26780361]\n",
            " [ 1.12815215 -1.39030724  0.20517793 -0.17868219 -1.04781942]\n",
            " [-0.88640526 -1.39030724  0.25017309 -0.09479384 -1.04781942]\n",
            " [-0.88640526 -1.39030724  0.25017309 -0.01090549 -1.04781942]\n",
            " [-0.88640526  1.6610007   0.25017309 -0.30451472  1.26780361]\n",
            " [-0.88640526  0.85212379  0.25017309  0.3665921   1.26780361]\n",
            " [-0.88640526  1.01229744  0.34016341 -0.30451472  1.26780361]\n",
            " [-0.88640526  0.93221062  0.34016341  0.28270375  1.26780361]\n",
            " [ 1.12815215 -0.90978631  0.34016341  0.24075957 -1.04781942]\n",
            " [-0.88640526 -0.02883126  0.34016341 -0.43034725  1.26780361]\n",
            " [-0.88640526  0.13134239  0.43015373  0.32464792  1.26780361]\n",
            " [ 1.12815215  0.05125557  0.43015373  1.54522344 -1.04781942]\n",
            " [-0.88640526 -1.2301336   0.47514889 -0.89173318  1.26780361]\n",
            " [-0.88640526 -0.58943902  0.47514889  1.12158726 -1.04781942]\n",
            " [ 1.12815215  0.37160286  0.52014405 -0.64006812  0.10999209]\n",
            " [ 1.12815215  0.13134239  0.52014405  1.54522344 -1.04781942]\n",
            " [ 1.12815215  1.65299202  0.52014405 -1.56284     0.10999209]\n",
            " [ 1.12815215 -0.02883126  0.52014405  1.03769891 -1.04781942]\n",
            " [ 1.12815215  0.69195015  0.52014405 -1.56284     0.10999209]\n",
            " [ 1.12815215  0.05125557  0.52014405  1.03769891 -1.04781942]\n",
            " [-0.88640526 -1.06995995  0.56513921 -0.6820123   1.26780361]\n",
            " [-0.88640526 -0.58943902  0.56513921  0.86992221 -1.04781942]\n",
            " [ 1.12815215 -1.39030724  0.61013437 -1.56284     0.10999209]\n",
            " [-0.88640526 -0.74961266  0.61013437  1.54522344 -1.04781942]\n",
            " [-0.88640526  0.45168968  0.61013437 -1.56284     1.26780361]\n",
            " [ 1.12815215 -0.50935219  0.61013437  0.95381056 -1.04781942]\n",
            " [ 1.12815215 -1.39030724  0.65512953 -1.56284     0.10999209]\n",
            " [-0.88640526 -0.26909172  0.65512953  0.91186639 -1.04781942]\n",
            " [-0.88640526  1.49281838  0.70012469 -1.56284     1.26780361]\n",
            " [ 1.12815215 -0.50935219  0.70012469  1.54522344 -1.04781942]\n",
            " [-0.88640526 -0.82969948  0.74511985 -0.43034725  1.26780361]\n",
            " [-0.88640526 -0.50935219  0.74511985  1.54102902 -1.04781942]\n",
            " [ 1.12815215 -1.06995995  0.79011501 -1.56284     0.10999209]\n",
            " [ 1.12815215 -0.82969948  0.79011501  1.54522344 -1.04781942]\n",
            " [ 1.12815215  0.77203697  0.79011501 -0.59812395  0.10999209]\n",
            " [-0.88640526 -0.50935219  0.79011501  0.99575474 -1.04781942]\n",
            " [-0.88640526 -0.34917855  0.83511017 -1.18534241  1.26780361]\n",
            " [ 1.12815215 -0.34917855  0.83511017  1.54522344 -1.04781942]\n",
            " [ 1.12815215  0.37160286  0.83511017 -1.39506329  0.10999209]\n",
            " [ 1.12815215  0.05125557  0.83511017  1.54522344 -1.04781942]\n",
            " [-0.88640526  0.45168968  0.83511017 -1.26923076  1.26780361]\n",
            " [-0.88640526 -0.02883126  0.83511017  1.07964309 -1.04781942]\n",
            " [-0.88640526  0.69195015  0.83511017 -1.43700747  1.26780361]\n",
            " [-0.88640526 -0.90978631  0.83511017  1.54522344 -1.04781942]\n",
            " [ 1.12815215 -0.10891808  0.83511017 -1.56284     0.10999209]\n",
            " [-0.88640526 -0.66952584  0.83511017  1.16353144 -1.04781942]\n",
            " [ 1.12815215 -0.34917855  0.83511017 -1.56284     0.10999209]\n",
            " [-0.88640526 -0.66952584  0.83511017  0.95381056 -1.04781942]\n",
            " [-0.88640526  1.41273155  0.88010533 -0.64006812  1.26780361]\n",
            " [-0.88640526 -0.74961266  0.88010533  1.37325232 -1.04781942]\n",
            " [ 1.12815215 -1.39030724  0.97009565 -1.56284     0.10999209]\n",
            " [-0.88640526 -0.58943902  0.97009565  1.54522344 -1.04781942]\n",
            " [ 1.12815215  0.93221062  1.1500763  -1.01756571  0.10999209]\n",
            " [-0.88640526 -0.1890049   1.1500763   1.03769891 -1.04781942]\n",
            " [ 1.12815215  0.29151603  1.19507146 -1.26923076  0.10999209]\n",
            " [-0.88640526 -0.42926537  1.19507146  1.54522344 -1.04781942]\n",
            " [-0.88640526 -0.1890049   1.24006662 -0.97562153  1.26780361]\n",
            " [ 1.12815215 -0.50935219  1.24006662  0.5343688  -1.04781942]\n",
            " [ 1.12815215  0.13134239  1.24006662 -1.56284     0.10999209]\n",
            " [ 1.12815215 -0.82969948  1.24006662  1.03769891 -1.04781942]\n",
            " [ 1.12815215 -0.1890049   1.24006662 -1.56284     0.10999209]\n",
            " [ 1.12815215 -0.1890049   1.24006662  1.54522344 -1.04781942]\n",
            " [-0.88640526  1.09238426  1.28506178 -1.56284     1.26780361]\n",
            " [-0.88640526 -0.66952584  1.28506178  1.49908485 -1.04781942]\n",
            " [ 1.12815215  1.5729052   1.28506178 -1.47895164  0.10999209]\n",
            " [ 1.12815215 -0.90978631  1.28506178  0.78603386 -1.04781942]\n",
            " [ 1.12815215  1.65299202  1.51003758 -1.52089582  0.10999209]\n",
            " [ 1.12815215 -0.26909172  1.51003758  1.54522344 -1.04781942]\n",
            " [-0.88640526 -0.10891808  1.52803564 -0.76590065  1.26780361]\n",
            " [-0.88640526 -0.50935219  1.52803564  1.49908485 -1.04781942]\n",
            " [ 1.12815215  0.61186333  1.52803564 -1.47895164  0.10999209]\n",
            " [-0.88640526 -0.74961266  1.52803564  1.54522344 -1.04781942]\n",
            " [-0.88640526  0.21142921  1.52803564 -0.47229142  1.26780361]\n",
            " [ 1.12815215 -0.66952584  1.52803564  1.54522344 -1.04781942]\n",
            " [-0.88640526  1.25255791  1.52803564 -1.10145406  1.26780361]\n",
            " [ 1.12815215 -0.82969948  1.52803564  0.74408968 -1.04781942]\n",
            " [-0.88640526  0.21142921  1.52803564 -1.39506329  1.26780361]\n",
            " [-0.88640526 -0.1890049   1.52803564  1.45714067 -1.04781942]\n",
            " [-0.88640526 -0.34917855  1.52803564 -1.14339824  1.26780361]\n",
            " [-0.88640526 -0.50935219  1.52803564  0.78603386 -1.04781942]\n",
            " [ 1.12815215 -0.42926537  1.52803564 -1.56284     0.10999209]\n",
            " [-0.88640526 -0.02883126  1.52803564  1.54522344 -1.04781942]\n",
            " [-0.88640526  0.69195015  1.52803564 -1.43700747  1.26780361]\n",
            " [-0.88640526 -0.26909172  1.52803564  1.20547562 -1.04781942]\n",
            " [-0.88640526  0.5317765   1.52803564 -0.93367736  1.26780361]\n",
            " [ 1.12815215 -0.50935219  1.52803564  0.99575474 -1.04781942]\n",
            " [ 1.12815215 -0.50935219  1.52803564 -1.35311912  0.10999209]\n",
            " [ 1.12815215 -0.66952584  1.52803564  1.37325232 -1.04781942]]\n"
          ]
        }
      ]
    },
    {
      "cell_type": "markdown",
      "source": [
        "#Splitting Dataset"
      ],
      "metadata": {
        "id": "OfDHSZHZKivE"
      }
    },
    {
      "cell_type": "code",
      "source": [
        "\n",
        "import numpy as np\n",
        "from sklearn.model_selection import train_test_split\n",
        "y=df['pred_cluster'].to_numpy()\n",
        "X_train,X_test,y_train,y_test=train_test_split(scaled,y,test_size=0.10,random_state=42)"
      ],
      "metadata": {
        "id": "3_n7U1SsKgLE"
      },
      "execution_count": 28,
      "outputs": []
    },
    {
      "cell_type": "code",
      "source": [
        "X_train.shape"
      ],
      "metadata": {
        "colab": {
          "base_uri": "https://localhost:8080/"
        },
        "id": "kfOTdYfuKm5e",
        "outputId": "be29317f-03c1-4db2-8b36-fbccab23caeb"
      },
      "execution_count": 29,
      "outputs": [
        {
          "output_type": "execute_result",
          "data": {
            "text/plain": [
              "(180, 5)"
            ]
          },
          "metadata": {},
          "execution_count": 29
        }
      ]
    },
    {
      "cell_type": "code",
      "source": [
        "X_test.shape"
      ],
      "metadata": {
        "colab": {
          "base_uri": "https://localhost:8080/"
        },
        "id": "HDclgZzpK9KN",
        "outputId": "1ce6efcc-90ee-453b-f406-b690d4d9e238"
      },
      "execution_count": 30,
      "outputs": [
        {
          "output_type": "execute_result",
          "data": {
            "text/plain": [
              "(20, 5)"
            ]
          },
          "metadata": {},
          "execution_count": 30
        }
      ]
    },
    {
      "cell_type": "code",
      "source": [
        "y_train.shape"
      ],
      "metadata": {
        "colab": {
          "base_uri": "https://localhost:8080/"
        },
        "id": "vhfVDgFVLAx1",
        "outputId": "3c951cc5-2eca-4a59-99f3-ee1909dbceef"
      },
      "execution_count": 31,
      "outputs": [
        {
          "output_type": "execute_result",
          "data": {
            "text/plain": [
              "(180,)"
            ]
          },
          "metadata": {},
          "execution_count": 31
        }
      ]
    },
    {
      "cell_type": "code",
      "source": [
        "y_test.shape\n"
      ],
      "metadata": {
        "colab": {
          "base_uri": "https://localhost:8080/"
        },
        "id": "YKMf-V81LFAe",
        "outputId": "ac73a7e4-a50d-4793-ce90-afa89ebfd25b"
      },
      "execution_count": 32,
      "outputs": [
        {
          "output_type": "execute_result",
          "data": {
            "text/plain": [
              "(20,)"
            ]
          },
          "metadata": {},
          "execution_count": 32
        }
      ]
    },
    {
      "cell_type": "markdown",
      "source": [
        "#Training the model"
      ],
      "metadata": {
        "id": "P3o3HuiALUbe"
      }
    },
    {
      "cell_type": "code",
      "source": [
        "\n",
        "from sklearn.svm import SVR\n",
        "regrassor=SVR(kernel='rbf')\n",
        "regrassor.fit(X_train,y_train)\n",
        "SVR()"
      ],
      "metadata": {
        "colab": {
          "base_uri": "https://localhost:8080/"
        },
        "id": "VH3WLd3RLSZY",
        "outputId": "cd58e10f-78a8-4f8c-f3bc-6719386f3fc3"
      },
      "execution_count": 34,
      "outputs": [
        {
          "output_type": "execute_result",
          "data": {
            "text/plain": [
              "SVR()"
            ]
          },
          "metadata": {},
          "execution_count": 34
        }
      ]
    },
    {
      "cell_type": "markdown",
      "source": [
        "#Testing the model"
      ],
      "metadata": {
        "id": "utf43hFeLehY"
      }
    },
    {
      "cell_type": "code",
      "source": [
        "#Testing the model\n",
        "y_pred=regrassor.predict((X_test))\n",
        "df3=pd.DataFrame({'Predicted value':y_pred,'Real Value':y_test})\n",
        "df3"
      ],
      "metadata": {
        "colab": {
          "base_uri": "https://localhost:8080/",
          "height": 676
        },
        "id": "J7sNH6KlLYzM",
        "outputId": "0448dfd8-f855-45f0-d338-a4ead7294eb1"
      },
      "execution_count": 35,
      "outputs": [
        {
          "output_type": "execute_result",
          "data": {
            "text/plain": [
              "    Predicted value  Real Value\n",
              "0          0.004577           0\n",
              "1          0.069934           0\n",
              "2          1.099703           1\n",
              "3          1.042293           1\n",
              "4          1.096394           1\n",
              "5          0.019896           0\n",
              "6          2.002806           2\n",
              "7          1.076885           1\n",
              "8          1.882458           2\n",
              "9         -0.049066           0\n",
              "10         2.037067           2\n",
              "11         1.090838           1\n",
              "12         0.025240           0\n",
              "13        -0.023224           0\n",
              "14         1.854325           2\n",
              "15         0.054050           0\n",
              "16         2.016048           2\n",
              "17         2.039376           2\n",
              "18         1.111049           1\n",
              "19        -0.055738           0"
            ],
            "text/html": [
              "\n",
              "  <div id=\"df-2fc6d3a8-8bcb-44a7-ac36-91066416f56b\">\n",
              "    <div class=\"colab-df-container\">\n",
              "      <div>\n",
              "<style scoped>\n",
              "    .dataframe tbody tr th:only-of-type {\n",
              "        vertical-align: middle;\n",
              "    }\n",
              "\n",
              "    .dataframe tbody tr th {\n",
              "        vertical-align: top;\n",
              "    }\n",
              "\n",
              "    .dataframe thead th {\n",
              "        text-align: right;\n",
              "    }\n",
              "</style>\n",
              "<table border=\"1\" class=\"dataframe\">\n",
              "  <thead>\n",
              "    <tr style=\"text-align: right;\">\n",
              "      <th></th>\n",
              "      <th>Predicted value</th>\n",
              "      <th>Real Value</th>\n",
              "    </tr>\n",
              "  </thead>\n",
              "  <tbody>\n",
              "    <tr>\n",
              "      <th>0</th>\n",
              "      <td>0.004577</td>\n",
              "      <td>0</td>\n",
              "    </tr>\n",
              "    <tr>\n",
              "      <th>1</th>\n",
              "      <td>0.069934</td>\n",
              "      <td>0</td>\n",
              "    </tr>\n",
              "    <tr>\n",
              "      <th>2</th>\n",
              "      <td>1.099703</td>\n",
              "      <td>1</td>\n",
              "    </tr>\n",
              "    <tr>\n",
              "      <th>3</th>\n",
              "      <td>1.042293</td>\n",
              "      <td>1</td>\n",
              "    </tr>\n",
              "    <tr>\n",
              "      <th>4</th>\n",
              "      <td>1.096394</td>\n",
              "      <td>1</td>\n",
              "    </tr>\n",
              "    <tr>\n",
              "      <th>5</th>\n",
              "      <td>0.019896</td>\n",
              "      <td>0</td>\n",
              "    </tr>\n",
              "    <tr>\n",
              "      <th>6</th>\n",
              "      <td>2.002806</td>\n",
              "      <td>2</td>\n",
              "    </tr>\n",
              "    <tr>\n",
              "      <th>7</th>\n",
              "      <td>1.076885</td>\n",
              "      <td>1</td>\n",
              "    </tr>\n",
              "    <tr>\n",
              "      <th>8</th>\n",
              "      <td>1.882458</td>\n",
              "      <td>2</td>\n",
              "    </tr>\n",
              "    <tr>\n",
              "      <th>9</th>\n",
              "      <td>-0.049066</td>\n",
              "      <td>0</td>\n",
              "    </tr>\n",
              "    <tr>\n",
              "      <th>10</th>\n",
              "      <td>2.037067</td>\n",
              "      <td>2</td>\n",
              "    </tr>\n",
              "    <tr>\n",
              "      <th>11</th>\n",
              "      <td>1.090838</td>\n",
              "      <td>1</td>\n",
              "    </tr>\n",
              "    <tr>\n",
              "      <th>12</th>\n",
              "      <td>0.025240</td>\n",
              "      <td>0</td>\n",
              "    </tr>\n",
              "    <tr>\n",
              "      <th>13</th>\n",
              "      <td>-0.023224</td>\n",
              "      <td>0</td>\n",
              "    </tr>\n",
              "    <tr>\n",
              "      <th>14</th>\n",
              "      <td>1.854325</td>\n",
              "      <td>2</td>\n",
              "    </tr>\n",
              "    <tr>\n",
              "      <th>15</th>\n",
              "      <td>0.054050</td>\n",
              "      <td>0</td>\n",
              "    </tr>\n",
              "    <tr>\n",
              "      <th>16</th>\n",
              "      <td>2.016048</td>\n",
              "      <td>2</td>\n",
              "    </tr>\n",
              "    <tr>\n",
              "      <th>17</th>\n",
              "      <td>2.039376</td>\n",
              "      <td>2</td>\n",
              "    </tr>\n",
              "    <tr>\n",
              "      <th>18</th>\n",
              "      <td>1.111049</td>\n",
              "      <td>1</td>\n",
              "    </tr>\n",
              "    <tr>\n",
              "      <th>19</th>\n",
              "      <td>-0.055738</td>\n",
              "      <td>0</td>\n",
              "    </tr>\n",
              "  </tbody>\n",
              "</table>\n",
              "</div>\n",
              "      <button class=\"colab-df-convert\" onclick=\"convertToInteractive('df-2fc6d3a8-8bcb-44a7-ac36-91066416f56b')\"\n",
              "              title=\"Convert this dataframe to an interactive table.\"\n",
              "              style=\"display:none;\">\n",
              "        \n",
              "  <svg xmlns=\"http://www.w3.org/2000/svg\" height=\"24px\"viewBox=\"0 0 24 24\"\n",
              "       width=\"24px\">\n",
              "    <path d=\"M0 0h24v24H0V0z\" fill=\"none\"/>\n",
              "    <path d=\"M18.56 5.44l.94 2.06.94-2.06 2.06-.94-2.06-.94-.94-2.06-.94 2.06-2.06.94zm-11 1L8.5 8.5l.94-2.06 2.06-.94-2.06-.94L8.5 2.5l-.94 2.06-2.06.94zm10 10l.94 2.06.94-2.06 2.06-.94-2.06-.94-.94-2.06-.94 2.06-2.06.94z\"/><path d=\"M17.41 7.96l-1.37-1.37c-.4-.4-.92-.59-1.43-.59-.52 0-1.04.2-1.43.59L10.3 9.45l-7.72 7.72c-.78.78-.78 2.05 0 2.83L4 21.41c.39.39.9.59 1.41.59.51 0 1.02-.2 1.41-.59l7.78-7.78 2.81-2.81c.8-.78.8-2.07 0-2.86zM5.41 20L4 18.59l7.72-7.72 1.47 1.35L5.41 20z\"/>\n",
              "  </svg>\n",
              "      </button>\n",
              "      \n",
              "  <style>\n",
              "    .colab-df-container {\n",
              "      display:flex;\n",
              "      flex-wrap:wrap;\n",
              "      gap: 12px;\n",
              "    }\n",
              "\n",
              "    .colab-df-convert {\n",
              "      background-color: #E8F0FE;\n",
              "      border: none;\n",
              "      border-radius: 50%;\n",
              "      cursor: pointer;\n",
              "      display: none;\n",
              "      fill: #1967D2;\n",
              "      height: 32px;\n",
              "      padding: 0 0 0 0;\n",
              "      width: 32px;\n",
              "    }\n",
              "\n",
              "    .colab-df-convert:hover {\n",
              "      background-color: #E2EBFA;\n",
              "      box-shadow: 0px 1px 2px rgba(60, 64, 67, 0.3), 0px 1px 3px 1px rgba(60, 64, 67, 0.15);\n",
              "      fill: #174EA6;\n",
              "    }\n",
              "\n",
              "    [theme=dark] .colab-df-convert {\n",
              "      background-color: #3B4455;\n",
              "      fill: #D2E3FC;\n",
              "    }\n",
              "\n",
              "    [theme=dark] .colab-df-convert:hover {\n",
              "      background-color: #434B5C;\n",
              "      box-shadow: 0px 1px 3px 1px rgba(0, 0, 0, 0.15);\n",
              "      filter: drop-shadow(0px 1px 2px rgba(0, 0, 0, 0.3));\n",
              "      fill: #FFFFFF;\n",
              "    }\n",
              "  </style>\n",
              "\n",
              "      <script>\n",
              "        const buttonEl =\n",
              "          document.querySelector('#df-2fc6d3a8-8bcb-44a7-ac36-91066416f56b button.colab-df-convert');\n",
              "        buttonEl.style.display =\n",
              "          google.colab.kernel.accessAllowed ? 'block' : 'none';\n",
              "\n",
              "        async function convertToInteractive(key) {\n",
              "          const element = document.querySelector('#df-2fc6d3a8-8bcb-44a7-ac36-91066416f56b');\n",
              "          const dataTable =\n",
              "            await google.colab.kernel.invokeFunction('convertToInteractive',\n",
              "                                                     [key], {});\n",
              "          if (!dataTable) return;\n",
              "\n",
              "          const docLinkHtml = 'Like what you see? Visit the ' +\n",
              "            '<a target=\"_blank\" href=https://colab.research.google.com/notebooks/data_table.ipynb>data table notebook</a>'\n",
              "            + ' to learn more about interactive tables.';\n",
              "          element.innerHTML = '';\n",
              "          dataTable['output_type'] = 'display_data';\n",
              "          await google.colab.output.renderOutput(dataTable, element);\n",
              "          const docLink = document.createElement('div');\n",
              "          docLink.innerHTML = docLinkHtml;\n",
              "          element.appendChild(docLink);\n",
              "        }\n",
              "      </script>\n",
              "    </div>\n",
              "  </div>\n",
              "  "
            ]
          },
          "metadata": {},
          "execution_count": 35
        }
      ]
    },
    {
      "cell_type": "markdown",
      "source": [
        "#performance metrics"
      ],
      "metadata": {
        "id": "n6tyMfq5Lm0t"
      }
    },
    {
      "cell_type": "code",
      "source": [
        "\n",
        "from sklearn.metrics import mean_squared_error\n",
        "import math\n",
        "print(mean_squared_error(y_test,y_pred))\n",
        "print(math.sqrt(mean_squared_error(y_test,y_pred)))"
      ],
      "metadata": {
        "colab": {
          "base_uri": "https://localhost:8080/"
        },
        "id": "cDzvUumcLhHK",
        "outputId": "5577f01d-fb45-403b-96f5-8a81cf20259e"
      },
      "execution_count": 36,
      "outputs": [
        {
          "output_type": "stream",
          "name": "stdout",
          "text": [
            "0.0050331401638633545\n",
            "0.07094462744890098\n"
          ]
        }
      ]
    }
  ]
}