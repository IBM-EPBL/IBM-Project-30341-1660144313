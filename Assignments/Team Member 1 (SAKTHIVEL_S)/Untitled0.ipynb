{
  "nbformat": 4,
  "nbformat_minor": 0,
  "metadata": {
    "colab": {
      "provenance": []
    },
    "kernelspec": {
      "name": "python3",
      "display_name": "Python 3"
    },
    "language_info": {
      "name": "python"
    }
  },
  "cells": [
    {
      "cell_type": "markdown",
      "source": [
        "Basic Python\n",
        "\n",
        " 1.Split this string"
      ],
      "metadata": {
        "id": "z1dWrPTV-Oi8"
      }
    },
    {
      "cell_type": "code",
      "execution_count": 2,
      "metadata": {
        "colab": {
          "base_uri": "https://localhost:8080/"
        },
        "id": "V87Qpe2M22ic",
        "outputId": "98d81ffd-5e4c-49e4-88b4-62389797cfd3"
      },
      "outputs": [
        {
          "output_type": "execute_result",
          "data": {
            "text/plain": [
              "['Hi', 'there', 'Samy!']"
            ]
          },
          "metadata": {},
          "execution_count": 2
        }
      ],
      "source": [
        "sakthi = \"Hi there Samy!\"\n",
        "sakthi = \"Hi there Samy!\"\n",
        "sakthi.split()\n"
      ]
    },
    {
      "cell_type": "markdown",
      "source": [
        "2. Use .format() to print the following string.\n",
        "Output should be: The size of Earth is 12742 kilometers."
      ],
      "metadata": {
        "id": "PjrvD--v-BTl"
      }
    },
    {
      "cell_type": "code",
      "source": [
        "asteroid = \"Earth\"\n",
        "size = 12742\n",
        "asteroid = \"Earth\"\n",
        "size = 12742\n",
        "'The size of {} is {} kilometers.'.format(asteroid,size)"
      ],
      "metadata": {
        "colab": {
          "base_uri": "https://localhost:8080/",
          "height": 35
        },
        "id": "DPyXSSXY3cPw",
        "outputId": "7ca9e4fe-e622-4e8a-8a0d-215d361aa27c"
      },
      "execution_count": 5,
      "outputs": [
        {
          "output_type": "execute_result",
          "data": {
            "text/plain": [
              "'The size of Earth is 12742 kilometers.'"
            ],
            "application/vnd.google.colaboratory.intrinsic+json": {
              "type": "string"
            }
          },
          "metadata": {},
          "execution_count": 5
        }
      ]
    },
    {
      "cell_type": "markdown",
      "source": [
        "3. In this nest dictionary grab the word \"hello\""
      ],
      "metadata": {
        "id": "GTsAiNeR-bdG"
      }
    },
    {
      "cell_type": "code",
      "source": [
        "s = {'k1':[1,2,3,{'tricky':['oh','man','inception',{'target':[1,2,3,'welcome']}]}]}\n",
        "s = {'k1':[1,2,3,{'tricky':['oh','man','inception',{'target':[1,2,3,'welcome']}]}]}\n",
        "s['k1'][3]['tricky'][3]['target'][3]"
      ],
      "metadata": {
        "colab": {
          "base_uri": "https://localhost:8080/",
          "height": 35
        },
        "id": "nPKFAmPr4wXs",
        "outputId": "e471b006-d679-4275-c379-115de8cbd03e"
      },
      "execution_count": 6,
      "outputs": [
        {
          "output_type": "execute_result",
          "data": {
            "text/plain": [
              "'welcome'"
            ],
            "application/vnd.google.colaboratory.intrinsic+json": {
              "type": "string"
            }
          },
          "metadata": {},
          "execution_count": 6
        }
      ]
    },
    {
      "cell_type": "markdown",
      "source": [
        "Numpy"
      ],
      "metadata": {
        "id": "av8OUfwM-3W4"
      }
    },
    {
      "cell_type": "code",
      "source": [
        "import numpy as np"
      ],
      "metadata": {
        "id": "WH-6BsUK45OP"
      },
      "execution_count": 7,
      "outputs": []
    },
    {
      "cell_type": "markdown",
      "source": [
        "4.1 Create an array of 10 zeros?\n",
        "\n",
        "4.2 Create an array of 10 fives?"
      ],
      "metadata": {
        "id": "YcbWcFy0_AY-"
      }
    },
    {
      "cell_type": "code",
      "source": [
        "import numpy as ny\n",
        "ny.zeros(10)"
      ],
      "metadata": {
        "colab": {
          "base_uri": "https://localhost:8080/"
        },
        "id": "cTDOb71k4-02",
        "outputId": "be603c6a-7112-4b52-d9fb-a84a752eef6a"
      },
      "execution_count": 27,
      "outputs": [
        {
          "output_type": "execute_result",
          "data": {
            "text/plain": [
              "array([0., 0., 0., 0., 0., 0., 0., 0., 0., 0.])"
            ]
          },
          "metadata": {},
          "execution_count": 27
        }
      ]
    },
    {
      "cell_type": "code",
      "source": [
        "import numpy as ny\n",
        "ny.ones(10)*5"
      ],
      "metadata": {
        "colab": {
          "base_uri": "https://localhost:8080/"
        },
        "id": "nH5Y3t6X5RYA",
        "outputId": "32689f11-e33a-45e2-eb45-25cfc9e83d8e"
      },
      "execution_count": 26,
      "outputs": [
        {
          "output_type": "execute_result",
          "data": {
            "text/plain": [
              "array([5., 5., 5., 5., 5., 5., 5., 5., 5., 5.])"
            ]
          },
          "metadata": {},
          "execution_count": 26
        }
      ]
    },
    {
      "cell_type": "markdown",
      "source": [
        "5. Create an array of all the even integers from 20 to 35"
      ],
      "metadata": {
        "id": "a1GMsiyI_gpk"
      }
    },
    {
      "cell_type": "code",
      "source": [
        "ny.arange(20,36,2)"
      ],
      "metadata": {
        "colab": {
          "base_uri": "https://localhost:8080/"
        },
        "id": "bJCUlQiR5hGf",
        "outputId": "711c9dd5-eca3-4579-f46d-578556ab749f"
      },
      "execution_count": 11,
      "outputs": [
        {
          "output_type": "execute_result",
          "data": {
            "text/plain": [
              "array([20, 22, 24, 26, 28, 30, 32, 34])"
            ]
          },
          "metadata": {},
          "execution_count": 11
        }
      ]
    },
    {
      "cell_type": "markdown",
      "source": [
        "6. Create a 4x4 matrix with values ranging from 0 to 16"
      ],
      "metadata": {
        "id": "Dg2IR1xS_t5t"
      }
    },
    {
      "cell_type": "code",
      "source": [
        "ny.arange(0,16).reshape((4,4))"
      ],
      "metadata": {
        "colab": {
          "base_uri": "https://localhost:8080/"
        },
        "id": "8eyULD-z5uyy",
        "outputId": "29345570-563f-49bc-917e-c05eed4e5796"
      },
      "execution_count": 13,
      "outputs": [
        {
          "output_type": "execute_result",
          "data": {
            "text/plain": [
              "array([[ 0,  1,  2,  3],\n",
              "       [ 4,  5,  6,  7],\n",
              "       [ 8,  9, 10, 11],\n",
              "       [12, 13, 14, 15]])"
            ]
          },
          "metadata": {},
          "execution_count": 13
        }
      ]
    },
    {
      "cell_type": "markdown",
      "source": [
        "7. Concatenate a and b\n",
        "\n",
        "   a = np.array([7 ,8 ,9 ]), b = np.array([4, 5, 6])"
      ],
      "metadata": {
        "id": "5ZBZ7QxtAFe9"
      }
    },
    {
      "cell_type": "code",
      "source": [
        "a = ny.array([7,8,9])\n",
        "b = ny.array([4, 5, 6])\n",
        "ny.concatenate([a,b])"
      ],
      "metadata": {
        "colab": {
          "base_uri": "https://localhost:8080/"
        },
        "id": "mq3o9aaw6D2M",
        "outputId": "d8ee1d40-bdc4-4c46-e31c-0a496b921803"
      },
      "execution_count": 14,
      "outputs": [
        {
          "output_type": "execute_result",
          "data": {
            "text/plain": [
              "array([7, 8, 9, 4, 5, 6])"
            ]
          },
          "metadata": {},
          "execution_count": 14
        }
      ]
    },
    {
      "cell_type": "markdown",
      "source": [
        "Pandas\n",
        "\n",
        "8. Create a dataframe with 3 rows and 2 columns"
      ],
      "metadata": {
        "id": "2oh47bL_Aabk"
      }
    },
    {
      "cell_type": "code",
      "source": [
        "import pandas as pd\n",
        "import pandas as pd \n",
        "data ={'Name':['sakthi','kalai'],'Age':[20,19],'Dept':['CSE','ECE']}\n",
        "df=pd.DataFrame(data) \n",
        "print(df)"
      ],
      "metadata": {
        "colab": {
          "base_uri": "https://localhost:8080/"
        },
        "id": "vvol_oyi6NxM",
        "outputId": "221fbf2a-29a9-4edc-b3f4-2ba1226cca9f"
      },
      "execution_count": 16,
      "outputs": [
        {
          "output_type": "stream",
          "name": "stdout",
          "text": [
            "     Name  Age Dept\n",
            "0  sakthi   20  CSE\n",
            "1   kalai   19  ECE\n"
          ]
        }
      ]
    },
    {
      "cell_type": "markdown",
      "source": [
        "9. Generate the series of dates from 1st Jan, 2023 to 10th Feb, 2023\n"
      ],
      "metadata": {
        "id": "WyRYYVv_AeNY"
      }
    },
    {
      "cell_type": "code",
      "source": [
        "ds=ps.DataFrame(ps.date_range(start='1/1/2023',end='2/10/2023'),columns=['dates'])\n",
        "ds"
      ],
      "metadata": {
        "id": "JUIlFmVRAijZ"
      },
      "execution_count": null,
      "outputs": []
    },
    {
      "cell_type": "markdown",
      "source": [
        "10. Create 2D list to DataFrame\n",
        "\n",
        "  lists = [[1, 'aaa', 22], [2, 'bbb', 25], [3, 'ccc', 24]]"
      ],
      "metadata": {
        "id": "iKFiCI3UEW8g"
      }
    },
    {
      "cell_type": "code",
      "source": [
        "lists = [[1, 'aaa', 22], [2, 'bbb', 25], [3, 'ccc', 24]]\n",
        "ds1=ps.DataFrame(lists)\n",
        "ds1"
      ],
      "metadata": {
        "id": "B30f2NoXEYvQ"
      },
      "execution_count": null,
      "outputs": []
    }
  ]
}