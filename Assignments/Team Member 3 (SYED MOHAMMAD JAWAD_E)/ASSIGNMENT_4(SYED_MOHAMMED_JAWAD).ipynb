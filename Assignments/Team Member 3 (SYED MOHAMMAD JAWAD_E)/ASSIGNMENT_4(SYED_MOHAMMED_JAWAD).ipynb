{
  "nbformat": 4,
  "nbformat_minor": 0,
  "metadata": {
    "colab": {
      "provenance": []
    },
    "kernelspec": {
      "name": "python3",
      "display_name": "Python 3"
    },
    "language_info": {
      "name": "python"
    }
  },
  "cells": [
    {
      "cell_type": "code",
      "execution_count": 1,
      "metadata": {
        "id": "t3F-iZgf5rQL"
      },
      "outputs": [],
      "source": [
        "import pandas as pd\n",
        "import numpy as np\n",
        "import matplotlib.pyplot as plt\n",
        "import seaborn as sns"
      ]
    },
    {
      "cell_type": "code",
      "source": [
        "data=pd.read_csv(\"Mall_Customers.csv\")\n",
        "data.head()"
      ],
      "metadata": {
        "colab": {
          "base_uri": "https://localhost:8080/",
          "height": 206
        },
        "id": "AUquIUXT7R3x",
        "outputId": "ac48f48a-5d04-4ddb-ff3e-336a98f3a10a"
      },
      "execution_count": 3,
      "outputs": [
        {
          "output_type": "execute_result",
          "data": {
            "text/plain": [
              "   CustomerID  Gender  Age  Annual Income (k$)  Spending Score (1-100)\n",
              "0           1    Male   19                  15                      39\n",
              "1           2    Male   21                  15                      81\n",
              "2           3  Female   20                  16                       6\n",
              "3           4  Female   23                  16                      77\n",
              "4           5  Female   31                  17                      40"
            ],
            "text/html": [
              "\n",
              "  <div id=\"df-931ad0d9-ed72-49b3-89fd-46b92cfcd779\">\n",
              "    <div class=\"colab-df-container\">\n",
              "      <div>\n",
              "<style scoped>\n",
              "    .dataframe tbody tr th:only-of-type {\n",
              "        vertical-align: middle;\n",
              "    }\n",
              "\n",
              "    .dataframe tbody tr th {\n",
              "        vertical-align: top;\n",
              "    }\n",
              "\n",
              "    .dataframe thead th {\n",
              "        text-align: right;\n",
              "    }\n",
              "</style>\n",
              "<table border=\"1\" class=\"dataframe\">\n",
              "  <thead>\n",
              "    <tr style=\"text-align: right;\">\n",
              "      <th></th>\n",
              "      <th>CustomerID</th>\n",
              "      <th>Gender</th>\n",
              "      <th>Age</th>\n",
              "      <th>Annual Income (k$)</th>\n",
              "      <th>Spending Score (1-100)</th>\n",
              "    </tr>\n",
              "  </thead>\n",
              "  <tbody>\n",
              "    <tr>\n",
              "      <th>0</th>\n",
              "      <td>1</td>\n",
              "      <td>Male</td>\n",
              "      <td>19</td>\n",
              "      <td>15</td>\n",
              "      <td>39</td>\n",
              "    </tr>\n",
              "    <tr>\n",
              "      <th>1</th>\n",
              "      <td>2</td>\n",
              "      <td>Male</td>\n",
              "      <td>21</td>\n",
              "      <td>15</td>\n",
              "      <td>81</td>\n",
              "    </tr>\n",
              "    <tr>\n",
              "      <th>2</th>\n",
              "      <td>3</td>\n",
              "      <td>Female</td>\n",
              "      <td>20</td>\n",
              "      <td>16</td>\n",
              "      <td>6</td>\n",
              "    </tr>\n",
              "    <tr>\n",
              "      <th>3</th>\n",
              "      <td>4</td>\n",
              "      <td>Female</td>\n",
              "      <td>23</td>\n",
              "      <td>16</td>\n",
              "      <td>77</td>\n",
              "    </tr>\n",
              "    <tr>\n",
              "      <th>4</th>\n",
              "      <td>5</td>\n",
              "      <td>Female</td>\n",
              "      <td>31</td>\n",
              "      <td>17</td>\n",
              "      <td>40</td>\n",
              "    </tr>\n",
              "  </tbody>\n",
              "</table>\n",
              "</div>\n",
              "      <button class=\"colab-df-convert\" onclick=\"convertToInteractive('df-931ad0d9-ed72-49b3-89fd-46b92cfcd779')\"\n",
              "              title=\"Convert this dataframe to an interactive table.\"\n",
              "              style=\"display:none;\">\n",
              "        \n",
              "  <svg xmlns=\"http://www.w3.org/2000/svg\" height=\"24px\"viewBox=\"0 0 24 24\"\n",
              "       width=\"24px\">\n",
              "    <path d=\"M0 0h24v24H0V0z\" fill=\"none\"/>\n",
              "    <path d=\"M18.56 5.44l.94 2.06.94-2.06 2.06-.94-2.06-.94-.94-2.06-.94 2.06-2.06.94zm-11 1L8.5 8.5l.94-2.06 2.06-.94-2.06-.94L8.5 2.5l-.94 2.06-2.06.94zm10 10l.94 2.06.94-2.06 2.06-.94-2.06-.94-.94-2.06-.94 2.06-2.06.94z\"/><path d=\"M17.41 7.96l-1.37-1.37c-.4-.4-.92-.59-1.43-.59-.52 0-1.04.2-1.43.59L10.3 9.45l-7.72 7.72c-.78.78-.78 2.05 0 2.83L4 21.41c.39.39.9.59 1.41.59.51 0 1.02-.2 1.41-.59l7.78-7.78 2.81-2.81c.8-.78.8-2.07 0-2.86zM5.41 20L4 18.59l7.72-7.72 1.47 1.35L5.41 20z\"/>\n",
              "  </svg>\n",
              "      </button>\n",
              "      \n",
              "  <style>\n",
              "    .colab-df-container {\n",
              "      display:flex;\n",
              "      flex-wrap:wrap;\n",
              "      gap: 12px;\n",
              "    }\n",
              "\n",
              "    .colab-df-convert {\n",
              "      background-color: #E8F0FE;\n",
              "      border: none;\n",
              "      border-radius: 50%;\n",
              "      cursor: pointer;\n",
              "      display: none;\n",
              "      fill: #1967D2;\n",
              "      height: 32px;\n",
              "      padding: 0 0 0 0;\n",
              "      width: 32px;\n",
              "    }\n",
              "\n",
              "    .colab-df-convert:hover {\n",
              "      background-color: #E2EBFA;\n",
              "      box-shadow: 0px 1px 2px rgba(60, 64, 67, 0.3), 0px 1px 3px 1px rgba(60, 64, 67, 0.15);\n",
              "      fill: #174EA6;\n",
              "    }\n",
              "\n",
              "    [theme=dark] .colab-df-convert {\n",
              "      background-color: #3B4455;\n",
              "      fill: #D2E3FC;\n",
              "    }\n",
              "\n",
              "    [theme=dark] .colab-df-convert:hover {\n",
              "      background-color: #434B5C;\n",
              "      box-shadow: 0px 1px 3px 1px rgba(0, 0, 0, 0.15);\n",
              "      filter: drop-shadow(0px 1px 2px rgba(0, 0, 0, 0.3));\n",
              "      fill: #FFFFFF;\n",
              "    }\n",
              "  </style>\n",
              "\n",
              "      <script>\n",
              "        const buttonEl =\n",
              "          document.querySelector('#df-931ad0d9-ed72-49b3-89fd-46b92cfcd779 button.colab-df-convert');\n",
              "        buttonEl.style.display =\n",
              "          google.colab.kernel.accessAllowed ? 'block' : 'none';\n",
              "\n",
              "        async function convertToInteractive(key) {\n",
              "          const element = document.querySelector('#df-931ad0d9-ed72-49b3-89fd-46b92cfcd779');\n",
              "          const dataTable =\n",
              "            await google.colab.kernel.invokeFunction('convertToInteractive',\n",
              "                                                     [key], {});\n",
              "          if (!dataTable) return;\n",
              "\n",
              "          const docLinkHtml = 'Like what you see? Visit the ' +\n",
              "            '<a target=\"_blank\" href=https://colab.research.google.com/notebooks/data_table.ipynb>data table notebook</a>'\n",
              "            + ' to learn more about interactive tables.';\n",
              "          element.innerHTML = '';\n",
              "          dataTable['output_type'] = 'display_data';\n",
              "          await google.colab.output.renderOutput(dataTable, element);\n",
              "          const docLink = document.createElement('div');\n",
              "          docLink.innerHTML = docLinkHtml;\n",
              "          element.appendChild(docLink);\n",
              "        }\n",
              "      </script>\n",
              "    </div>\n",
              "  </div>\n",
              "  "
            ]
          },
          "metadata": {},
          "execution_count": 3
        }
      ]
    },
    {
      "cell_type": "code",
      "source": [
        "df=pd.DataFrame(data)\n",
        "df.describe()"
      ],
      "metadata": {
        "colab": {
          "base_uri": "https://localhost:8080/",
          "height": 300
        },
        "id": "CGkurjFK-ChF",
        "outputId": "0ab6b6a2-7057-46cd-f6fc-b56953c1dbc7"
      },
      "execution_count": 5,
      "outputs": [
        {
          "output_type": "execute_result",
          "data": {
            "text/plain": [
              "       CustomerID         Age  Annual Income (k$)  Spending Score (1-100)\n",
              "count  200.000000  200.000000          200.000000              200.000000\n",
              "mean   100.500000   38.850000           60.560000               50.200000\n",
              "std     57.879185   13.969007           26.264721               25.823522\n",
              "min      1.000000   18.000000           15.000000                1.000000\n",
              "25%     50.750000   28.750000           41.500000               34.750000\n",
              "50%    100.500000   36.000000           61.500000               50.000000\n",
              "75%    150.250000   49.000000           78.000000               73.000000\n",
              "max    200.000000   70.000000          137.000000               99.000000"
            ],
            "text/html": [
              "\n",
              "  <div id=\"df-734b9a82-cf31-4f4c-8670-33dbcf0af4f6\">\n",
              "    <div class=\"colab-df-container\">\n",
              "      <div>\n",
              "<style scoped>\n",
              "    .dataframe tbody tr th:only-of-type {\n",
              "        vertical-align: middle;\n",
              "    }\n",
              "\n",
              "    .dataframe tbody tr th {\n",
              "        vertical-align: top;\n",
              "    }\n",
              "\n",
              "    .dataframe thead th {\n",
              "        text-align: right;\n",
              "    }\n",
              "</style>\n",
              "<table border=\"1\" class=\"dataframe\">\n",
              "  <thead>\n",
              "    <tr style=\"text-align: right;\">\n",
              "      <th></th>\n",
              "      <th>CustomerID</th>\n",
              "      <th>Age</th>\n",
              "      <th>Annual Income (k$)</th>\n",
              "      <th>Spending Score (1-100)</th>\n",
              "    </tr>\n",
              "  </thead>\n",
              "  <tbody>\n",
              "    <tr>\n",
              "      <th>count</th>\n",
              "      <td>200.000000</td>\n",
              "      <td>200.000000</td>\n",
              "      <td>200.000000</td>\n",
              "      <td>200.000000</td>\n",
              "    </tr>\n",
              "    <tr>\n",
              "      <th>mean</th>\n",
              "      <td>100.500000</td>\n",
              "      <td>38.850000</td>\n",
              "      <td>60.560000</td>\n",
              "      <td>50.200000</td>\n",
              "    </tr>\n",
              "    <tr>\n",
              "      <th>std</th>\n",
              "      <td>57.879185</td>\n",
              "      <td>13.969007</td>\n",
              "      <td>26.264721</td>\n",
              "      <td>25.823522</td>\n",
              "    </tr>\n",
              "    <tr>\n",
              "      <th>min</th>\n",
              "      <td>1.000000</td>\n",
              "      <td>18.000000</td>\n",
              "      <td>15.000000</td>\n",
              "      <td>1.000000</td>\n",
              "    </tr>\n",
              "    <tr>\n",
              "      <th>25%</th>\n",
              "      <td>50.750000</td>\n",
              "      <td>28.750000</td>\n",
              "      <td>41.500000</td>\n",
              "      <td>34.750000</td>\n",
              "    </tr>\n",
              "    <tr>\n",
              "      <th>50%</th>\n",
              "      <td>100.500000</td>\n",
              "      <td>36.000000</td>\n",
              "      <td>61.500000</td>\n",
              "      <td>50.000000</td>\n",
              "    </tr>\n",
              "    <tr>\n",
              "      <th>75%</th>\n",
              "      <td>150.250000</td>\n",
              "      <td>49.000000</td>\n",
              "      <td>78.000000</td>\n",
              "      <td>73.000000</td>\n",
              "    </tr>\n",
              "    <tr>\n",
              "      <th>max</th>\n",
              "      <td>200.000000</td>\n",
              "      <td>70.000000</td>\n",
              "      <td>137.000000</td>\n",
              "      <td>99.000000</td>\n",
              "    </tr>\n",
              "  </tbody>\n",
              "</table>\n",
              "</div>\n",
              "      <button class=\"colab-df-convert\" onclick=\"convertToInteractive('df-734b9a82-cf31-4f4c-8670-33dbcf0af4f6')\"\n",
              "              title=\"Convert this dataframe to an interactive table.\"\n",
              "              style=\"display:none;\">\n",
              "        \n",
              "  <svg xmlns=\"http://www.w3.org/2000/svg\" height=\"24px\"viewBox=\"0 0 24 24\"\n",
              "       width=\"24px\">\n",
              "    <path d=\"M0 0h24v24H0V0z\" fill=\"none\"/>\n",
              "    <path d=\"M18.56 5.44l.94 2.06.94-2.06 2.06-.94-2.06-.94-.94-2.06-.94 2.06-2.06.94zm-11 1L8.5 8.5l.94-2.06 2.06-.94-2.06-.94L8.5 2.5l-.94 2.06-2.06.94zm10 10l.94 2.06.94-2.06 2.06-.94-2.06-.94-.94-2.06-.94 2.06-2.06.94z\"/><path d=\"M17.41 7.96l-1.37-1.37c-.4-.4-.92-.59-1.43-.59-.52 0-1.04.2-1.43.59L10.3 9.45l-7.72 7.72c-.78.78-.78 2.05 0 2.83L4 21.41c.39.39.9.59 1.41.59.51 0 1.02-.2 1.41-.59l7.78-7.78 2.81-2.81c.8-.78.8-2.07 0-2.86zM5.41 20L4 18.59l7.72-7.72 1.47 1.35L5.41 20z\"/>\n",
              "  </svg>\n",
              "      </button>\n",
              "      \n",
              "  <style>\n",
              "    .colab-df-container {\n",
              "      display:flex;\n",
              "      flex-wrap:wrap;\n",
              "      gap: 12px;\n",
              "    }\n",
              "\n",
              "    .colab-df-convert {\n",
              "      background-color: #E8F0FE;\n",
              "      border: none;\n",
              "      border-radius: 50%;\n",
              "      cursor: pointer;\n",
              "      display: none;\n",
              "      fill: #1967D2;\n",
              "      height: 32px;\n",
              "      padding: 0 0 0 0;\n",
              "      width: 32px;\n",
              "    }\n",
              "\n",
              "    .colab-df-convert:hover {\n",
              "      background-color: #E2EBFA;\n",
              "      box-shadow: 0px 1px 2px rgba(60, 64, 67, 0.3), 0px 1px 3px 1px rgba(60, 64, 67, 0.15);\n",
              "      fill: #174EA6;\n",
              "    }\n",
              "\n",
              "    [theme=dark] .colab-df-convert {\n",
              "      background-color: #3B4455;\n",
              "      fill: #D2E3FC;\n",
              "    }\n",
              "\n",
              "    [theme=dark] .colab-df-convert:hover {\n",
              "      background-color: #434B5C;\n",
              "      box-shadow: 0px 1px 3px 1px rgba(0, 0, 0, 0.15);\n",
              "      filter: drop-shadow(0px 1px 2px rgba(0, 0, 0, 0.3));\n",
              "      fill: #FFFFFF;\n",
              "    }\n",
              "  </style>\n",
              "\n",
              "      <script>\n",
              "        const buttonEl =\n",
              "          document.querySelector('#df-734b9a82-cf31-4f4c-8670-33dbcf0af4f6 button.colab-df-convert');\n",
              "        buttonEl.style.display =\n",
              "          google.colab.kernel.accessAllowed ? 'block' : 'none';\n",
              "\n",
              "        async function convertToInteractive(key) {\n",
              "          const element = document.querySelector('#df-734b9a82-cf31-4f4c-8670-33dbcf0af4f6');\n",
              "          const dataTable =\n",
              "            await google.colab.kernel.invokeFunction('convertToInteractive',\n",
              "                                                     [key], {});\n",
              "          if (!dataTable) return;\n",
              "\n",
              "          const docLinkHtml = 'Like what you see? Visit the ' +\n",
              "            '<a target=\"_blank\" href=https://colab.research.google.com/notebooks/data_table.ipynb>data table notebook</a>'\n",
              "            + ' to learn more about interactive tables.';\n",
              "          element.innerHTML = '';\n",
              "          dataTable['output_type'] = 'display_data';\n",
              "          await google.colab.output.renderOutput(dataTable, element);\n",
              "          const docLink = document.createElement('div');\n",
              "          docLink.innerHTML = docLinkHtml;\n",
              "          element.appendChild(docLink);\n",
              "        }\n",
              "      </script>\n",
              "    </div>\n",
              "  </div>\n",
              "  "
            ]
          },
          "metadata": {},
          "execution_count": 5
        }
      ]
    },
    {
      "cell_type": "code",
      "source": [
        "df=df.drop([\"CustomerID\"],axis=1)\n",
        "df.isnull()"
      ],
      "metadata": {
        "colab": {
          "base_uri": "https://localhost:8080/",
          "height": 424
        },
        "id": "Byl3N0h1-CUq",
        "outputId": "f2e02380-da91-4f31-b2a3-8f276816049f"
      },
      "execution_count": 6,
      "outputs": [
        {
          "output_type": "execute_result",
          "data": {
            "text/plain": [
              "     Gender    Age  Annual Income (k$)  Spending Score (1-100)\n",
              "0     False  False               False                   False\n",
              "1     False  False               False                   False\n",
              "2     False  False               False                   False\n",
              "3     False  False               False                   False\n",
              "4     False  False               False                   False\n",
              "..      ...    ...                 ...                     ...\n",
              "195   False  False               False                   False\n",
              "196   False  False               False                   False\n",
              "197   False  False               False                   False\n",
              "198   False  False               False                   False\n",
              "199   False  False               False                   False\n",
              "\n",
              "[200 rows x 4 columns]"
            ],
            "text/html": [
              "\n",
              "  <div id=\"df-47897a54-73a1-4209-b285-892cf09ca407\">\n",
              "    <div class=\"colab-df-container\">\n",
              "      <div>\n",
              "<style scoped>\n",
              "    .dataframe tbody tr th:only-of-type {\n",
              "        vertical-align: middle;\n",
              "    }\n",
              "\n",
              "    .dataframe tbody tr th {\n",
              "        vertical-align: top;\n",
              "    }\n",
              "\n",
              "    .dataframe thead th {\n",
              "        text-align: right;\n",
              "    }\n",
              "</style>\n",
              "<table border=\"1\" class=\"dataframe\">\n",
              "  <thead>\n",
              "    <tr style=\"text-align: right;\">\n",
              "      <th></th>\n",
              "      <th>Gender</th>\n",
              "      <th>Age</th>\n",
              "      <th>Annual Income (k$)</th>\n",
              "      <th>Spending Score (1-100)</th>\n",
              "    </tr>\n",
              "  </thead>\n",
              "  <tbody>\n",
              "    <tr>\n",
              "      <th>0</th>\n",
              "      <td>False</td>\n",
              "      <td>False</td>\n",
              "      <td>False</td>\n",
              "      <td>False</td>\n",
              "    </tr>\n",
              "    <tr>\n",
              "      <th>1</th>\n",
              "      <td>False</td>\n",
              "      <td>False</td>\n",
              "      <td>False</td>\n",
              "      <td>False</td>\n",
              "    </tr>\n",
              "    <tr>\n",
              "      <th>2</th>\n",
              "      <td>False</td>\n",
              "      <td>False</td>\n",
              "      <td>False</td>\n",
              "      <td>False</td>\n",
              "    </tr>\n",
              "    <tr>\n",
              "      <th>3</th>\n",
              "      <td>False</td>\n",
              "      <td>False</td>\n",
              "      <td>False</td>\n",
              "      <td>False</td>\n",
              "    </tr>\n",
              "    <tr>\n",
              "      <th>4</th>\n",
              "      <td>False</td>\n",
              "      <td>False</td>\n",
              "      <td>False</td>\n",
              "      <td>False</td>\n",
              "    </tr>\n",
              "    <tr>\n",
              "      <th>...</th>\n",
              "      <td>...</td>\n",
              "      <td>...</td>\n",
              "      <td>...</td>\n",
              "      <td>...</td>\n",
              "    </tr>\n",
              "    <tr>\n",
              "      <th>195</th>\n",
              "      <td>False</td>\n",
              "      <td>False</td>\n",
              "      <td>False</td>\n",
              "      <td>False</td>\n",
              "    </tr>\n",
              "    <tr>\n",
              "      <th>196</th>\n",
              "      <td>False</td>\n",
              "      <td>False</td>\n",
              "      <td>False</td>\n",
              "      <td>False</td>\n",
              "    </tr>\n",
              "    <tr>\n",
              "      <th>197</th>\n",
              "      <td>False</td>\n",
              "      <td>False</td>\n",
              "      <td>False</td>\n",
              "      <td>False</td>\n",
              "    </tr>\n",
              "    <tr>\n",
              "      <th>198</th>\n",
              "      <td>False</td>\n",
              "      <td>False</td>\n",
              "      <td>False</td>\n",
              "      <td>False</td>\n",
              "    </tr>\n",
              "    <tr>\n",
              "      <th>199</th>\n",
              "      <td>False</td>\n",
              "      <td>False</td>\n",
              "      <td>False</td>\n",
              "      <td>False</td>\n",
              "    </tr>\n",
              "  </tbody>\n",
              "</table>\n",
              "<p>200 rows × 4 columns</p>\n",
              "</div>\n",
              "      <button class=\"colab-df-convert\" onclick=\"convertToInteractive('df-47897a54-73a1-4209-b285-892cf09ca407')\"\n",
              "              title=\"Convert this dataframe to an interactive table.\"\n",
              "              style=\"display:none;\">\n",
              "        \n",
              "  <svg xmlns=\"http://www.w3.org/2000/svg\" height=\"24px\"viewBox=\"0 0 24 24\"\n",
              "       width=\"24px\">\n",
              "    <path d=\"M0 0h24v24H0V0z\" fill=\"none\"/>\n",
              "    <path d=\"M18.56 5.44l.94 2.06.94-2.06 2.06-.94-2.06-.94-.94-2.06-.94 2.06-2.06.94zm-11 1L8.5 8.5l.94-2.06 2.06-.94-2.06-.94L8.5 2.5l-.94 2.06-2.06.94zm10 10l.94 2.06.94-2.06 2.06-.94-2.06-.94-.94-2.06-.94 2.06-2.06.94z\"/><path d=\"M17.41 7.96l-1.37-1.37c-.4-.4-.92-.59-1.43-.59-.52 0-1.04.2-1.43.59L10.3 9.45l-7.72 7.72c-.78.78-.78 2.05 0 2.83L4 21.41c.39.39.9.59 1.41.59.51 0 1.02-.2 1.41-.59l7.78-7.78 2.81-2.81c.8-.78.8-2.07 0-2.86zM5.41 20L4 18.59l7.72-7.72 1.47 1.35L5.41 20z\"/>\n",
              "  </svg>\n",
              "      </button>\n",
              "      \n",
              "  <style>\n",
              "    .colab-df-container {\n",
              "      display:flex;\n",
              "      flex-wrap:wrap;\n",
              "      gap: 12px;\n",
              "    }\n",
              "\n",
              "    .colab-df-convert {\n",
              "      background-color: #E8F0FE;\n",
              "      border: none;\n",
              "      border-radius: 50%;\n",
              "      cursor: pointer;\n",
              "      display: none;\n",
              "      fill: #1967D2;\n",
              "      height: 32px;\n",
              "      padding: 0 0 0 0;\n",
              "      width: 32px;\n",
              "    }\n",
              "\n",
              "    .colab-df-convert:hover {\n",
              "      background-color: #E2EBFA;\n",
              "      box-shadow: 0px 1px 2px rgba(60, 64, 67, 0.3), 0px 1px 3px 1px rgba(60, 64, 67, 0.15);\n",
              "      fill: #174EA6;\n",
              "    }\n",
              "\n",
              "    [theme=dark] .colab-df-convert {\n",
              "      background-color: #3B4455;\n",
              "      fill: #D2E3FC;\n",
              "    }\n",
              "\n",
              "    [theme=dark] .colab-df-convert:hover {\n",
              "      background-color: #434B5C;\n",
              "      box-shadow: 0px 1px 3px 1px rgba(0, 0, 0, 0.15);\n",
              "      filter: drop-shadow(0px 1px 2px rgba(0, 0, 0, 0.3));\n",
              "      fill: #FFFFFF;\n",
              "    }\n",
              "  </style>\n",
              "\n",
              "      <script>\n",
              "        const buttonEl =\n",
              "          document.querySelector('#df-47897a54-73a1-4209-b285-892cf09ca407 button.colab-df-convert');\n",
              "        buttonEl.style.display =\n",
              "          google.colab.kernel.accessAllowed ? 'block' : 'none';\n",
              "\n",
              "        async function convertToInteractive(key) {\n",
              "          const element = document.querySelector('#df-47897a54-73a1-4209-b285-892cf09ca407');\n",
              "          const dataTable =\n",
              "            await google.colab.kernel.invokeFunction('convertToInteractive',\n",
              "                                                     [key], {});\n",
              "          if (!dataTable) return;\n",
              "\n",
              "          const docLinkHtml = 'Like what you see? Visit the ' +\n",
              "            '<a target=\"_blank\" href=https://colab.research.google.com/notebooks/data_table.ipynb>data table notebook</a>'\n",
              "            + ' to learn more about interactive tables.';\n",
              "          element.innerHTML = '';\n",
              "          dataTable['output_type'] = 'display_data';\n",
              "          await google.colab.output.renderOutput(dataTable, element);\n",
              "          const docLink = document.createElement('div');\n",
              "          docLink.innerHTML = docLinkHtml;\n",
              "          element.appendChild(docLink);\n",
              "        }\n",
              "      </script>\n",
              "    </div>\n",
              "  </div>\n",
              "  "
            ]
          },
          "metadata": {},
          "execution_count": 6
        }
      ]
    },
    {
      "cell_type": "code",
      "source": [
        "df.isna().sum()"
      ],
      "metadata": {
        "colab": {
          "base_uri": "https://localhost:8080/"
        },
        "id": "Uejans8wBCAj",
        "outputId": "ab92d792-e3cc-41e2-8be0-677db89a8b4b"
      },
      "execution_count": 7,
      "outputs": [
        {
          "output_type": "execute_result",
          "data": {
            "text/plain": [
              "Gender                    0\n",
              "Age                       0\n",
              "Annual Income (k$)        0\n",
              "Spending Score (1-100)    0\n",
              "dtype: int64"
            ]
          },
          "metadata": {},
          "execution_count": 7
        }
      ]
    },
    {
      "cell_type": "code",
      "source": [
        "df.corr()"
      ],
      "metadata": {
        "colab": {
          "base_uri": "https://localhost:8080/",
          "height": 143
        },
        "id": "0bfm37xPBQYy",
        "outputId": "bb72015e-436a-4bc1-b2b0-2ed7397eb695"
      },
      "execution_count": 8,
      "outputs": [
        {
          "output_type": "execute_result",
          "data": {
            "text/plain": [
              "                             Age  Annual Income (k$)  Spending Score (1-100)\n",
              "Age                     1.000000           -0.012398               -0.327227\n",
              "Annual Income (k$)     -0.012398            1.000000                0.009903\n",
              "Spending Score (1-100) -0.327227            0.009903                1.000000"
            ],
            "text/html": [
              "\n",
              "  <div id=\"df-6ddf89dc-a643-45bd-9111-21c32b7cf232\">\n",
              "    <div class=\"colab-df-container\">\n",
              "      <div>\n",
              "<style scoped>\n",
              "    .dataframe tbody tr th:only-of-type {\n",
              "        vertical-align: middle;\n",
              "    }\n",
              "\n",
              "    .dataframe tbody tr th {\n",
              "        vertical-align: top;\n",
              "    }\n",
              "\n",
              "    .dataframe thead th {\n",
              "        text-align: right;\n",
              "    }\n",
              "</style>\n",
              "<table border=\"1\" class=\"dataframe\">\n",
              "  <thead>\n",
              "    <tr style=\"text-align: right;\">\n",
              "      <th></th>\n",
              "      <th>Age</th>\n",
              "      <th>Annual Income (k$)</th>\n",
              "      <th>Spending Score (1-100)</th>\n",
              "    </tr>\n",
              "  </thead>\n",
              "  <tbody>\n",
              "    <tr>\n",
              "      <th>Age</th>\n",
              "      <td>1.000000</td>\n",
              "      <td>-0.012398</td>\n",
              "      <td>-0.327227</td>\n",
              "    </tr>\n",
              "    <tr>\n",
              "      <th>Annual Income (k$)</th>\n",
              "      <td>-0.012398</td>\n",
              "      <td>1.000000</td>\n",
              "      <td>0.009903</td>\n",
              "    </tr>\n",
              "    <tr>\n",
              "      <th>Spending Score (1-100)</th>\n",
              "      <td>-0.327227</td>\n",
              "      <td>0.009903</td>\n",
              "      <td>1.000000</td>\n",
              "    </tr>\n",
              "  </tbody>\n",
              "</table>\n",
              "</div>\n",
              "      <button class=\"colab-df-convert\" onclick=\"convertToInteractive('df-6ddf89dc-a643-45bd-9111-21c32b7cf232')\"\n",
              "              title=\"Convert this dataframe to an interactive table.\"\n",
              "              style=\"display:none;\">\n",
              "        \n",
              "  <svg xmlns=\"http://www.w3.org/2000/svg\" height=\"24px\"viewBox=\"0 0 24 24\"\n",
              "       width=\"24px\">\n",
              "    <path d=\"M0 0h24v24H0V0z\" fill=\"none\"/>\n",
              "    <path d=\"M18.56 5.44l.94 2.06.94-2.06 2.06-.94-2.06-.94-.94-2.06-.94 2.06-2.06.94zm-11 1L8.5 8.5l.94-2.06 2.06-.94-2.06-.94L8.5 2.5l-.94 2.06-2.06.94zm10 10l.94 2.06.94-2.06 2.06-.94-2.06-.94-.94-2.06-.94 2.06-2.06.94z\"/><path d=\"M17.41 7.96l-1.37-1.37c-.4-.4-.92-.59-1.43-.59-.52 0-1.04.2-1.43.59L10.3 9.45l-7.72 7.72c-.78.78-.78 2.05 0 2.83L4 21.41c.39.39.9.59 1.41.59.51 0 1.02-.2 1.41-.59l7.78-7.78 2.81-2.81c.8-.78.8-2.07 0-2.86zM5.41 20L4 18.59l7.72-7.72 1.47 1.35L5.41 20z\"/>\n",
              "  </svg>\n",
              "      </button>\n",
              "      \n",
              "  <style>\n",
              "    .colab-df-container {\n",
              "      display:flex;\n",
              "      flex-wrap:wrap;\n",
              "      gap: 12px;\n",
              "    }\n",
              "\n",
              "    .colab-df-convert {\n",
              "      background-color: #E8F0FE;\n",
              "      border: none;\n",
              "      border-radius: 50%;\n",
              "      cursor: pointer;\n",
              "      display: none;\n",
              "      fill: #1967D2;\n",
              "      height: 32px;\n",
              "      padding: 0 0 0 0;\n",
              "      width: 32px;\n",
              "    }\n",
              "\n",
              "    .colab-df-convert:hover {\n",
              "      background-color: #E2EBFA;\n",
              "      box-shadow: 0px 1px 2px rgba(60, 64, 67, 0.3), 0px 1px 3px 1px rgba(60, 64, 67, 0.15);\n",
              "      fill: #174EA6;\n",
              "    }\n",
              "\n",
              "    [theme=dark] .colab-df-convert {\n",
              "      background-color: #3B4455;\n",
              "      fill: #D2E3FC;\n",
              "    }\n",
              "\n",
              "    [theme=dark] .colab-df-convert:hover {\n",
              "      background-color: #434B5C;\n",
              "      box-shadow: 0px 1px 3px 1px rgba(0, 0, 0, 0.15);\n",
              "      filter: drop-shadow(0px 1px 2px rgba(0, 0, 0, 0.3));\n",
              "      fill: #FFFFFF;\n",
              "    }\n",
              "  </style>\n",
              "\n",
              "      <script>\n",
              "        const buttonEl =\n",
              "          document.querySelector('#df-6ddf89dc-a643-45bd-9111-21c32b7cf232 button.colab-df-convert');\n",
              "        buttonEl.style.display =\n",
              "          google.colab.kernel.accessAllowed ? 'block' : 'none';\n",
              "\n",
              "        async function convertToInteractive(key) {\n",
              "          const element = document.querySelector('#df-6ddf89dc-a643-45bd-9111-21c32b7cf232');\n",
              "          const dataTable =\n",
              "            await google.colab.kernel.invokeFunction('convertToInteractive',\n",
              "                                                     [key], {});\n",
              "          if (!dataTable) return;\n",
              "\n",
              "          const docLinkHtml = 'Like what you see? Visit the ' +\n",
              "            '<a target=\"_blank\" href=https://colab.research.google.com/notebooks/data_table.ipynb>data table notebook</a>'\n",
              "            + ' to learn more about interactive tables.';\n",
              "          element.innerHTML = '';\n",
              "          dataTable['output_type'] = 'display_data';\n",
              "          await google.colab.output.renderOutput(dataTable, element);\n",
              "          const docLink = document.createElement('div');\n",
              "          docLink.innerHTML = docLinkHtml;\n",
              "          element.appendChild(docLink);\n",
              "        }\n",
              "      </script>\n",
              "    </div>\n",
              "  </div>\n",
              "  "
            ]
          },
          "metadata": {},
          "execution_count": 8
        }
      ]
    },
    {
      "cell_type": "code",
      "source": [
        "sns.heatmap(df.corr(),annot=True)\n"
      ],
      "metadata": {
        "colab": {
          "base_uri": "https://localhost:8080/",
          "height": 394
        },
        "id": "GxxqTX2UB1JJ",
        "outputId": "b5b28f51-2ab0-4731-d97d-dcd4d14663e7"
      },
      "execution_count": 9,
      "outputs": [
        {
          "output_type": "execute_result",
          "data": {
            "text/plain": [
              "<matplotlib.axes._subplots.AxesSubplot at 0x7f2faceb42d0>"
            ]
          },
          "metadata": {},
          "execution_count": 9
        },
        {
          "output_type": "display_data",
          "data": {
            "text/plain": [
              "<Figure size 432x288 with 2 Axes>"
            ],
            "image/png": "[encoded data removed]"
          },
          "metadata": {
            "needs_background": "light"
          }
        }
      ]
    },
    {
      "cell_type": "markdown",
      "source": [
        "Mivariate Analysis"
      ],
      "metadata": {
        "id": "sgGtl4VVB42l"
      }
    },
    {
      "cell_type": "markdown",
      "source": [
        "#Univariate Analysis of Continous Variables"
      ],
      "metadata": {
        "id": "0mb_HiLiC9M_"
      }
    },
    {
      "cell_type": "code",
      "source": [
        "l=list(df.columns)\n",
        "l1=l[1:]\n",
        "for i in range(len(l1)):\n",
        "  plt.subplot(4,2,i+1)\n",
        "  sns.histplot(df[l1[i]])\n",
        "  plt.title(f'{l1[i]}')"
      ],
      "metadata": {
        "colab": {
          "base_uri": "https://localhost:8080/",
          "height": 182
        },
        "id": "qAlnXdZjEAt4",
        "outputId": "3a5e06a4-2956-43d6-ceb6-97c08757ad6a"
      },
      "execution_count": 11,
      "outputs": [
        {
          "output_type": "display_data",
          "data": {
            "text/plain": [
              "<Figure size 432x288 with 3 Axes>"
            ],
            "image/png": "[encoded data removed]"
          },
          "metadata": {
            "needs_background": "light"
          }
        }
      ]
    },
    {
      "cell_type": "markdown",
      "source": [
        "#Univariate Analysis of Categorical Values"
      ],
      "metadata": {
        "id": "tSIrxQpnEOGq"
      }
    },
    {
      "cell_type": "code",
      "source": [
        "sns.countplot(df['Gender'])\n",
        "plt.title('Gender')"
      ],
      "metadata": {
        "colab": {
          "base_uri": "https://localhost:8080/",
          "height": 367
        },
        "id": "kBU0Hf68FjSq",
        "outputId": "24ddd46e-2eca-4992-a52c-25b5751ef8c5"
      },
      "execution_count": 20,
      "outputs": [
        {
          "output_type": "stream",
          "name": "stderr",
          "text": [
            "/usr/local/lib/python3.7/dist-packages/seaborn/_decorators.py:43: FutureWarning: Pass the following variable as a keyword arg: x. From version 0.12, the only valid positional argument will be `data`, and passing other arguments without an explicit keyword will result in an error or misinterpretation.\n",
            "  FutureWarning\n"
          ]
        },
        {
          "output_type": "execute_result",
          "data": {
            "text/plain": [
              "Text(0.5, 1.0, 'Gender')"
            ]
          },
          "metadata": {},
          "execution_count": 20
        },
        {
          "output_type": "display_data",
          "data": {
            "text/plain": [
              "<Figure size 432x288 with 1 Axes>"
            ],
            "image/png": "[encoded data removed]"
          },
          "metadata": {
            "needs_background": "light"
          }
        }
      ]
    },
    {
      "cell_type": "markdown",
      "source": [
        "#Bivariate Analysis of Continous Variables"
      ],
      "metadata": {
        "id": "AEsXMjYtFHFn"
      }
    },
    {
      "cell_type": "code",
      "source": [
        "df[list(df.columns[2:])].corr()"
      ],
      "metadata": {
        "colab": {
          "base_uri": "https://localhost:8080/",
          "height": 112
        },
        "id": "B6UDvMZLGyuo",
        "outputId": "ab688c52-f163-4aae-9225-516e807354a9"
      },
      "execution_count": 21,
      "outputs": [
        {
          "output_type": "execute_result",
          "data": {
            "text/plain": [
              "                        Annual Income (k$)  Spending Score (1-100)\n",
              "Annual Income (k$)                1.000000                0.009903\n",
              "Spending Score (1-100)            0.009903                1.000000"
            ],
            "text/html": [
              "\n",
              "  <div id=\"df-3ef89ad9-1c9f-4f81-b702-be9363423c2e\">\n",
              "    <div class=\"colab-df-container\">\n",
              "      <div>\n",
              "<style scoped>\n",
              "    .dataframe tbody tr th:only-of-type {\n",
              "        vertical-align: middle;\n",
              "    }\n",
              "\n",
              "    .dataframe tbody tr th {\n",
              "        vertical-align: top;\n",
              "    }\n",
              "\n",
              "    .dataframe thead th {\n",
              "        text-align: right;\n",
              "    }\n",
              "</style>\n",
              "<table border=\"1\" class=\"dataframe\">\n",
              "  <thead>\n",
              "    <tr style=\"text-align: right;\">\n",
              "      <th></th>\n",
              "      <th>Annual Income (k$)</th>\n",
              "      <th>Spending Score (1-100)</th>\n",
              "    </tr>\n",
              "  </thead>\n",
              "  <tbody>\n",
              "    <tr>\n",
              "      <th>Annual Income (k$)</th>\n",
              "      <td>1.000000</td>\n",
              "      <td>0.009903</td>\n",
              "    </tr>\n",
              "    <tr>\n",
              "      <th>Spending Score (1-100)</th>\n",
              "      <td>0.009903</td>\n",
              "      <td>1.000000</td>\n",
              "    </tr>\n",
              "  </tbody>\n",
              "</table>\n",
              "</div>\n",
              "      <button class=\"colab-df-convert\" onclick=\"convertToInteractive('df-3ef89ad9-1c9f-4f81-b702-be9363423c2e')\"\n",
              "              title=\"Convert this dataframe to an interactive table.\"\n",
              "              style=\"display:none;\">\n",
              "        \n",
              "  <svg xmlns=\"http://www.w3.org/2000/svg\" height=\"24px\"viewBox=\"0 0 24 24\"\n",
              "       width=\"24px\">\n",
              "    <path d=\"M0 0h24v24H0V0z\" fill=\"none\"/>\n",
              "    <path d=\"M18.56 5.44l.94 2.06.94-2.06 2.06-.94-2.06-.94-.94-2.06-.94 2.06-2.06.94zm-11 1L8.5 8.5l.94-2.06 2.06-.94-2.06-.94L8.5 2.5l-.94 2.06-2.06.94zm10 10l.94 2.06.94-2.06 2.06-.94-2.06-.94-.94-2.06-.94 2.06-2.06.94z\"/><path d=\"M17.41 7.96l-1.37-1.37c-.4-.4-.92-.59-1.43-.59-.52 0-1.04.2-1.43.59L10.3 9.45l-7.72 7.72c-.78.78-.78 2.05 0 2.83L4 21.41c.39.39.9.59 1.41.59.51 0 1.02-.2 1.41-.59l7.78-7.78 2.81-2.81c.8-.78.8-2.07 0-2.86zM5.41 20L4 18.59l7.72-7.72 1.47 1.35L5.41 20z\"/>\n",
              "  </svg>\n",
              "      </button>\n",
              "      \n",
              "  <style>\n",
              "    .colab-df-container {\n",
              "      display:flex;\n",
              "      flex-wrap:wrap;\n",
              "      gap: 12px;\n",
              "    }\n",
              "\n",
              "    .colab-df-convert {\n",
              "      background-color: #E8F0FE;\n",
              "      border: none;\n",
              "      border-radius: 50%;\n",
              "      cursor: pointer;\n",
              "      display: none;\n",
              "      fill: #1967D2;\n",
              "      height: 32px;\n",
              "      padding: 0 0 0 0;\n",
              "      width: 32px;\n",
              "    }\n",
              "\n",
              "    .colab-df-convert:hover {\n",
              "      background-color: #E2EBFA;\n",
              "      box-shadow: 0px 1px 2px rgba(60, 64, 67, 0.3), 0px 1px 3px 1px rgba(60, 64, 67, 0.15);\n",
              "      fill: #174EA6;\n",
              "    }\n",
              "\n",
              "    [theme=dark] .colab-df-convert {\n",
              "      background-color: #3B4455;\n",
              "      fill: #D2E3FC;\n",
              "    }\n",
              "\n",
              "    [theme=dark] .colab-df-convert:hover {\n",
              "      background-color: #434B5C;\n",
              "      box-shadow: 0px 1px 3px 1px rgba(0, 0, 0, 0.15);\n",
              "      filter: drop-shadow(0px 1px 2px rgba(0, 0, 0, 0.3));\n",
              "      fill: #FFFFFF;\n",
              "    }\n",
              "  </style>\n",
              "\n",
              "      <script>\n",
              "        const buttonEl =\n",
              "          document.querySelector('#df-3ef89ad9-1c9f-4f81-b702-be9363423c2e button.colab-df-convert');\n",
              "        buttonEl.style.display =\n",
              "          google.colab.kernel.accessAllowed ? 'block' : 'none';\n",
              "\n",
              "        async function convertToInteractive(key) {\n",
              "          const element = document.querySelector('#df-3ef89ad9-1c9f-4f81-b702-be9363423c2e');\n",
              "          const dataTable =\n",
              "            await google.colab.kernel.invokeFunction('convertToInteractive',\n",
              "                                                     [key], {});\n",
              "          if (!dataTable) return;\n",
              "\n",
              "          const docLinkHtml = 'Like what you see? Visit the ' +\n",
              "            '<a target=\"_blank\" href=https://colab.research.google.com/notebooks/data_table.ipynb>data table notebook</a>'\n",
              "            + ' to learn more about interactive tables.';\n",
              "          element.innerHTML = '';\n",
              "          dataTable['output_type'] = 'display_data';\n",
              "          await google.colab.output.renderOutput(dataTable, element);\n",
              "          const docLink = document.createElement('div');\n",
              "          docLink.innerHTML = docLinkHtml;\n",
              "          element.appendChild(docLink);\n",
              "        }\n",
              "      </script>\n",
              "    </div>\n",
              "  </div>\n",
              "  "
            ]
          },
          "metadata": {},
          "execution_count": 21
        }
      ]
    },
    {
      "cell_type": "markdown",
      "source": [
        "#Label Encoding For Categorical Values"
      ],
      "metadata": {
        "id": "Sg9gRlKKG57B"
      }
    },
    {
      "cell_type": "code",
      "source": [
        "from sklearn import preprocessing\n",
        "label_encoder=preprocessing.LabelEncoder()\n",
        "df['Gender']=label_encoder.fit_transform(df['Gender'])\n",
        "df.head()"
      ],
      "metadata": {
        "colab": {
          "base_uri": "https://localhost:8080/",
          "height": 206
        },
        "id": "HasdTmVLG9mY",
        "outputId": "d5ad98eb-2d20-46ee-bc52-01e3f738a7bd"
      },
      "execution_count": 22,
      "outputs": [
        {
          "output_type": "execute_result",
          "data": {
            "text/plain": [
              "   Gender  Age  Annual Income (k$)  Spending Score (1-100)\n",
              "0       1   19                  15                      39\n",
              "1       1   21                  15                      81\n",
              "2       0   20                  16                       6\n",
              "3       0   23                  16                      77\n",
              "4       0   31                  17                      40"
            ],
            "text/html": [
              "\n",
              "  <div id=\"df-91f0f213-7402-4ff1-b6c2-6016bf40fbcd\">\n",
              "    <div class=\"colab-df-container\">\n",
              "      <div>\n",
              "<style scoped>\n",
              "    .dataframe tbody tr th:only-of-type {\n",
              "        vertical-align: middle;\n",
              "    }\n",
              "\n",
              "    .dataframe tbody tr th {\n",
              "        vertical-align: top;\n",
              "    }\n",
              "\n",
              "    .dataframe thead th {\n",
              "        text-align: right;\n",
              "    }\n",
              "</style>\n",
              "<table border=\"1\" class=\"dataframe\">\n",
              "  <thead>\n",
              "    <tr style=\"text-align: right;\">\n",
              "      <th></th>\n",
              "      <th>Gender</th>\n",
              "      <th>Age</th>\n",
              "      <th>Annual Income (k$)</th>\n",
              "      <th>Spending Score (1-100)</th>\n",
              "    </tr>\n",
              "  </thead>\n",
              "  <tbody>\n",
              "    <tr>\n",
              "      <th>0</th>\n",
              "      <td>1</td>\n",
              "      <td>19</td>\n",
              "      <td>15</td>\n",
              "      <td>39</td>\n",
              "    </tr>\n",
              "    <tr>\n",
              "      <th>1</th>\n",
              "      <td>1</td>\n",
              "      <td>21</td>\n",
              "      <td>15</td>\n",
              "      <td>81</td>\n",
              "    </tr>\n",
              "    <tr>\n",
              "      <th>2</th>\n",
              "      <td>0</td>\n",
              "      <td>20</td>\n",
              "      <td>16</td>\n",
              "      <td>6</td>\n",
              "    </tr>\n",
              "    <tr>\n",
              "      <th>3</th>\n",
              "      <td>0</td>\n",
              "      <td>23</td>\n",
              "      <td>16</td>\n",
              "      <td>77</td>\n",
              "    </tr>\n",
              "    <tr>\n",
              "      <th>4</th>\n",
              "      <td>0</td>\n",
              "      <td>31</td>\n",
              "      <td>17</td>\n",
              "      <td>40</td>\n",
              "    </tr>\n",
              "  </tbody>\n",
              "</table>\n",
              "</div>\n",
              "      <button class=\"colab-df-convert\" onclick=\"convertToInteractive('df-91f0f213-7402-4ff1-b6c2-6016bf40fbcd')\"\n",
              "              title=\"Convert this dataframe to an interactive table.\"\n",
              "              style=\"display:none;\">\n",
              "        \n",
              "  <svg xmlns=\"http://www.w3.org/2000/svg\" height=\"24px\"viewBox=\"0 0 24 24\"\n",
              "       width=\"24px\">\n",
              "    <path d=\"M0 0h24v24H0V0z\" fill=\"none\"/>\n",
              "    <path d=\"M18.56 5.44l.94 2.06.94-2.06 2.06-.94-2.06-.94-.94-2.06-.94 2.06-2.06.94zm-11 1L8.5 8.5l.94-2.06 2.06-.94-2.06-.94L8.5 2.5l-.94 2.06-2.06.94zm10 10l.94 2.06.94-2.06 2.06-.94-2.06-.94-.94-2.06-.94 2.06-2.06.94z\"/><path d=\"M17.41 7.96l-1.37-1.37c-.4-.4-.92-.59-1.43-.59-.52 0-1.04.2-1.43.59L10.3 9.45l-7.72 7.72c-.78.78-.78 2.05 0 2.83L4 21.41c.39.39.9.59 1.41.59.51 0 1.02-.2 1.41-.59l7.78-7.78 2.81-2.81c.8-.78.8-2.07 0-2.86zM5.41 20L4 18.59l7.72-7.72 1.47 1.35L5.41 20z\"/>\n",
              "  </svg>\n",
              "      </button>\n",
              "      \n",
              "  <style>\n",
              "    .colab-df-container {\n",
              "      display:flex;\n",
              "      flex-wrap:wrap;\n",
              "      gap: 12px;\n",
              "    }\n",
              "\n",
              "    .colab-df-convert {\n",
              "      background-color: #E8F0FE;\n",
              "      border: none;\n",
              "      border-radius: 50%;\n",
              "      cursor: pointer;\n",
              "      display: none;\n",
              "      fill: #1967D2;\n",
              "      height: 32px;\n",
              "      padding: 0 0 0 0;\n",
              "      width: 32px;\n",
              "    }\n",
              "\n",
              "    .colab-df-convert:hover {\n",
              "      background-color: #E2EBFA;\n",
              "      box-shadow: 0px 1px 2px rgba(60, 64, 67, 0.3), 0px 1px 3px 1px rgba(60, 64, 67, 0.15);\n",
              "      fill: #174EA6;\n",
              "    }\n",
              "\n",
              "    [theme=dark] .colab-df-convert {\n",
              "      background-color: #3B4455;\n",
              "      fill: #D2E3FC;\n",
              "    }\n",
              "\n",
              "    [theme=dark] .colab-df-convert:hover {\n",
              "      background-color: #434B5C;\n",
              "      box-shadow: 0px 1px 3px 1px rgba(0, 0, 0, 0.15);\n",
              "      filter: drop-shadow(0px 1px 2px rgba(0, 0, 0, 0.3));\n",
              "      fill: #FFFFFF;\n",
              "    }\n",
              "  </style>\n",
              "\n",
              "      <script>\n",
              "        const buttonEl =\n",
              "          document.querySelector('#df-91f0f213-7402-4ff1-b6c2-6016bf40fbcd button.colab-df-convert');\n",
              "        buttonEl.style.display =\n",
              "          google.colab.kernel.accessAllowed ? 'block' : 'none';\n",
              "\n",
              "        async function convertToInteractive(key) {\n",
              "          const element = document.querySelector('#df-91f0f213-7402-4ff1-b6c2-6016bf40fbcd');\n",
              "          const dataTable =\n",
              "            await google.colab.kernel.invokeFunction('convertToInteractive',\n",
              "                                                     [key], {});\n",
              "          if (!dataTable) return;\n",
              "\n",
              "          const docLinkHtml = 'Like what you see? Visit the ' +\n",
              "            '<a target=\"_blank\" href=https://colab.research.google.com/notebooks/data_table.ipynb>data table notebook</a>'\n",
              "            + ' to learn more about interactive tables.';\n",
              "          element.innerHTML = '';\n",
              "          dataTable['output_type'] = 'display_data';\n",
              "          await google.colab.output.renderOutput(dataTable, element);\n",
              "          const docLink = document.createElement('div');\n",
              "          docLink.innerHTML = docLinkHtml;\n",
              "          element.appendChild(docLink);\n",
              "        }\n",
              "      </script>\n",
              "    </div>\n",
              "  </div>\n",
              "  "
            ]
          },
          "metadata": {},
          "execution_count": 22
        }
      ]
    },
    {
      "cell_type": "markdown",
      "source": [
        "#Outiers Identification And Replacing Using Quantile-Based Flooring and Capping for Continuous Variables\n"
      ],
      "metadata": {
        "id": "P0zRVB02HawG"
      }
    },
    {
      "cell_type": "code",
      "source": [
        "q1=df['Age'].quantile(0.10)\n",
        "q2=df['Age'].quantile(0.90)\n",
        "df['Age']=np.where(df['Age']<q1,q1,df['Age'])\n",
        "df['Age']=np.where(df['Age']>q2,q2,df['Age'])\n",
        "print(df['Age'].skew())\n",
        "\n",
        "q1=df['Annual Income (k$)'].quantile(0.10)\n",
        "q2=df['Annual Income (k$)'].quantile(0.90)\n",
        "df['Annual Income (k$)']=np.where(df['Annual Income (k$)']<q1,q1,df['Annual Income (k$)'])\n",
        "df['Annual Income (k$)']=np.where(df['Annual Income (k$)']>q2,q2,df['Annual Income (k$)'])\n",
        "print(df['Annual Income (k$)'].skew())\n",
        "\n",
        "q1=df['Spending Score (1-100)'].quantile(0.10)\n",
        "q2=df['Spending Score (1-100)'].quantile(0.90)\n",
        "df['Spending Score (1-100)']=np.where(df['Spending Score (1-100)']<q1,q1,df['Spending Score (1-100)'])\n",
        "df['Spending Score (1-100)']=np.where(df['Spending Score (1-100)']>q2,q2,df['Spending Score (1-100)'])\n",
        "print(df['Spending Score (1-100)'].skew())"
      ],
      "metadata": {
        "colab": {
          "base_uri": "https://localhost:8080/"
        },
        "id": "C7Hqhl2CHcuj",
        "outputId": "5b82447a-164a-48c3-8cfb-ff0c8febb8bd"
      },
      "execution_count": 23,
      "outputs": [
        {
          "output_type": "stream",
          "name": "stdout",
          "text": [
            "0.281242452772514\n",
            "-0.11114517936178386\n",
            "-0.03744215109217243\n"
          ]
        }
      ]
    },
    {
      "cell_type": "code",
      "source": [
        "df"
      ],
      "metadata": {
        "colab": {
          "base_uri": "https://localhost:8080/",
          "height": 424
        },
        "id": "gw113c4eH0I5",
        "outputId": "5f283d18-a367-497c-8a54-f02979b68546"
      },
      "execution_count": 24,
      "outputs": [
        {
          "output_type": "execute_result",
          "data": {
            "text/plain": [
              "     Gender   Age  Annual Income (k$)  Spending Score (1-100)\n",
              "0         1  21.0                23.9                    39.0\n",
              "1         1  21.0                23.9                    81.0\n",
              "2         0  21.0                23.9                    13.0\n",
              "3         0  23.0                23.9                    77.0\n",
              "4         0  31.0                23.9                    40.0\n",
              "..      ...   ...                 ...                     ...\n",
              "195       0  35.0                93.4                    79.0\n",
              "196       0  45.0                93.4                    28.0\n",
              "197       1  32.0                93.4                    74.0\n",
              "198       1  32.0                93.4                    18.0\n",
              "199       1  30.0                93.4                    83.0\n",
              "\n",
              "[200 rows x 4 columns]"
            ],
            "text/html": [
              "\n",
              "  <div id=\"df-6a157f02-435b-4818-bf12-8243ce35b76a\">\n",
              "    <div class=\"colab-df-container\">\n",
              "      <div>\n",
              "<style scoped>\n",
              "    .dataframe tbody tr th:only-of-type {\n",
              "        vertical-align: middle;\n",
              "    }\n",
              "\n",
              "    .dataframe tbody tr th {\n",
              "        vertical-align: top;\n",
              "    }\n",
              "\n",
              "    .dataframe thead th {\n",
              "        text-align: right;\n",
              "    }\n",
              "</style>\n",
              "<table border=\"1\" class=\"dataframe\">\n",
              "  <thead>\n",
              "    <tr style=\"text-align: right;\">\n",
              "      <th></th>\n",
              "      <th>Gender</th>\n",
              "      <th>Age</th>\n",
              "      <th>Annual Income (k$)</th>\n",
              "      <th>Spending Score (1-100)</th>\n",
              "    </tr>\n",
              "  </thead>\n",
              "  <tbody>\n",
              "    <tr>\n",
              "      <th>0</th>\n",
              "      <td>1</td>\n",
              "      <td>21.0</td>\n",
              "      <td>23.9</td>\n",
              "      <td>39.0</td>\n",
              "    </tr>\n",
              "    <tr>\n",
              "      <th>1</th>\n",
              "      <td>1</td>\n",
              "      <td>21.0</td>\n",
              "      <td>23.9</td>\n",
              "      <td>81.0</td>\n",
              "    </tr>\n",
              "    <tr>\n",
              "      <th>2</th>\n",
              "      <td>0</td>\n",
              "      <td>21.0</td>\n",
              "      <td>23.9</td>\n",
              "      <td>13.0</td>\n",
              "    </tr>\n",
              "    <tr>\n",
              "      <th>3</th>\n",
              "      <td>0</td>\n",
              "      <td>23.0</td>\n",
              "      <td>23.9</td>\n",
              "      <td>77.0</td>\n",
              "    </tr>\n",
              "    <tr>\n",
              "      <th>4</th>\n",
              "      <td>0</td>\n",
              "      <td>31.0</td>\n",
              "      <td>23.9</td>\n",
              "      <td>40.0</td>\n",
              "    </tr>\n",
              "    <tr>\n",
              "      <th>...</th>\n",
              "      <td>...</td>\n",
              "      <td>...</td>\n",
              "      <td>...</td>\n",
              "      <td>...</td>\n",
              "    </tr>\n",
              "    <tr>\n",
              "      <th>195</th>\n",
              "      <td>0</td>\n",
              "      <td>35.0</td>\n",
              "      <td>93.4</td>\n",
              "      <td>79.0</td>\n",
              "    </tr>\n",
              "    <tr>\n",
              "      <th>196</th>\n",
              "      <td>0</td>\n",
              "      <td>45.0</td>\n",
              "      <td>93.4</td>\n",
              "      <td>28.0</td>\n",
              "    </tr>\n",
              "    <tr>\n",
              "      <th>197</th>\n",
              "      <td>1</td>\n",
              "      <td>32.0</td>\n",
              "      <td>93.4</td>\n",
              "      <td>74.0</td>\n",
              "    </tr>\n",
              "    <tr>\n",
              "      <th>198</th>\n",
              "      <td>1</td>\n",
              "      <td>32.0</td>\n",
              "      <td>93.4</td>\n",
              "      <td>18.0</td>\n",
              "    </tr>\n",
              "    <tr>\n",
              "      <th>199</th>\n",
              "      <td>1</td>\n",
              "      <td>30.0</td>\n",
              "      <td>93.4</td>\n",
              "      <td>83.0</td>\n",
              "    </tr>\n",
              "  </tbody>\n",
              "</table>\n",
              "<p>200 rows × 4 columns</p>\n",
              "</div>\n",
              "      <button class=\"colab-df-convert\" onclick=\"convertToInteractive('df-6a157f02-435b-4818-bf12-8243ce35b76a')\"\n",
              "              title=\"Convert this dataframe to an interactive table.\"\n",
              "              style=\"display:none;\">\n",
              "        \n",
              "  <svg xmlns=\"http://www.w3.org/2000/svg\" height=\"24px\"viewBox=\"0 0 24 24\"\n",
              "       width=\"24px\">\n",
              "    <path d=\"M0 0h24v24H0V0z\" fill=\"none\"/>\n",
              "    <path d=\"M18.56 5.44l.94 2.06.94-2.06 2.06-.94-2.06-.94-.94-2.06-.94 2.06-2.06.94zm-11 1L8.5 8.5l.94-2.06 2.06-.94-2.06-.94L8.5 2.5l-.94 2.06-2.06.94zm10 10l.94 2.06.94-2.06 2.06-.94-2.06-.94-.94-2.06-.94 2.06-2.06.94z\"/><path d=\"M17.41 7.96l-1.37-1.37c-.4-.4-.92-.59-1.43-.59-.52 0-1.04.2-1.43.59L10.3 9.45l-7.72 7.72c-.78.78-.78 2.05 0 2.83L4 21.41c.39.39.9.59 1.41.59.51 0 1.02-.2 1.41-.59l7.78-7.78 2.81-2.81c.8-.78.8-2.07 0-2.86zM5.41 20L4 18.59l7.72-7.72 1.47 1.35L5.41 20z\"/>\n",
              "  </svg>\n",
              "      </button>\n",
              "      \n",
              "  <style>\n",
              "    .colab-df-container {\n",
              "      display:flex;\n",
              "      flex-wrap:wrap;\n",
              "      gap: 12px;\n",
              "    }\n",
              "\n",
              "    .colab-df-convert {\n",
              "      background-color: #E8F0FE;\n",
              "      border: none;\n",
              "      border-radius: 50%;\n",
              "      cursor: pointer;\n",
              "      display: none;\n",
              "      fill: #1967D2;\n",
              "      height: 32px;\n",
              "      padding: 0 0 0 0;\n",
              "      width: 32px;\n",
              "    }\n",
              "\n",
              "    .colab-df-convert:hover {\n",
              "      background-color: #E2EBFA;\n",
              "      box-shadow: 0px 1px 2px rgba(60, 64, 67, 0.3), 0px 1px 3px 1px rgba(60, 64, 67, 0.15);\n",
              "      fill: #174EA6;\n",
              "    }\n",
              "\n",
              "    [theme=dark] .colab-df-convert {\n",
              "      background-color: #3B4455;\n",
              "      fill: #D2E3FC;\n",
              "    }\n",
              "\n",
              "    [theme=dark] .colab-df-convert:hover {\n",
              "      background-color: #434B5C;\n",
              "      box-shadow: 0px 1px 3px 1px rgba(0, 0, 0, 0.15);\n",
              "      filter: drop-shadow(0px 1px 2px rgba(0, 0, 0, 0.3));\n",
              "      fill: #FFFFFF;\n",
              "    }\n",
              "  </style>\n",
              "\n",
              "      <script>\n",
              "        const buttonEl =\n",
              "          document.querySelector('#df-6a157f02-435b-4818-bf12-8243ce35b76a button.colab-df-convert');\n",
              "        buttonEl.style.display =\n",
              "          google.colab.kernel.accessAllowed ? 'block' : 'none';\n",
              "\n",
              "        async function convertToInteractive(key) {\n",
              "          const element = document.querySelector('#df-6a157f02-435b-4818-bf12-8243ce35b76a');\n",
              "          const dataTable =\n",
              "            await google.colab.kernel.invokeFunction('convertToInteractive',\n",
              "                                                     [key], {});\n",
              "          if (!dataTable) return;\n",
              "\n",
              "          const docLinkHtml = 'Like what you see? Visit the ' +\n",
              "            '<a target=\"_blank\" href=https://colab.research.google.com/notebooks/data_table.ipynb>data table notebook</a>'\n",
              "            + ' to learn more about interactive tables.';\n",
              "          element.innerHTML = '';\n",
              "          dataTable['output_type'] = 'display_data';\n",
              "          await google.colab.output.renderOutput(dataTable, element);\n",
              "          const docLink = document.createElement('div');\n",
              "          docLink.innerHTML = docLinkHtml;\n",
              "          element.appendChild(docLink);\n",
              "        }\n",
              "      </script>\n",
              "    </div>\n",
              "  </div>\n",
              "  "
            ]
          },
          "metadata": {},
          "execution_count": 24
        }
      ]
    },
    {
      "cell_type": "markdown",
      "source": [
        "#Scaling Variables"
      ],
      "metadata": {
        "id": "MX2206ifIAbD"
      }
    },
    {
      "cell_type": "code",
      "source": [
        "import pandas as pd\n",
        "from sklearn.preprocessing import StandardScaler\n",
        "scaler=StandardScaler()\n",
        "scaled=scaler.fit_transform(df)\n",
        "print(scaled)"
      ],
      "metadata": {
        "colab": {
          "base_uri": "https://localhost:8080/"
        },
        "id": "swOOUiSLICZe",
        "outputId": "f4a9b6fd-e430-4ada-a302-a8b7324fca2e"
      },
      "execution_count": 25,
      "outputs": [
        {
          "output_type": "stream",
          "name": "stdout",
          "text": [
            "[[ 1.12815215 -1.39030724 -1.599128   -0.47229142]\n",
            " [ 1.12815215 -1.39030724 -1.599128    1.28936397]\n",
            " [-0.88640526 -1.39030724 -1.599128   -1.56284   ]\n",
            " [-0.88640526 -1.2301336  -1.599128    1.12158726]\n",
            " [-0.88640526 -0.58943902 -1.599128   -0.43034725]\n",
            " [-0.88640526 -1.31022042 -1.599128    1.07964309]\n",
            " [-0.88640526 -0.26909172 -1.599128   -1.56284   ]\n",
            " [-0.88640526 -1.2301336  -1.599128    1.54522344]\n",
            " [ 1.12815215  1.6610007  -1.599128   -1.56284   ]\n",
            " [-0.88640526 -0.66952584 -1.599128    0.91186639]\n",
            " [ 1.12815215  1.6610007  -1.599128   -1.52089582]\n",
            " [-0.88640526 -0.26909172 -1.599128    1.54522344]\n",
            " [-0.88640526  1.5729052  -1.599128   -1.47895164]\n",
            " [-0.88640526 -1.15004677 -1.599128    1.12158726]\n",
            " [ 1.12815215 -0.10891808 -1.599128   -1.56284   ]\n",
            " [ 1.12815215 -1.31022042 -1.599128    1.20547562]\n",
            " [-0.88640526 -0.26909172 -1.599128   -0.64006812]\n",
            " [ 1.12815215 -1.39030724 -1.599128    0.66020133]\n",
            " [ 1.12815215  1.09238426 -1.599128   -0.89173318]\n",
            " [-0.88640526 -0.26909172 -1.599128    1.54522344]\n",
            " [ 1.12815215 -0.26909172 -1.59462848 -0.64006812]\n",
            " [ 1.12815215 -1.06995995 -1.59462848  0.95381056]\n",
            " [-0.88640526  0.61186333 -1.54963332 -1.56284   ]\n",
            " [ 1.12815215 -0.58943902 -1.54963332  0.95381056]\n",
            " [-0.88640526  1.25255791 -1.41464784 -1.52089582]\n",
            " [ 1.12815215 -0.74961266 -1.41464784  1.33130814]\n",
            " [-0.88640526  0.5317765  -1.41464784 -0.76590065]\n",
            " [ 1.12815215 -0.26909172 -1.41464784  0.45048045]\n",
            " [-0.88640526  0.13134239 -1.36965268 -0.80784483]\n",
            " [-0.88640526 -1.2301336  -1.36965268  1.54102902]\n",
            " [ 1.12815215  1.6610007  -1.32465752 -1.56284   ]\n",
            " [-0.88640526 -1.39030724 -1.32465752  0.95381056]\n",
            " [ 1.12815215  1.17247108 -1.18967204 -1.56284   ]\n",
            " [ 1.12815215 -1.39030724 -1.18967204  1.54522344]\n",
            " [-0.88640526  0.85212379 -1.18967204 -1.52089582]\n",
            " [-0.88640526 -1.39030724 -1.18967204  1.28936397]\n",
            " [-0.88640526  0.29151603 -1.14467688 -1.39506329]\n",
            " [-0.88640526 -0.66952584 -1.14467688  0.95381056]\n",
            " [-0.88640526 -0.1890049  -1.0096914  -1.01756571]\n",
            " [-0.88640526 -1.39030724 -1.0096914   1.03769891]\n",
            " [-0.88640526  1.6610007  -0.96469624 -0.64006812]\n",
            " [ 1.12815215 -1.15004677 -0.96469624  1.54522344]\n",
            " [ 1.12815215  0.77203697 -0.91970108 -0.59812395]\n",
            " [-0.88640526 -0.58943902 -0.91970108  0.45048045]\n",
            " [-0.88640526  0.85212379 -0.91970108 -0.93367736]\n",
            " [-0.88640526 -1.15004677 -0.91970108  0.61825715]\n",
            " [-0.88640526  0.93221062 -0.87470592  0.19881539]\n",
            " [-0.88640526 -0.90978631 -0.87470592 -0.13673801]\n",
            " [-0.88640526 -0.74961266 -0.87470592 -0.34645889]\n",
            " [-0.88640526 -0.58943902 -0.87470592 -0.34645889]\n",
            " [-0.88640526  0.85212379 -0.78471559  0.07298287]\n",
            " [ 1.12815215 -0.42926537 -0.78471559  0.40853627]\n",
            " [-0.88640526 -0.58943902 -0.73972043  0.15687122]\n",
            " [ 1.12815215  1.65299202 -0.73972043  0.40853627]\n",
            " [-0.88640526  0.93221062 -0.73972043 -0.22062637]\n",
            " [ 1.12815215  0.69195015 -0.73972043 -0.38840307]\n",
            " [-0.88640526  1.01229744 -0.69472527 -0.01090549]\n",
            " [ 1.12815215  1.6610007  -0.69472527 -0.17868219]\n",
            " [-0.88640526 -0.90978631 -0.60473495  0.03103869]\n",
            " [ 1.12815215  1.17247108 -0.60473495 -0.17868219]\n",
            " [ 1.12815215  1.6610007  -0.60473495  0.24075957]\n",
            " [ 1.12815215 -1.39030724 -0.60473495  0.19881539]\n",
            " [-0.88640526  1.6610007  -0.55973979  0.07298287]\n",
            " [-0.88640526  1.25255791 -0.55973979  0.3665921 ]\n",
            " [ 1.12815215  1.6610007  -0.51474463  0.03103869]\n",
            " [ 1.12815215 -1.39030724 -0.51474463  0.3665921 ]\n",
            " [-0.88640526  0.37160286 -0.51474463 -0.01090549]\n",
            " [-0.88640526  1.6610007  -0.51474463 -0.09479384]\n",
            " [ 1.12815215 -1.39030724 -0.51474463  0.3665921 ]\n",
            " [-0.88640526 -0.50935219 -0.51474463 -0.13673801]\n",
            " [ 1.12815215  1.6610007  -0.46974947  0.19881539]\n",
            " [-0.88640526  0.69195015 -0.46974947 -0.34645889]\n",
            " [-0.88640526  1.6610007  -0.42475431 -0.05284966]\n",
            " [-0.88640526  1.6610007  -0.42475431  0.24075957]\n",
            " [ 1.12815215  1.65299202 -0.24477367 -0.13673801]\n",
            " [ 1.12815215 -0.98987313 -0.24477367  0.15687122]\n",
            " [-0.88640526  0.5317765  -0.24477367  0.11492704]\n",
            " [ 1.12815215  0.13134239 -0.24477367 -0.09479384]\n",
            " [-0.88640526 -1.2301336  -0.24477367  0.07298287]\n",
            " [-0.88640526  0.85212379 -0.24477367 -0.34645889]\n",
            " [ 1.12815215  1.49281838 -0.24477367  0.03103869]\n",
            " [ 1.12815215 -0.02883126 -0.24477367  0.19881539]\n",
            " [ 1.12815215  1.6610007  -0.24477367 -0.38840307]\n",
            " [-0.88640526  0.61186333 -0.24477367 -0.26257054]\n",
            " [-0.88640526 -1.39030724 -0.24477367  0.28270375]\n",
            " [ 1.12815215  0.77203697 -0.24477367 -0.17868219]\n",
            " [-0.88640526  1.33264473 -0.10978819  0.32464792]\n",
            " [-0.88640526 -1.31022042 -0.10978819  0.19881539]\n",
            " [-0.88640526 -0.34917855 -0.06479303  0.40853627]\n",
            " [-0.88640526  0.93221062 -0.06479303 -0.17868219]\n",
            " [-0.88640526  1.6610007  -0.01979787  0.19881539]\n",
            " [ 1.12815215 -1.39030724 -0.01979787 -0.38840307]\n",
            " [ 1.12815215  0.77203697  0.02519729 -0.05284966]\n",
            " [-0.88640526  0.13134239  0.02519729 -0.43034725]\n",
            " [-0.88640526 -0.50935219  0.02519729 -0.34645889]\n",
            " [ 1.12815215 -1.15004677  0.02519729  0.07298287]\n",
            " [-0.88640526  0.69195015  0.02519729 -0.13673801]\n",
            " [-0.88640526 -0.90978631  0.02519729 -0.01090549]\n",
            " [ 1.12815215  0.77203697  0.07019245 -0.34645889]\n",
            " [ 1.12815215 -1.39030724  0.07019245 -0.05284966]\n",
            " [-0.88640526 -1.2301336   0.11518761 -0.38840307]\n",
            " [-0.88640526  0.85212379  0.11518761 -0.09479384]\n",
            " [ 1.12815215  1.6610007   0.11518761  0.3665921 ]\n",
            " [ 1.12815215 -0.98987313  0.11518761  0.19881539]\n",
            " [ 1.12815215  0.85212379  0.11518761  0.24075957]\n",
            " [-0.88640526 -1.39030724  0.11518761 -0.34645889]\n",
            " [-0.88640526  1.6610007   0.16018277 -0.01090549]\n",
            " [ 1.12815215  1.25255791  0.16018277 -0.17868219]\n",
            " [ 1.12815215  1.6610007   0.16018277 -0.30451472]\n",
            " [ 1.12815215  1.6610007   0.16018277 -0.09479384]\n",
            " [ 1.12815215  1.6610007   0.16018277  0.07298287]\n",
            " [-0.88640526 -1.39030724  0.16018277  0.15687122]\n",
            " [-0.88640526 -0.02883126  0.20517793 -0.34645889]\n",
            " [ 1.12815215 -1.39030724  0.20517793 -0.17868219]\n",
            " [-0.88640526 -1.39030724  0.25017309 -0.09479384]\n",
            " [-0.88640526 -1.39030724  0.25017309 -0.01090549]\n",
            " [-0.88640526  1.6610007   0.25017309 -0.30451472]\n",
            " [-0.88640526  0.85212379  0.25017309  0.3665921 ]\n",
            " [-0.88640526  1.01229744  0.34016341 -0.30451472]\n",
            " [-0.88640526  0.93221062  0.34016341  0.28270375]\n",
            " [ 1.12815215 -0.90978631  0.34016341  0.24075957]\n",
            " [-0.88640526 -0.02883126  0.34016341 -0.43034725]\n",
            " [-0.88640526  0.13134239  0.43015373  0.32464792]\n",
            " [ 1.12815215  0.05125557  0.43015373  1.54522344]\n",
            " [-0.88640526 -1.2301336   0.47514889 -0.89173318]\n",
            " [-0.88640526 -0.58943902  0.47514889  1.12158726]\n",
            " [ 1.12815215  0.37160286  0.52014405 -0.64006812]\n",
            " [ 1.12815215  0.13134239  0.52014405  1.54522344]\n",
            " [ 1.12815215  1.65299202  0.52014405 -1.56284   ]\n",
            " [ 1.12815215 -0.02883126  0.52014405  1.03769891]\n",
            " [ 1.12815215  0.69195015  0.52014405 -1.56284   ]\n",
            " [ 1.12815215  0.05125557  0.52014405  1.03769891]\n",
            " [-0.88640526 -1.06995995  0.56513921 -0.6820123 ]\n",
            " [-0.88640526 -0.58943902  0.56513921  0.86992221]\n",
            " [ 1.12815215 -1.39030724  0.61013437 -1.56284   ]\n",
            " [-0.88640526 -0.74961266  0.61013437  1.54522344]\n",
            " [-0.88640526  0.45168968  0.61013437 -1.56284   ]\n",
            " [ 1.12815215 -0.50935219  0.61013437  0.95381056]\n",
            " [ 1.12815215 -1.39030724  0.65512953 -1.56284   ]\n",
            " [-0.88640526 -0.26909172  0.65512953  0.91186639]\n",
            " [-0.88640526  1.49281838  0.70012469 -1.56284   ]\n",
            " [ 1.12815215 -0.50935219  0.70012469  1.54522344]\n",
            " [-0.88640526 -0.82969948  0.74511985 -0.43034725]\n",
            " [-0.88640526 -0.50935219  0.74511985  1.54102902]\n",
            " [ 1.12815215 -1.06995995  0.79011501 -1.56284   ]\n",
            " [ 1.12815215 -0.82969948  0.79011501  1.54522344]\n",
            " [ 1.12815215  0.77203697  0.79011501 -0.59812395]\n",
            " [-0.88640526 -0.50935219  0.79011501  0.99575474]\n",
            " [-0.88640526 -0.34917855  0.83511017 -1.18534241]\n",
            " [ 1.12815215 -0.34917855  0.83511017  1.54522344]\n",
            " [ 1.12815215  0.37160286  0.83511017 -1.39506329]\n",
            " [ 1.12815215  0.05125557  0.83511017  1.54522344]\n",
            " [-0.88640526  0.45168968  0.83511017 -1.26923076]\n",
            " [-0.88640526 -0.02883126  0.83511017  1.07964309]\n",
            " [-0.88640526  0.69195015  0.83511017 -1.43700747]\n",
            " [-0.88640526 -0.90978631  0.83511017  1.54522344]\n",
            " [ 1.12815215 -0.10891808  0.83511017 -1.56284   ]\n",
            " [-0.88640526 -0.66952584  0.83511017  1.16353144]\n",
            " [ 1.12815215 -0.34917855  0.83511017 -1.56284   ]\n",
            " [-0.88640526 -0.66952584  0.83511017  0.95381056]\n",
            " [-0.88640526  1.41273155  0.88010533 -0.64006812]\n",
            " [-0.88640526 -0.74961266  0.88010533  1.37325232]\n",
            " [ 1.12815215 -1.39030724  0.97009565 -1.56284   ]\n",
            " [-0.88640526 -0.58943902  0.97009565  1.54522344]\n",
            " [ 1.12815215  0.93221062  1.1500763  -1.01756571]\n",
            " [-0.88640526 -0.1890049   1.1500763   1.03769891]\n",
            " [ 1.12815215  0.29151603  1.19507146 -1.26923076]\n",
            " [-0.88640526 -0.42926537  1.19507146  1.54522344]\n",
            " [-0.88640526 -0.1890049   1.24006662 -0.97562153]\n",
            " [ 1.12815215 -0.50935219  1.24006662  0.5343688 ]\n",
            " [ 1.12815215  0.13134239  1.24006662 -1.56284   ]\n",
            " [ 1.12815215 -0.82969948  1.24006662  1.03769891]\n",
            " [ 1.12815215 -0.1890049   1.24006662 -1.56284   ]\n",
            " [ 1.12815215 -0.1890049   1.24006662  1.54522344]\n",
            " [-0.88640526  1.09238426  1.28506178 -1.56284   ]\n",
            " [-0.88640526 -0.66952584  1.28506178  1.49908485]\n",
            " [ 1.12815215  1.5729052   1.28506178 -1.47895164]\n",
            " [ 1.12815215 -0.90978631  1.28506178  0.78603386]\n",
            " [ 1.12815215  1.65299202  1.51003758 -1.52089582]\n",
            " [ 1.12815215 -0.26909172  1.51003758  1.54522344]\n",
            " [-0.88640526 -0.10891808  1.52803564 -0.76590065]\n",
            " [-0.88640526 -0.50935219  1.52803564  1.49908485]\n",
            " [ 1.12815215  0.61186333  1.52803564 -1.47895164]\n",
            " [-0.88640526 -0.74961266  1.52803564  1.54522344]\n",
            " [-0.88640526  0.21142921  1.52803564 -0.47229142]\n",
            " [ 1.12815215 -0.66952584  1.52803564  1.54522344]\n",
            " [-0.88640526  1.25255791  1.52803564 -1.10145406]\n",
            " [ 1.12815215 -0.82969948  1.52803564  0.74408968]\n",
            " [-0.88640526  0.21142921  1.52803564 -1.39506329]\n",
            " [-0.88640526 -0.1890049   1.52803564  1.45714067]\n",
            " [-0.88640526 -0.34917855  1.52803564 -1.14339824]\n",
            " [-0.88640526 -0.50935219  1.52803564  0.78603386]\n",
            " [ 1.12815215 -0.42926537  1.52803564 -1.56284   ]\n",
            " [-0.88640526 -0.02883126  1.52803564  1.54522344]\n",
            " [-0.88640526  0.69195015  1.52803564 -1.43700747]\n",
            " [-0.88640526 -0.26909172  1.52803564  1.20547562]\n",
            " [-0.88640526  0.5317765   1.52803564 -0.93367736]\n",
            " [ 1.12815215 -0.50935219  1.52803564  0.99575474]\n",
            " [ 1.12815215 -0.50935219  1.52803564 -1.35311912]\n",
            " [ 1.12815215 -0.66952584  1.52803564  1.37325232]]\n"
          ]
        }
      ]
    },
    {
      "cell_type": "markdown",
      "source": [
        "#Elbow Method To Find Number Of Clusters"
      ],
      "metadata": {
        "id": "QcrthgbVIod6"
      }
    },
    {
      "cell_type": "code",
      "source": [
        "w=[]\n",
        "K=range(1,10)\n",
        "for k in K:\n",
        "  kmeanModel=KMeans(n_clusters=k)\n",
        "  kmeanModel.fit(scaled)\n",
        "  w.append(kmeanModel.inertia_)\n",
        "\n",
        "  plt.figure(figsize=(16,8))\n",
        "  plt.plot(w)\n",
        "  plt.xlabel('Number of clusters')\n",
        "  plt.ylabel('Distortion')\n",
        "  plt.title('The Elbow Method showing the optimal number of clusters(k)')\n",
        "\n",
        "  plt.show()\n"
      ],
      "metadata": {
        "colab": {
          "base_uri": "https://localhost:8080/",
          "height": 1000
        },
        "id": "au98yfjHI2Ak",
        "outputId": "163a7320-4178-4a4d-fefb-86f010f87ffe"
      },
      "execution_count": 44,
      "outputs": [
        {
          "output_type": "display_data",
          "data": {
            "text/plain": [
              "<Figure size 1152x576 with 1 Axes>"
            ],
            "image/png": "[encoded data removed]"
          },
          "metadata": {
            "needs_background": "light"
          }
        },
        {
          "output_type": "display_data",
          "data": {
            "text/plain": [
              "<Figure size 1152x576 with 1 Axes>"
            ],
            "image/png": "[encoded data removed]"
          },
          "metadata": {
            "needs_background": "light"
          }
        },
        {
          "output_type": "display_data",
          "data": {
            "text/plain": [
              "<Figure size 1152x576 with 1 Axes>"
            ],
            "image/png": "[encoded data removed]"
          },
          "metadata": {
            "needs_background": "light"
          }
        },
        {
          "output_type": "display_data",
          "data": {
            "text/plain": [
              "<Figure size 1152x576 with 1 Axes>"
            ],
            "image/png": "[encoded data removed]"
          },
          "metadata": {
            "needs_background": "light"
          }
        },
        {
          "output_type": "display_data",
          "data": {
            "text/plain": [
              "<Figure size 1152x576 with 1 Axes>"
            ],
            "image/png": "[encoded data removed]"
          },
          "metadata": {
            "needs_background": "light"
          }
        },
        {
          "output_type": "display_data",
          "data": {
            "text/plain": [
              "<Figure size 1152x576 with 1 Axes>"
            ],
            "image/png": "[encoded data removed]"
          },
          "metadata": {
            "needs_background": "light"
          }
        },
        {
          "output_type": "display_data",
          "data": {
            "text/plain": [
              "<Figure size 1152x576 with 1 Axes>"
            ],
            "image/png": "[encoded data removed]"
          },
          "metadata": {
            "needs_background": "light"
          }
        },
        {
          "output_type": "display_data",
          "data": {
            "text/plain": [
              "<Figure size 1152x576 with 1 Axes>"
            ],
            "image/png": "[encoded data removed]"
          },
          "metadata": {
            "needs_background": "light"
          }
        },
        {
          "output_type": "display_data",
          "data": {
            "text/plain": [
              "<Figure size 1152x576 with 1 Axes>"
            ],
            "image/png": "[encoded data removed]"
          },
          "metadata": {
            "needs_background": "light"
          }
        }
      ]
    },
    {
      "cell_type": "markdown",
      "source": [
        "#Training the model-support vectom regression\n"
      ],
      "metadata": {
        "id": "qkD3nMBWKgnL"
      }
    },
    {
      "cell_type": "code",
      "source": [
        "from sklearn.cluster import KMeans\n",
        "kmean=KMeans(n_clusters=3)\n",
        "kmean.fit(scaled)\n",
        "y_pred=kmean.predict(scaled)\n",
        "df['pred_cluster']=y_pred\n",
        "df.head"
      ],
      "metadata": {
        "colab": {
          "base_uri": "https://localhost:8080/"
        },
        "id": "4VRNSo9ZKpHx",
        "outputId": "71ec723c-ca8a-45f6-887f-fdd6e714f451"
      },
      "execution_count": 31,
      "outputs": [
        {
          "output_type": "execute_result",
          "data": {
            "text/plain": [
              "<bound method NDFrame.head of      Gender   Age  Annual Income (k$)  Spending Score (1-100)  pred_cluster\n",
              "0         1  21.0                23.9                    39.0             2\n",
              "1         1  21.0                23.9                    81.0             2\n",
              "2         0  21.0                23.9                    13.0             0\n",
              "3         0  23.0                23.9                    77.0             2\n",
              "4         0  31.0                23.9                    40.0             0\n",
              "..      ...   ...                 ...                     ...           ...\n",
              "195       0  35.0                93.4                    79.0             2\n",
              "196       0  45.0                93.4                    28.0             0\n",
              "197       1  32.0                93.4                    74.0             2\n",
              "198       1  32.0                93.4                    18.0             1\n",
              "199       1  30.0                93.4                    83.0             2\n",
              "\n",
              "[200 rows x 5 columns]>"
            ]
          },
          "metadata": {},
          "execution_count": 31
        }
      ]
    },
    {
      "cell_type": "markdown",
      "source": [
        "#Independent Variables\n"
      ],
      "metadata": {
        "id": "Ek55TERlK-yT"
      }
    },
    {
      "cell_type": "code",
      "source": [
        "l2=list(df.columns)\n",
        "df2=df[l2[:len(l2)-1]]\n",
        "df2.head()"
      ],
      "metadata": {
        "colab": {
          "base_uri": "https://localhost:8080/",
          "height": 206
        },
        "id": "pcIvAyyfLEA5",
        "outputId": "3a74faed-939a-46d6-8251-c0fd3e4f9351"
      },
      "execution_count": 32,
      "outputs": [
        {
          "output_type": "execute_result",
          "data": {
            "text/plain": [
              "   Gender   Age  Annual Income (k$)  Spending Score (1-100)\n",
              "0       1  21.0                23.9                    39.0\n",
              "1       1  21.0                23.9                    81.0\n",
              "2       0  21.0                23.9                    13.0\n",
              "3       0  23.0                23.9                    77.0\n",
              "4       0  31.0                23.9                    40.0"
            ],
            "text/html": [
              "\n",
              "  <div id=\"df-e5506d7d-3f28-433e-b1a8-fe162afe6930\">\n",
              "    <div class=\"colab-df-container\">\n",
              "      <div>\n",
              "<style scoped>\n",
              "    .dataframe tbody tr th:only-of-type {\n",
              "        vertical-align: middle;\n",
              "    }\n",
              "\n",
              "    .dataframe tbody tr th {\n",
              "        vertical-align: top;\n",
              "    }\n",
              "\n",
              "    .dataframe thead th {\n",
              "        text-align: right;\n",
              "    }\n",
              "</style>\n",
              "<table border=\"1\" class=\"dataframe\">\n",
              "  <thead>\n",
              "    <tr style=\"text-align: right;\">\n",
              "      <th></th>\n",
              "      <th>Gender</th>\n",
              "      <th>Age</th>\n",
              "      <th>Annual Income (k$)</th>\n",
              "      <th>Spending Score (1-100)</th>\n",
              "    </tr>\n",
              "  </thead>\n",
              "  <tbody>\n",
              "    <tr>\n",
              "      <th>0</th>\n",
              "      <td>1</td>\n",
              "      <td>21.0</td>\n",
              "      <td>23.9</td>\n",
              "      <td>39.0</td>\n",
              "    </tr>\n",
              "    <tr>\n",
              "      <th>1</th>\n",
              "      <td>1</td>\n",
              "      <td>21.0</td>\n",
              "      <td>23.9</td>\n",
              "      <td>81.0</td>\n",
              "    </tr>\n",
              "    <tr>\n",
              "      <th>2</th>\n",
              "      <td>0</td>\n",
              "      <td>21.0</td>\n",
              "      <td>23.9</td>\n",
              "      <td>13.0</td>\n",
              "    </tr>\n",
              "    <tr>\n",
              "      <th>3</th>\n",
              "      <td>0</td>\n",
              "      <td>23.0</td>\n",
              "      <td>23.9</td>\n",
              "      <td>77.0</td>\n",
              "    </tr>\n",
              "    <tr>\n",
              "      <th>4</th>\n",
              "      <td>0</td>\n",
              "      <td>31.0</td>\n",
              "      <td>23.9</td>\n",
              "      <td>40.0</td>\n",
              "    </tr>\n",
              "  </tbody>\n",
              "</table>\n",
              "</div>\n",
              "      <button class=\"colab-df-convert\" onclick=\"convertToInteractive('df-e5506d7d-3f28-433e-b1a8-fe162afe6930')\"\n",
              "              title=\"Convert this dataframe to an interactive table.\"\n",
              "              style=\"display:none;\">\n",
              "        \n",
              "  <svg xmlns=\"http://www.w3.org/2000/svg\" height=\"24px\"viewBox=\"0 0 24 24\"\n",
              "       width=\"24px\">\n",
              "    <path d=\"M0 0h24v24H0V0z\" fill=\"none\"/>\n",
              "    <path d=\"M18.56 5.44l.94 2.06.94-2.06 2.06-.94-2.06-.94-.94-2.06-.94 2.06-2.06.94zm-11 1L8.5 8.5l.94-2.06 2.06-.94-2.06-.94L8.5 2.5l-.94 2.06-2.06.94zm10 10l.94 2.06.94-2.06 2.06-.94-2.06-.94-.94-2.06-.94 2.06-2.06.94z\"/><path d=\"M17.41 7.96l-1.37-1.37c-.4-.4-.92-.59-1.43-.59-.52 0-1.04.2-1.43.59L10.3 9.45l-7.72 7.72c-.78.78-.78 2.05 0 2.83L4 21.41c.39.39.9.59 1.41.59.51 0 1.02-.2 1.41-.59l7.78-7.78 2.81-2.81c.8-.78.8-2.07 0-2.86zM5.41 20L4 18.59l7.72-7.72 1.47 1.35L5.41 20z\"/>\n",
              "  </svg>\n",
              "      </button>\n",
              "      \n",
              "  <style>\n",
              "    .colab-df-container {\n",
              "      display:flex;\n",
              "      flex-wrap:wrap;\n",
              "      gap: 12px;\n",
              "    }\n",
              "\n",
              "    .colab-df-convert {\n",
              "      background-color: #E8F0FE;\n",
              "      border: none;\n",
              "      border-radius: 50%;\n",
              "      cursor: pointer;\n",
              "      display: none;\n",
              "      fill: #1967D2;\n",
              "      height: 32px;\n",
              "      padding: 0 0 0 0;\n",
              "      width: 32px;\n",
              "    }\n",
              "\n",
              "    .colab-df-convert:hover {\n",
              "      background-color: #E2EBFA;\n",
              "      box-shadow: 0px 1px 2px rgba(60, 64, 67, 0.3), 0px 1px 3px 1px rgba(60, 64, 67, 0.15);\n",
              "      fill: #174EA6;\n",
              "    }\n",
              "\n",
              "    [theme=dark] .colab-df-convert {\n",
              "      background-color: #3B4455;\n",
              "      fill: #D2E3FC;\n",
              "    }\n",
              "\n",
              "    [theme=dark] .colab-df-convert:hover {\n",
              "      background-color: #434B5C;\n",
              "      box-shadow: 0px 1px 3px 1px rgba(0, 0, 0, 0.15);\n",
              "      filter: drop-shadow(0px 1px 2px rgba(0, 0, 0, 0.3));\n",
              "      fill: #FFFFFF;\n",
              "    }\n",
              "  </style>\n",
              "\n",
              "      <script>\n",
              "        const buttonEl =\n",
              "          document.querySelector('#df-e5506d7d-3f28-433e-b1a8-fe162afe6930 button.colab-df-convert');\n",
              "        buttonEl.style.display =\n",
              "          google.colab.kernel.accessAllowed ? 'block' : 'none';\n",
              "\n",
              "        async function convertToInteractive(key) {\n",
              "          const element = document.querySelector('#df-e5506d7d-3f28-433e-b1a8-fe162afe6930');\n",
              "          const dataTable =\n",
              "            await google.colab.kernel.invokeFunction('convertToInteractive',\n",
              "                                                     [key], {});\n",
              "          if (!dataTable) return;\n",
              "\n",
              "          const docLinkHtml = 'Like what you see? Visit the ' +\n",
              "            '<a target=\"_blank\" href=https://colab.research.google.com/notebooks/data_table.ipynb>data table notebook</a>'\n",
              "            + ' to learn more about interactive tables.';\n",
              "          element.innerHTML = '';\n",
              "          dataTable['output_type'] = 'display_data';\n",
              "          await google.colab.output.renderOutput(dataTable, element);\n",
              "          const docLink = document.createElement('div');\n",
              "          docLink.innerHTML = docLinkHtml;\n",
              "          element.appendChild(docLink);\n",
              "        }\n",
              "      </script>\n",
              "    </div>\n",
              "  </div>\n",
              "  "
            ]
          },
          "metadata": {},
          "execution_count": 32
        }
      ]
    },
    {
      "cell_type": "markdown",
      "source": [
        "#Dependent Variables\n"
      ],
      "metadata": {
        "id": "bwLkT7GmLPH4"
      }
    },
    {
      "cell_type": "code",
      "source": [
        "df1=df['pred_cluster']\n",
        "df1"
      ],
      "metadata": {
        "colab": {
          "base_uri": "https://localhost:8080/"
        },
        "id": "l--_8tqSLX7M",
        "outputId": "81fbf086-5a0d-4650-aefd-47171408d204"
      },
      "execution_count": 33,
      "outputs": [
        {
          "output_type": "execute_result",
          "data": {
            "text/plain": [
              "0      2\n",
              "1      2\n",
              "2      0\n",
              "3      2\n",
              "4      0\n",
              "      ..\n",
              "195    2\n",
              "196    0\n",
              "197    2\n",
              "198    1\n",
              "199    2\n",
              "Name: pred_cluster, Length: 200, dtype: int32"
            ]
          },
          "metadata": {},
          "execution_count": 33
        }
      ]
    },
    {
      "cell_type": "markdown",
      "source": [
        "#Scaling Variables\n"
      ],
      "metadata": {
        "id": "qZpb1BEBLgpR"
      }
    },
    {
      "cell_type": "code",
      "source": [
        "import pandas as pd\n",
        "from sklearn.preprocessing import StandardScaler\n",
        "scaler=StandardScaler()\n",
        "scaled=scaler.fit_transform(df)\n",
        "print(scaled)\n"
      ],
      "metadata": {
        "colab": {
          "base_uri": "https://localhost:8080/"
        },
        "id": "pczODhskLqn6",
        "outputId": "bd3b1dda-fb89-4c2a-bce4-d78250983435"
      },
      "execution_count": 34,
      "outputs": [
        {
          "output_type": "stream",
          "name": "stdout",
          "text": [
            "[[ 1.12815215 -1.39030724 -1.599128   -0.47229142  1.02755996]\n",
            " [ 1.12815215 -1.39030724 -1.599128    1.28936397  1.02755996]\n",
            " [-0.88640526 -1.39030724 -1.599128   -1.56284    -1.29460945]\n",
            " [-0.88640526 -1.2301336  -1.599128    1.12158726  1.02755996]\n",
            " [-0.88640526 -0.58943902 -1.599128   -0.43034725 -1.29460945]\n",
            " [-0.88640526 -1.31022042 -1.599128    1.07964309  1.02755996]\n",
            " [-0.88640526 -0.26909172 -1.599128   -1.56284    -1.29460945]\n",
            " [-0.88640526 -1.2301336  -1.599128    1.54522344  1.02755996]\n",
            " [ 1.12815215  1.6610007  -1.599128   -1.56284    -0.13352474]\n",
            " [-0.88640526 -0.66952584 -1.599128    0.91186639  1.02755996]\n",
            " [ 1.12815215  1.6610007  -1.599128   -1.52089582 -0.13352474]\n",
            " [-0.88640526 -0.26909172 -1.599128    1.54522344  1.02755996]\n",
            " [-0.88640526  1.5729052  -1.599128   -1.47895164 -1.29460945]\n",
            " [-0.88640526 -1.15004677 -1.599128    1.12158726  1.02755996]\n",
            " [ 1.12815215 -0.10891808 -1.599128   -1.56284    -0.13352474]\n",
            " [ 1.12815215 -1.31022042 -1.599128    1.20547562  1.02755996]\n",
            " [-0.88640526 -0.26909172 -1.599128   -0.64006812 -1.29460945]\n",
            " [ 1.12815215 -1.39030724 -1.599128    0.66020133  1.02755996]\n",
            " [ 1.12815215  1.09238426 -1.599128   -0.89173318 -0.13352474]\n",
            " [-0.88640526 -0.26909172 -1.599128    1.54522344  1.02755996]\n",
            " [ 1.12815215 -0.26909172 -1.59462848 -0.64006812 -0.13352474]\n",
            " [ 1.12815215 -1.06995995 -1.59462848  0.95381056  1.02755996]\n",
            " [-0.88640526  0.61186333 -1.54963332 -1.56284    -1.29460945]\n",
            " [ 1.12815215 -0.58943902 -1.54963332  0.95381056  1.02755996]\n",
            " [-0.88640526  1.25255791 -1.41464784 -1.52089582 -1.29460945]\n",
            " [ 1.12815215 -0.74961266 -1.41464784  1.33130814  1.02755996]\n",
            " [-0.88640526  0.5317765  -1.41464784 -0.76590065 -1.29460945]\n",
            " [ 1.12815215 -0.26909172 -1.41464784  0.45048045  1.02755996]\n",
            " [-0.88640526  0.13134239 -1.36965268 -0.80784483 -1.29460945]\n",
            " [-0.88640526 -1.2301336  -1.36965268  1.54102902  1.02755996]\n",
            " [ 1.12815215  1.6610007  -1.32465752 -1.56284    -0.13352474]\n",
            " [-0.88640526 -1.39030724 -1.32465752  0.95381056  1.02755996]\n",
            " [ 1.12815215  1.17247108 -1.18967204 -1.56284    -0.13352474]\n",
            " [ 1.12815215 -1.39030724 -1.18967204  1.54522344  1.02755996]\n",
            " [-0.88640526  0.85212379 -1.18967204 -1.52089582 -1.29460945]\n",
            " [-0.88640526 -1.39030724 -1.18967204  1.28936397  1.02755996]\n",
            " [-0.88640526  0.29151603 -1.14467688 -1.39506329 -1.29460945]\n",
            " [-0.88640526 -0.66952584 -1.14467688  0.95381056  1.02755996]\n",
            " [-0.88640526 -0.1890049  -1.0096914  -1.01756571 -1.29460945]\n",
            " [-0.88640526 -1.39030724 -1.0096914   1.03769891  1.02755996]\n",
            " [-0.88640526  1.6610007  -0.96469624 -0.64006812 -1.29460945]\n",
            " [ 1.12815215 -1.15004677 -0.96469624  1.54522344  1.02755996]\n",
            " [ 1.12815215  0.77203697 -0.91970108 -0.59812395 -0.13352474]\n",
            " [-0.88640526 -0.58943902 -0.91970108  0.45048045  1.02755996]\n",
            " [-0.88640526  0.85212379 -0.91970108 -0.93367736 -1.29460945]\n",
            " [-0.88640526 -1.15004677 -0.91970108  0.61825715  1.02755996]\n",
            " [-0.88640526  0.93221062 -0.87470592  0.19881539 -1.29460945]\n",
            " [-0.88640526 -0.90978631 -0.87470592 -0.13673801  1.02755996]\n",
            " [-0.88640526 -0.74961266 -0.87470592 -0.34645889 -1.29460945]\n",
            " [-0.88640526 -0.58943902 -0.87470592 -0.34645889 -1.29460945]\n",
            " [-0.88640526  0.85212379 -0.78471559  0.07298287 -1.29460945]\n",
            " [ 1.12815215 -0.42926537 -0.78471559  0.40853627  1.02755996]\n",
            " [-0.88640526 -0.58943902 -0.73972043  0.15687122  1.02755996]\n",
            " [ 1.12815215  1.65299202 -0.73972043  0.40853627 -0.13352474]\n",
            " [-0.88640526  0.93221062 -0.73972043 -0.22062637 -1.29460945]\n",
            " [ 1.12815215  0.69195015 -0.73972043 -0.38840307 -0.13352474]\n",
            " [-0.88640526  1.01229744 -0.69472527 -0.01090549 -1.29460945]\n",
            " [ 1.12815215  1.6610007  -0.69472527 -0.17868219 -0.13352474]\n",
            " [-0.88640526 -0.90978631 -0.60473495  0.03103869  1.02755996]\n",
            " [ 1.12815215  1.17247108 -0.60473495 -0.17868219 -0.13352474]\n",
            " [ 1.12815215  1.6610007  -0.60473495  0.24075957 -0.13352474]\n",
            " [ 1.12815215 -1.39030724 -0.60473495  0.19881539  1.02755996]\n",
            " [-0.88640526  1.6610007  -0.55973979  0.07298287 -1.29460945]\n",
            " [-0.88640526  1.25255791 -0.55973979  0.3665921  -1.29460945]\n",
            " [ 1.12815215  1.6610007  -0.51474463  0.03103869 -0.13352474]\n",
            " [ 1.12815215 -1.39030724 -0.51474463  0.3665921   1.02755996]\n",
            " [-0.88640526  0.37160286 -0.51474463 -0.01090549 -1.29460945]\n",
            " [-0.88640526  1.6610007  -0.51474463 -0.09479384 -1.29460945]\n",
            " [ 1.12815215 -1.39030724 -0.51474463  0.3665921   1.02755996]\n",
            " [-0.88640526 -0.50935219 -0.51474463 -0.13673801 -1.29460945]\n",
            " [ 1.12815215  1.6610007  -0.46974947  0.19881539 -0.13352474]\n",
            " [-0.88640526  0.69195015 -0.46974947 -0.34645889 -1.29460945]\n",
            " [-0.88640526  1.6610007  -0.42475431 -0.05284966 -1.29460945]\n",
            " [-0.88640526  1.6610007  -0.42475431  0.24075957 -1.29460945]\n",
            " [ 1.12815215  1.65299202 -0.24477367 -0.13673801 -0.13352474]\n",
            " [ 1.12815215 -0.98987313 -0.24477367  0.15687122  1.02755996]\n",
            " [-0.88640526  0.5317765  -0.24477367  0.11492704 -1.29460945]\n",
            " [ 1.12815215  0.13134239 -0.24477367 -0.09479384 -0.13352474]\n",
            " [-0.88640526 -1.2301336  -0.24477367  0.07298287  1.02755996]\n",
            " [-0.88640526  0.85212379 -0.24477367 -0.34645889 -1.29460945]\n",
            " [ 1.12815215  1.49281838 -0.24477367  0.03103869 -0.13352474]\n",
            " [ 1.12815215 -0.02883126 -0.24477367  0.19881539 -0.13352474]\n",
            " [ 1.12815215  1.6610007  -0.24477367 -0.38840307 -0.13352474]\n",
            " [-0.88640526  0.61186333 -0.24477367 -0.26257054 -1.29460945]\n",
            " [-0.88640526 -1.39030724 -0.24477367  0.28270375  1.02755996]\n",
            " [ 1.12815215  0.77203697 -0.24477367 -0.17868219 -0.13352474]\n",
            " [-0.88640526  1.33264473 -0.10978819  0.32464792 -1.29460945]\n",
            " [-0.88640526 -1.31022042 -0.10978819  0.19881539  1.02755996]\n",
            " [-0.88640526 -0.34917855 -0.06479303  0.40853627  1.02755996]\n",
            " [-0.88640526  0.93221062 -0.06479303 -0.17868219 -1.29460945]\n",
            " [-0.88640526  1.6610007  -0.01979787  0.19881539 -1.29460945]\n",
            " [ 1.12815215 -1.39030724 -0.01979787 -0.38840307  1.02755996]\n",
            " [ 1.12815215  0.77203697  0.02519729 -0.05284966 -0.13352474]\n",
            " [-0.88640526  0.13134239  0.02519729 -0.43034725 -1.29460945]\n",
            " [-0.88640526 -0.50935219  0.02519729 -0.34645889 -1.29460945]\n",
            " [ 1.12815215 -1.15004677  0.02519729  0.07298287  1.02755996]\n",
            " [-0.88640526  0.69195015  0.02519729 -0.13673801 -1.29460945]\n",
            " [-0.88640526 -0.90978631  0.02519729 -0.01090549  1.02755996]\n",
            " [ 1.12815215  0.77203697  0.07019245 -0.34645889 -0.13352474]\n",
            " [ 1.12815215 -1.39030724  0.07019245 -0.05284966  1.02755996]\n",
            " [-0.88640526 -1.2301336   0.11518761 -0.38840307  1.02755996]\n",
            " [-0.88640526  0.85212379  0.11518761 -0.09479384 -1.29460945]\n",
            " [ 1.12815215  1.6610007   0.11518761  0.3665921  -0.13352474]\n",
            " [ 1.12815215 -0.98987313  0.11518761  0.19881539  1.02755996]\n",
            " [ 1.12815215  0.85212379  0.11518761  0.24075957 -0.13352474]\n",
            " [-0.88640526 -1.39030724  0.11518761 -0.34645889  1.02755996]\n",
            " [-0.88640526  1.6610007   0.16018277 -0.01090549 -1.29460945]\n",
            " [ 1.12815215  1.25255791  0.16018277 -0.17868219 -0.13352474]\n",
            " [ 1.12815215  1.6610007   0.16018277 -0.30451472 -0.13352474]\n",
            " [ 1.12815215  1.6610007   0.16018277 -0.09479384 -0.13352474]\n",
            " [ 1.12815215  1.6610007   0.16018277  0.07298287 -0.13352474]\n",
            " [-0.88640526 -1.39030724  0.16018277  0.15687122  1.02755996]\n",
            " [-0.88640526 -0.02883126  0.20517793 -0.34645889 -1.29460945]\n",
            " [ 1.12815215 -1.39030724  0.20517793 -0.17868219  1.02755996]\n",
            " [-0.88640526 -1.39030724  0.25017309 -0.09479384  1.02755996]\n",
            " [-0.88640526 -1.39030724  0.25017309 -0.01090549  1.02755996]\n",
            " [-0.88640526  1.6610007   0.25017309 -0.30451472 -1.29460945]\n",
            " [-0.88640526  0.85212379  0.25017309  0.3665921  -1.29460945]\n",
            " [-0.88640526  1.01229744  0.34016341 -0.30451472 -1.29460945]\n",
            " [-0.88640526  0.93221062  0.34016341  0.28270375 -1.29460945]\n",
            " [ 1.12815215 -0.90978631  0.34016341  0.24075957  1.02755996]\n",
            " [-0.88640526 -0.02883126  0.34016341 -0.43034725 -1.29460945]\n",
            " [-0.88640526  0.13134239  0.43015373  0.32464792 -1.29460945]\n",
            " [ 1.12815215  0.05125557  0.43015373  1.54522344  1.02755996]\n",
            " [-0.88640526 -1.2301336   0.47514889 -0.89173318 -1.29460945]\n",
            " [-0.88640526 -0.58943902  0.47514889  1.12158726  1.02755996]\n",
            " [ 1.12815215  0.37160286  0.52014405 -0.64006812 -0.13352474]\n",
            " [ 1.12815215  0.13134239  0.52014405  1.54522344  1.02755996]\n",
            " [ 1.12815215  1.65299202  0.52014405 -1.56284    -0.13352474]\n",
            " [ 1.12815215 -0.02883126  0.52014405  1.03769891  1.02755996]\n",
            " [ 1.12815215  0.69195015  0.52014405 -1.56284    -0.13352474]\n",
            " [ 1.12815215  0.05125557  0.52014405  1.03769891  1.02755996]\n",
            " [-0.88640526 -1.06995995  0.56513921 -0.6820123  -1.29460945]\n",
            " [-0.88640526 -0.58943902  0.56513921  0.86992221  1.02755996]\n",
            " [ 1.12815215 -1.39030724  0.61013437 -1.56284    -0.13352474]\n",
            " [-0.88640526 -0.74961266  0.61013437  1.54522344  1.02755996]\n",
            " [-0.88640526  0.45168968  0.61013437 -1.56284    -1.29460945]\n",
            " [ 1.12815215 -0.50935219  0.61013437  0.95381056  1.02755996]\n",
            " [ 1.12815215 -1.39030724  0.65512953 -1.56284    -0.13352474]\n",
            " [-0.88640526 -0.26909172  0.65512953  0.91186639  1.02755996]\n",
            " [-0.88640526  1.49281838  0.70012469 -1.56284    -1.29460945]\n",
            " [ 1.12815215 -0.50935219  0.70012469  1.54522344  1.02755996]\n",
            " [-0.88640526 -0.82969948  0.74511985 -0.43034725 -1.29460945]\n",
            " [-0.88640526 -0.50935219  0.74511985  1.54102902  1.02755996]\n",
            " [ 1.12815215 -1.06995995  0.79011501 -1.56284    -0.13352474]\n",
            " [ 1.12815215 -0.82969948  0.79011501  1.54522344  1.02755996]\n",
            " [ 1.12815215  0.77203697  0.79011501 -0.59812395 -0.13352474]\n",
            " [-0.88640526 -0.50935219  0.79011501  0.99575474  1.02755996]\n",
            " [-0.88640526 -0.34917855  0.83511017 -1.18534241 -1.29460945]\n",
            " [ 1.12815215 -0.34917855  0.83511017  1.54522344  1.02755996]\n",
            " [ 1.12815215  0.37160286  0.83511017 -1.39506329 -0.13352474]\n",
            " [ 1.12815215  0.05125557  0.83511017  1.54522344  1.02755996]\n",
            " [-0.88640526  0.45168968  0.83511017 -1.26923076 -1.29460945]\n",
            " [-0.88640526 -0.02883126  0.83511017  1.07964309  1.02755996]\n",
            " [-0.88640526  0.69195015  0.83511017 -1.43700747 -1.29460945]\n",
            " [-0.88640526 -0.90978631  0.83511017  1.54522344  1.02755996]\n",
            " [ 1.12815215 -0.10891808  0.83511017 -1.56284    -0.13352474]\n",
            " [-0.88640526 -0.66952584  0.83511017  1.16353144  1.02755996]\n",
            " [ 1.12815215 -0.34917855  0.83511017 -1.56284    -0.13352474]\n",
            " [-0.88640526 -0.66952584  0.83511017  0.95381056  1.02755996]\n",
            " [-0.88640526  1.41273155  0.88010533 -0.64006812 -1.29460945]\n",
            " [-0.88640526 -0.74961266  0.88010533  1.37325232  1.02755996]\n",
            " [ 1.12815215 -1.39030724  0.97009565 -1.56284    -0.13352474]\n",
            " [-0.88640526 -0.58943902  0.97009565  1.54522344  1.02755996]\n",
            " [ 1.12815215  0.93221062  1.1500763  -1.01756571 -0.13352474]\n",
            " [-0.88640526 -0.1890049   1.1500763   1.03769891  1.02755996]\n",
            " [ 1.12815215  0.29151603  1.19507146 -1.26923076 -0.13352474]\n",
            " [-0.88640526 -0.42926537  1.19507146  1.54522344  1.02755996]\n",
            " [-0.88640526 -0.1890049   1.24006662 -0.97562153 -1.29460945]\n",
            " [ 1.12815215 -0.50935219  1.24006662  0.5343688   1.02755996]\n",
            " [ 1.12815215  0.13134239  1.24006662 -1.56284    -0.13352474]\n",
            " [ 1.12815215 -0.82969948  1.24006662  1.03769891  1.02755996]\n",
            " [ 1.12815215 -0.1890049   1.24006662 -1.56284    -0.13352474]\n",
            " [ 1.12815215 -0.1890049   1.24006662  1.54522344  1.02755996]\n",
            " [-0.88640526  1.09238426  1.28506178 -1.56284    -1.29460945]\n",
            " [-0.88640526 -0.66952584  1.28506178  1.49908485  1.02755996]\n",
            " [ 1.12815215  1.5729052   1.28506178 -1.47895164 -0.13352474]\n",
            " [ 1.12815215 -0.90978631  1.28506178  0.78603386  1.02755996]\n",
            " [ 1.12815215  1.65299202  1.51003758 -1.52089582 -0.13352474]\n",
            " [ 1.12815215 -0.26909172  1.51003758  1.54522344  1.02755996]\n",
            " [-0.88640526 -0.10891808  1.52803564 -0.76590065 -1.29460945]\n",
            " [-0.88640526 -0.50935219  1.52803564  1.49908485  1.02755996]\n",
            " [ 1.12815215  0.61186333  1.52803564 -1.47895164 -0.13352474]\n",
            " [-0.88640526 -0.74961266  1.52803564  1.54522344  1.02755996]\n",
            " [-0.88640526  0.21142921  1.52803564 -0.47229142 -1.29460945]\n",
            " [ 1.12815215 -0.66952584  1.52803564  1.54522344  1.02755996]\n",
            " [-0.88640526  1.25255791  1.52803564 -1.10145406 -1.29460945]\n",
            " [ 1.12815215 -0.82969948  1.52803564  0.74408968  1.02755996]\n",
            " [-0.88640526  0.21142921  1.52803564 -1.39506329 -1.29460945]\n",
            " [-0.88640526 -0.1890049   1.52803564  1.45714067  1.02755996]\n",
            " [-0.88640526 -0.34917855  1.52803564 -1.14339824 -1.29460945]\n",
            " [-0.88640526 -0.50935219  1.52803564  0.78603386  1.02755996]\n",
            " [ 1.12815215 -0.42926537  1.52803564 -1.56284    -0.13352474]\n",
            " [-0.88640526 -0.02883126  1.52803564  1.54522344  1.02755996]\n",
            " [-0.88640526  0.69195015  1.52803564 -1.43700747 -1.29460945]\n",
            " [-0.88640526 -0.26909172  1.52803564  1.20547562  1.02755996]\n",
            " [-0.88640526  0.5317765   1.52803564 -0.93367736 -1.29460945]\n",
            " [ 1.12815215 -0.50935219  1.52803564  0.99575474  1.02755996]\n",
            " [ 1.12815215 -0.50935219  1.52803564 -1.35311912 -0.13352474]\n",
            " [ 1.12815215 -0.66952584  1.52803564  1.37325232  1.02755996]]\n"
          ]
        }
      ]
    },
    {
      "cell_type": "markdown",
      "source": [
        "#Splitting Dataset"
      ],
      "metadata": {
        "id": "PfrNHTQJMJyA"
      }
    },
    {
      "cell_type": "code",
      "source": [
        "import numpy as np\n",
        "from sklearn.model_selection import train_test_split\n",
        "y=df['pred_cluster'].to_numpy()\n",
        "X_train,X_test,y_train,y_test=train_test_split(scaled,y,test_size=0.10,random_state=42)\n"
      ],
      "metadata": {
        "id": "FZFNPLmcMLYR"
      },
      "execution_count": 35,
      "outputs": []
    },
    {
      "cell_type": "code",
      "source": [
        "X_train.shape"
      ],
      "metadata": {
        "colab": {
          "base_uri": "https://localhost:8080/"
        },
        "id": "sQj7De1uNRt1",
        "outputId": "7783a2d2-044e-4680-9949-91246d753186"
      },
      "execution_count": 36,
      "outputs": [
        {
          "output_type": "execute_result",
          "data": {
            "text/plain": [
              "(180, 5)"
            ]
          },
          "metadata": {},
          "execution_count": 36
        }
      ]
    },
    {
      "cell_type": "code",
      "source": [
        "X_test.shape"
      ],
      "metadata": {
        "colab": {
          "base_uri": "https://localhost:8080/"
        },
        "id": "qi5SiTgONYWs",
        "outputId": "ceb6cb56-fe5a-4b9d-f0a1-8c0ee3ba805c"
      },
      "execution_count": 37,
      "outputs": [
        {
          "output_type": "execute_result",
          "data": {
            "text/plain": [
              "(20, 5)"
            ]
          },
          "metadata": {},
          "execution_count": 37
        }
      ]
    },
    {
      "cell_type": "code",
      "source": [
        "y_train.shape"
      ],
      "metadata": {
        "colab": {
          "base_uri": "https://localhost:8080/"
        },
        "id": "yr1wWxatNf5F",
        "outputId": "5a4be82d-be10-4347-ad98-8a012ecfeb89"
      },
      "execution_count": 38,
      "outputs": [
        {
          "output_type": "execute_result",
          "data": {
            "text/plain": [
              "(180,)"
            ]
          },
          "metadata": {},
          "execution_count": 38
        }
      ]
    },
    {
      "cell_type": "code",
      "source": [
        "y_test.shape"
      ],
      "metadata": {
        "colab": {
          "base_uri": "https://localhost:8080/"
        },
        "id": "mT7BeJ7sNmyB",
        "outputId": "f70f03b7-7c7d-4d6b-c784-add60d1c3459"
      },
      "execution_count": 39,
      "outputs": [
        {
          "output_type": "execute_result",
          "data": {
            "text/plain": [
              "(20,)"
            ]
          },
          "metadata": {},
          "execution_count": 39
        }
      ]
    },
    {
      "cell_type": "markdown",
      "source": [
        "#Training the model"
      ],
      "metadata": {
        "id": "-jFkxwBCNwO5"
      }
    },
    {
      "cell_type": "code",
      "source": [
        "from sklearn.svm import SVR\n",
        "regrassor=SVR(kernel='rbf')\n",
        "regrassor.fit(X_train,y_train)"
      ],
      "metadata": {
        "colab": {
          "base_uri": "https://localhost:8080/"
        },
        "id": "RLOO9oQ1Nxpt",
        "outputId": "5982b311-ac7c-40bc-8d26-509addf80cb0"
      },
      "execution_count": 40,
      "outputs": [
        {
          "output_type": "execute_result",
          "data": {
            "text/plain": [
              "SVR()"
            ]
          },
          "metadata": {},
          "execution_count": 40
        }
      ]
    },
    {
      "cell_type": "markdown",
      "source": [
        "#Testing the model"
      ],
      "metadata": {
        "id": "VYQTI0qSOCEQ"
      }
    },
    {
      "cell_type": "code",
      "source": [
        "y_pred=regrassor.predict((X_test))"
      ],
      "metadata": {
        "id": "A1bzTGylODYg"
      },
      "execution_count": 41,
      "outputs": []
    },
    {
      "cell_type": "code",
      "source": [
        "df3=pd.DataFrame({'Predicted value':y_pred,'Real Value':y_test})\n",
        "df3"
      ],
      "metadata": {
        "colab": {
          "base_uri": "https://localhost:8080/",
          "height": 677
        },
        "id": "uO39H7JHOPlg",
        "outputId": "bbb0ae59-ef9a-44d7-bfa8-f35fa904022b"
      },
      "execution_count": 42,
      "outputs": [
        {
          "output_type": "execute_result",
          "data": {
            "text/plain": [
              "    Predicted value  Real Value\n",
              "0          1.995436           2\n",
              "1          1.928666           2\n",
              "2          0.902341           1\n",
              "3          0.954822           1\n",
              "4          0.910978           1\n",
              "5          1.983773           2\n",
              "6          0.051405           0\n",
              "7          0.925206           1\n",
              "8          0.114720           0\n",
              "9          2.060771           2\n",
              "10        -0.012951           0\n",
              "11         0.915137           1\n",
              "12         1.973112           2\n",
              "13         2.031281           2\n",
              "14         0.145908           0\n",
              "15         1.945083           2\n",
              "16        -0.005738           0\n",
              "17        -0.054180           0\n",
              "18         0.889485           1\n",
              "19         2.058152           2"
            ],
            "text/html": [
              "\n",
              "  <div id=\"df-4aef4248-0928-4cf5-bed2-a387c8a49578\">\n",
              "    <div class=\"colab-df-container\">\n",
              "      <div>\n",
              "<style scoped>\n",
              "    .dataframe tbody tr th:only-of-type {\n",
              "        vertical-align: middle;\n",
              "    }\n",
              "\n",
              "    .dataframe tbody tr th {\n",
              "        vertical-align: top;\n",
              "    }\n",
              "\n",
              "    .dataframe thead th {\n",
              "        text-align: right;\n",
              "    }\n",
              "</style>\n",
              "<table border=\"1\" class=\"dataframe\">\n",
              "  <thead>\n",
              "    <tr style=\"text-align: right;\">\n",
              "      <th></th>\n",
              "      <th>Predicted value</th>\n",
              "      <th>Real Value</th>\n",
              "    </tr>\n",
              "  </thead>\n",
              "  <tbody>\n",
              "    <tr>\n",
              "      <th>0</th>\n",
              "      <td>1.995436</td>\n",
              "      <td>2</td>\n",
              "    </tr>\n",
              "    <tr>\n",
              "      <th>1</th>\n",
              "      <td>1.928666</td>\n",
              "      <td>2</td>\n",
              "    </tr>\n",
              "    <tr>\n",
              "      <th>2</th>\n",
              "      <td>0.902341</td>\n",
              "      <td>1</td>\n",
              "    </tr>\n",
              "    <tr>\n",
              "      <th>3</th>\n",
              "      <td>0.954822</td>\n",
              "      <td>1</td>\n",
              "    </tr>\n",
              "    <tr>\n",
              "      <th>4</th>\n",
              "      <td>0.910978</td>\n",
              "      <td>1</td>\n",
              "    </tr>\n",
              "    <tr>\n",
              "      <th>5</th>\n",
              "      <td>1.983773</td>\n",
              "      <td>2</td>\n",
              "    </tr>\n",
              "    <tr>\n",
              "      <th>6</th>\n",
              "      <td>0.051405</td>\n",
              "      <td>0</td>\n",
              "    </tr>\n",
              "    <tr>\n",
              "      <th>7</th>\n",
              "      <td>0.925206</td>\n",
              "      <td>1</td>\n",
              "    </tr>\n",
              "    <tr>\n",
              "      <th>8</th>\n",
              "      <td>0.114720</td>\n",
              "      <td>0</td>\n",
              "    </tr>\n",
              "    <tr>\n",
              "      <th>9</th>\n",
              "      <td>2.060771</td>\n",
              "      <td>2</td>\n",
              "    </tr>\n",
              "    <tr>\n",
              "      <th>10</th>\n",
              "      <td>-0.012951</td>\n",
              "      <td>0</td>\n",
              "    </tr>\n",
              "    <tr>\n",
              "      <th>11</th>\n",
              "      <td>0.915137</td>\n",
              "      <td>1</td>\n",
              "    </tr>\n",
              "    <tr>\n",
              "      <th>12</th>\n",
              "      <td>1.973112</td>\n",
              "      <td>2</td>\n",
              "    </tr>\n",
              "    <tr>\n",
              "      <th>13</th>\n",
              "      <td>2.031281</td>\n",
              "      <td>2</td>\n",
              "    </tr>\n",
              "    <tr>\n",
              "      <th>14</th>\n",
              "      <td>0.145908</td>\n",
              "      <td>0</td>\n",
              "    </tr>\n",
              "    <tr>\n",
              "      <th>15</th>\n",
              "      <td>1.945083</td>\n",
              "      <td>2</td>\n",
              "    </tr>\n",
              "    <tr>\n",
              "      <th>16</th>\n",
              "      <td>-0.005738</td>\n",
              "      <td>0</td>\n",
              "    </tr>\n",
              "    <tr>\n",
              "      <th>17</th>\n",
              "      <td>-0.054180</td>\n",
              "      <td>0</td>\n",
              "    </tr>\n",
              "    <tr>\n",
              "      <th>18</th>\n",
              "      <td>0.889485</td>\n",
              "      <td>1</td>\n",
              "    </tr>\n",
              "    <tr>\n",
              "      <th>19</th>\n",
              "      <td>2.058152</td>\n",
              "      <td>2</td>\n",
              "    </tr>\n",
              "  </tbody>\n",
              "</table>\n",
              "</div>\n",
              "      <button class=\"colab-df-convert\" onclick=\"convertToInteractive('df-4aef4248-0928-4cf5-bed2-a387c8a49578')\"\n",
              "              title=\"Convert this dataframe to an interactive table.\"\n",
              "              style=\"display:none;\">\n",
              "        \n",
              "  <svg xmlns=\"http://www.w3.org/2000/svg\" height=\"24px\"viewBox=\"0 0 24 24\"\n",
              "       width=\"24px\">\n",
              "    <path d=\"M0 0h24v24H0V0z\" fill=\"none\"/>\n",
              "    <path d=\"M18.56 5.44l.94 2.06.94-2.06 2.06-.94-2.06-.94-.94-2.06-.94 2.06-2.06.94zm-11 1L8.5 8.5l.94-2.06 2.06-.94-2.06-.94L8.5 2.5l-.94 2.06-2.06.94zm10 10l.94 2.06.94-2.06 2.06-.94-2.06-.94-.94-2.06-.94 2.06-2.06.94z\"/><path d=\"M17.41 7.96l-1.37-1.37c-.4-.4-.92-.59-1.43-.59-.52 0-1.04.2-1.43.59L10.3 9.45l-7.72 7.72c-.78.78-.78 2.05 0 2.83L4 21.41c.39.39.9.59 1.41.59.51 0 1.02-.2 1.41-.59l7.78-7.78 2.81-2.81c.8-.78.8-2.07 0-2.86zM5.41 20L4 18.59l7.72-7.72 1.47 1.35L5.41 20z\"/>\n",
              "  </svg>\n",
              "      </button>\n",
              "      \n",
              "  <style>\n",
              "    .colab-df-container {\n",
              "      display:flex;\n",
              "      flex-wrap:wrap;\n",
              "      gap: 12px;\n",
              "    }\n",
              "\n",
              "    .colab-df-convert {\n",
              "      background-color: #E8F0FE;\n",
              "      border: none;\n",
              "      border-radius: 50%;\n",
              "      cursor: pointer;\n",
              "      display: none;\n",
              "      fill: #1967D2;\n",
              "      height: 32px;\n",
              "      padding: 0 0 0 0;\n",
              "      width: 32px;\n",
              "    }\n",
              "\n",
              "    .colab-df-convert:hover {\n",
              "      background-color: #E2EBFA;\n",
              "      box-shadow: 0px 1px 2px rgba(60, 64, 67, 0.3), 0px 1px 3px 1px rgba(60, 64, 67, 0.15);\n",
              "      fill: #174EA6;\n",
              "    }\n",
              "\n",
              "    [theme=dark] .colab-df-convert {\n",
              "      background-color: #3B4455;\n",
              "      fill: #D2E3FC;\n",
              "    }\n",
              "\n",
              "    [theme=dark] .colab-df-convert:hover {\n",
              "      background-color: #434B5C;\n",
              "      box-shadow: 0px 1px 3px 1px rgba(0, 0, 0, 0.15);\n",
              "      filter: drop-shadow(0px 1px 2px rgba(0, 0, 0, 0.3));\n",
              "      fill: #FFFFFF;\n",
              "    }\n",
              "  </style>\n",
              "\n",
              "      <script>\n",
              "        const buttonEl =\n",
              "          document.querySelector('#df-4aef4248-0928-4cf5-bed2-a387c8a49578 button.colab-df-convert');\n",
              "        buttonEl.style.display =\n",
              "          google.colab.kernel.accessAllowed ? 'block' : 'none';\n",
              "\n",
              "        async function convertToInteractive(key) {\n",
              "          const element = document.querySelector('#df-4aef4248-0928-4cf5-bed2-a387c8a49578');\n",
              "          const dataTable =\n",
              "            await google.colab.kernel.invokeFunction('convertToInteractive',\n",
              "                                                     [key], {});\n",
              "          if (!dataTable) return;\n",
              "\n",
              "          const docLinkHtml = 'Like what you see? Visit the ' +\n",
              "            '<a target=\"_blank\" href=https://colab.research.google.com/notebooks/data_table.ipynb>data table notebook</a>'\n",
              "            + ' to learn more about interactive tables.';\n",
              "          element.innerHTML = '';\n",
              "          dataTable['output_type'] = 'display_data';\n",
              "          await google.colab.output.renderOutput(dataTable, element);\n",
              "          const docLink = document.createElement('div');\n",
              "          docLink.innerHTML = docLinkHtml;\n",
              "          element.appendChild(docLink);\n",
              "        }\n",
              "      </script>\n",
              "    </div>\n",
              "  </div>\n",
              "  "
            ]
          },
          "metadata": {},
          "execution_count": 42
        }
      ]
    },
    {
      "cell_type": "markdown",
      "source": [
        "#performance metrics"
      ],
      "metadata": {
        "id": "2SrRrPF7Ocsf"
      }
    },
    {
      "cell_type": "code",
      "source": [
        "from sklearn.metrics import mean_squared_error\n",
        "import math\n",
        "print(mean_squared_error(y_test,y_pred))\n",
        "print(math.sqrt(mean_squared_error(y_test,y_pred)))"
      ],
      "metadata": {
        "colab": {
          "base_uri": "https://localhost:8080/"
        },
        "id": "WiHVqMJ9OjMv",
        "outputId": "e2b399df-e449-4511-8f31-9a533b5f5d50"
      },
      "execution_count": 43,
      "outputs": [
        {
          "output_type": "stream",
          "name": "stdout",
          "text": [
            "0.005095288181350071\n",
            "0.07138128733323651\n"
          ]
        }
      ]
    }
  ]
}